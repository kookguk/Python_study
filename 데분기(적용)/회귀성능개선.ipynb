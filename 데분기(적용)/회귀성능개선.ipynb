{
 "cells": [
  {
   "cell_type": "code",
   "execution_count": 1,
   "id": "53adcca2",
   "metadata": {},
   "outputs": [
    {
     "name": "stdout",
     "output_type": "stream",
     "text": [
      "   MedInc  HouseAge  AveRooms  AveBedrms  Population  AveOccup  Latitude  \\\n",
      "0  8.3252      41.0  6.984127   1.023810       322.0  2.555556     37.88   \n",
      "1  8.3014      21.0  6.238137   0.971880      2401.0  2.109842     37.86   \n",
      "2  7.2574      52.0  8.288136   1.073446       496.0  2.802260     37.85   \n",
      "3  5.6431      52.0  5.817352   1.073059       558.0  2.547945     37.85   \n",
      "4  3.8462      52.0  6.281853   1.081081       565.0  2.181467     37.85   \n",
      "\n",
      "   Longitude  MedHouseVal  \n",
      "0    -122.23        4.526  \n",
      "1    -122.22        3.585  \n",
      "2    -122.24        3.521  \n",
      "3    -122.25        3.413  \n",
      "4    -122.25        3.422  \n"
     ]
    }
   ],
   "source": [
    "import pandas as pd\n",
    "from sklearn.datasets import fetch_california_housing\n",
    "\n",
    "# 캘리포니아 주택 가격 데이터셋 로드\n",
    "california = fetch_california_housing()\n",
    "\n",
    "# 데이터와 타겟을 분리\n",
    "X = california.data\n",
    "y = california.target\n",
    "\n",
    "# 특성 이름 가져오기\n",
    "feature_names = california.feature_names\n",
    "\n",
    "# 데이터프레임 생성\n",
    "df = pd.DataFrame(X, columns=feature_names)\n",
    "df['MedHouseVal'] = y\n",
    "\n",
    "# 데이터프레임 출력\n",
    "print(df.head())\n"
   ]
  },
  {
   "cell_type": "code",
   "execution_count": 2,
   "id": "5e0b3a76",
   "metadata": {},
   "outputs": [
    {
     "data": {
      "text/html": [
       "<div>\n",
       "<style scoped>\n",
       "    .dataframe tbody tr th:only-of-type {\n",
       "        vertical-align: middle;\n",
       "    }\n",
       "\n",
       "    .dataframe tbody tr th {\n",
       "        vertical-align: top;\n",
       "    }\n",
       "\n",
       "    .dataframe thead th {\n",
       "        text-align: right;\n",
       "    }\n",
       "</style>\n",
       "<table border=\"1\" class=\"dataframe\">\n",
       "  <thead>\n",
       "    <tr style=\"text-align: right;\">\n",
       "      <th></th>\n",
       "      <th>MedInc</th>\n",
       "      <th>HouseAge</th>\n",
       "      <th>AveRooms</th>\n",
       "      <th>AveBedrms</th>\n",
       "      <th>Population</th>\n",
       "      <th>AveOccup</th>\n",
       "      <th>Latitude</th>\n",
       "      <th>Longitude</th>\n",
       "      <th>MedHouseVal</th>\n",
       "    </tr>\n",
       "  </thead>\n",
       "  <tbody>\n",
       "    <tr>\n",
       "      <th>0</th>\n",
       "      <td>8.3252</td>\n",
       "      <td>41.0</td>\n",
       "      <td>6.984127</td>\n",
       "      <td>1.023810</td>\n",
       "      <td>322.0</td>\n",
       "      <td>2.555556</td>\n",
       "      <td>37.88</td>\n",
       "      <td>-122.23</td>\n",
       "      <td>4.526</td>\n",
       "    </tr>\n",
       "    <tr>\n",
       "      <th>1</th>\n",
       "      <td>8.3014</td>\n",
       "      <td>21.0</td>\n",
       "      <td>6.238137</td>\n",
       "      <td>0.971880</td>\n",
       "      <td>2401.0</td>\n",
       "      <td>2.109842</td>\n",
       "      <td>37.86</td>\n",
       "      <td>-122.22</td>\n",
       "      <td>3.585</td>\n",
       "    </tr>\n",
       "    <tr>\n",
       "      <th>2</th>\n",
       "      <td>7.2574</td>\n",
       "      <td>52.0</td>\n",
       "      <td>8.288136</td>\n",
       "      <td>1.073446</td>\n",
       "      <td>496.0</td>\n",
       "      <td>2.802260</td>\n",
       "      <td>37.85</td>\n",
       "      <td>-122.24</td>\n",
       "      <td>3.521</td>\n",
       "    </tr>\n",
       "    <tr>\n",
       "      <th>3</th>\n",
       "      <td>5.6431</td>\n",
       "      <td>52.0</td>\n",
       "      <td>5.817352</td>\n",
       "      <td>1.073059</td>\n",
       "      <td>558.0</td>\n",
       "      <td>2.547945</td>\n",
       "      <td>37.85</td>\n",
       "      <td>-122.25</td>\n",
       "      <td>3.413</td>\n",
       "    </tr>\n",
       "    <tr>\n",
       "      <th>4</th>\n",
       "      <td>3.8462</td>\n",
       "      <td>52.0</td>\n",
       "      <td>6.281853</td>\n",
       "      <td>1.081081</td>\n",
       "      <td>565.0</td>\n",
       "      <td>2.181467</td>\n",
       "      <td>37.85</td>\n",
       "      <td>-122.25</td>\n",
       "      <td>3.422</td>\n",
       "    </tr>\n",
       "    <tr>\n",
       "      <th>...</th>\n",
       "      <td>...</td>\n",
       "      <td>...</td>\n",
       "      <td>...</td>\n",
       "      <td>...</td>\n",
       "      <td>...</td>\n",
       "      <td>...</td>\n",
       "      <td>...</td>\n",
       "      <td>...</td>\n",
       "      <td>...</td>\n",
       "    </tr>\n",
       "    <tr>\n",
       "      <th>20635</th>\n",
       "      <td>1.5603</td>\n",
       "      <td>25.0</td>\n",
       "      <td>5.045455</td>\n",
       "      <td>1.133333</td>\n",
       "      <td>845.0</td>\n",
       "      <td>2.560606</td>\n",
       "      <td>39.48</td>\n",
       "      <td>-121.09</td>\n",
       "      <td>0.781</td>\n",
       "    </tr>\n",
       "    <tr>\n",
       "      <th>20636</th>\n",
       "      <td>2.5568</td>\n",
       "      <td>18.0</td>\n",
       "      <td>6.114035</td>\n",
       "      <td>1.315789</td>\n",
       "      <td>356.0</td>\n",
       "      <td>3.122807</td>\n",
       "      <td>39.49</td>\n",
       "      <td>-121.21</td>\n",
       "      <td>0.771</td>\n",
       "    </tr>\n",
       "    <tr>\n",
       "      <th>20637</th>\n",
       "      <td>1.7000</td>\n",
       "      <td>17.0</td>\n",
       "      <td>5.205543</td>\n",
       "      <td>1.120092</td>\n",
       "      <td>1007.0</td>\n",
       "      <td>2.325635</td>\n",
       "      <td>39.43</td>\n",
       "      <td>-121.22</td>\n",
       "      <td>0.923</td>\n",
       "    </tr>\n",
       "    <tr>\n",
       "      <th>20638</th>\n",
       "      <td>1.8672</td>\n",
       "      <td>18.0</td>\n",
       "      <td>5.329513</td>\n",
       "      <td>1.171920</td>\n",
       "      <td>741.0</td>\n",
       "      <td>2.123209</td>\n",
       "      <td>39.43</td>\n",
       "      <td>-121.32</td>\n",
       "      <td>0.847</td>\n",
       "    </tr>\n",
       "    <tr>\n",
       "      <th>20639</th>\n",
       "      <td>2.3886</td>\n",
       "      <td>16.0</td>\n",
       "      <td>5.254717</td>\n",
       "      <td>1.162264</td>\n",
       "      <td>1387.0</td>\n",
       "      <td>2.616981</td>\n",
       "      <td>39.37</td>\n",
       "      <td>-121.24</td>\n",
       "      <td>0.894</td>\n",
       "    </tr>\n",
       "  </tbody>\n",
       "</table>\n",
       "<p>20640 rows × 9 columns</p>\n",
       "</div>"
      ],
      "text/plain": [
       "       MedInc  HouseAge  AveRooms  AveBedrms  Population  AveOccup  Latitude  \\\n",
       "0      8.3252      41.0  6.984127   1.023810       322.0  2.555556     37.88   \n",
       "1      8.3014      21.0  6.238137   0.971880      2401.0  2.109842     37.86   \n",
       "2      7.2574      52.0  8.288136   1.073446       496.0  2.802260     37.85   \n",
       "3      5.6431      52.0  5.817352   1.073059       558.0  2.547945     37.85   \n",
       "4      3.8462      52.0  6.281853   1.081081       565.0  2.181467     37.85   \n",
       "...       ...       ...       ...        ...         ...       ...       ...   \n",
       "20635  1.5603      25.0  5.045455   1.133333       845.0  2.560606     39.48   \n",
       "20636  2.5568      18.0  6.114035   1.315789       356.0  3.122807     39.49   \n",
       "20637  1.7000      17.0  5.205543   1.120092      1007.0  2.325635     39.43   \n",
       "20638  1.8672      18.0  5.329513   1.171920       741.0  2.123209     39.43   \n",
       "20639  2.3886      16.0  5.254717   1.162264      1387.0  2.616981     39.37   \n",
       "\n",
       "       Longitude  MedHouseVal  \n",
       "0        -122.23        4.526  \n",
       "1        -122.22        3.585  \n",
       "2        -122.24        3.521  \n",
       "3        -122.25        3.413  \n",
       "4        -122.25        3.422  \n",
       "...          ...          ...  \n",
       "20635    -121.09        0.781  \n",
       "20636    -121.21        0.771  \n",
       "20637    -121.22        0.923  \n",
       "20638    -121.32        0.847  \n",
       "20639    -121.24        0.894  \n",
       "\n",
       "[20640 rows x 9 columns]"
      ]
     },
     "execution_count": 2,
     "metadata": {},
     "output_type": "execute_result"
    }
   ],
   "source": [
    "df"
   ]
  },
  {
   "cell_type": "markdown",
   "id": "b5ce1e1c",
   "metadata": {},
   "source": [
    "### 캘리포니아 집값의 데이터셋, 회귀분석을 진행할 예정, 우리가 그동안 배운 전처리 방법을 사용하여 실제 성능이 개선되는지 확인\n",
    "- 하나씩 배운 것들 단계별로 적용할 예정입니다.\n",
    "- 피처 선정, 피처 전처리 등등 이런 것을 사용할 예정\n",
    "\n",
    "- 캘리포니아 데이터셋 피처 \n",
    "    - Medinc :지역내 중간소득 \n",
    "    - HouseAge : 지녁 내 주택연식의 중앙값\n",
    "    - AveRooms :  가구당 평균 객실 수\n",
    "    - AveBedrms : 가구당 평균 침실 수\n",
    "    - Population : 지역 인구 수\n",
    "    - AveOccup 가구당 평균 인원 수\n",
    "    - Latitude 위도\n",
    "    - Longitude 경도\n",
    "    \n",
    "    - MedHouseVal 타겟값"
   ]
  },
  {
   "cell_type": "code",
   "execution_count": 14,
   "id": "761f732b",
   "metadata": {},
   "outputs": [
    {
     "name": "stdout",
     "output_type": "stream",
     "text": [
      "MSE 0.7144345630478385\n",
      "R2 0.46928988803470373\n"
     ]
    }
   ],
   "source": [
    "## Medinc, MedHouseVal 하나의 컬럼을 사용해서 base model 을 만들고 모델의 성능을 개선시키는 것!\n",
    "from sklearn.model_selection import train_test_split\n",
    "from sklearn.linear_model import LinearRegression\n",
    "from sklearn.metrics import mean_squared_error, r2_score\n",
    "\n",
    "\n",
    "## x는 피처\n",
    "X_medinc=df[['MedInc']]\n",
    "\n",
    "## y값은\n",
    "y\n",
    "\n",
    "## 데이터를 분할(train, test) 전처리에 집중\n",
    "\n",
    "X_train, X_test, y_train, y_test = train_test_split(X_medinc, y ,test_size=0.3, random_state=111)\n",
    "\n",
    "## 선형회귀 모델 학습\n",
    "model =LinearRegression()\n",
    "model.fit(X_train, y_train) #학습데이터로 학습\n",
    "\n",
    "## 예측\n",
    "\n",
    "y_pred = model.predict(X_test)\n",
    "\n",
    "# 평가지표 계산\n",
    "mse = mean_squared_error(y_test, y_pred)\n",
    "r2 = r2_score(y_test, y_pred)\n",
    "\n",
    "print('MSE', mse)\n",
    "print('R2',r2)"
   ]
  },
  {
   "cell_type": "markdown",
   "id": "83aaf60a",
   "metadata": {},
   "source": [
    "### 이 모델의 성능을 개선시키자!\n",
    "- MSE 를 낮추고 ,r2올려야 한다."
   ]
  },
  {
   "cell_type": "code",
   "execution_count": 22,
   "id": "558ef48f",
   "metadata": {},
   "outputs": [
    {
     "name": "stdout",
     "output_type": "stream",
     "text": [
      "선택된 피처 이름 ['MedInc', 'AveRooms']\n"
     ]
    }
   ],
   "source": [
    "## 피처를 좀 더 추가해 보자!\n",
    "## 피처셀렉션을 통해서 kbest로 피처 추가하자!\n",
    "\n",
    "from sklearn.feature_selection import SelectKBest, f_regression\n",
    "\n",
    "selector =SelectKBest(score_func= f_regression, k=2)\n",
    "X_new = selector.fit_transform(X,y)\n",
    "\n",
    "##전체 데이터 셋 넣기\n",
    "##X = california.data\n",
    "##y = california.target\n",
    "\n",
    "\n",
    "##선택된 컬럼의 인덱스와 이름\n",
    "\n",
    "selected_indices=selector.get_support(indices=True)\n",
    "selected_feature_name = [feature_names[i] for i in selected_indices]\n",
    "print('선택된 피처 이름',selected_feature_name)"
   ]
  },
  {
   "cell_type": "markdown",
   "id": "42774567",
   "metadata": {},
   "source": [
    "- ['MedInc', 'AveRooms'] 두 개의 컬럼이 피처 선정된 것"
   ]
  },
  {
   "cell_type": "code",
   "execution_count": 23,
   "id": "6b13b041",
   "metadata": {},
   "outputs": [],
   "source": [
    "## 선택된 피처로 데이터프레임 만들기\n",
    "\n",
    "df_selected =pd.DataFrame(X_new, columns = selected_feature_name)\n",
    "df_selected['MedHouseVal']=y"
   ]
  },
  {
   "cell_type": "code",
   "execution_count": 26,
   "id": "44ee453d",
   "metadata": {},
   "outputs": [
    {
     "name": "stdout",
     "output_type": "stream",
     "text": [
      "MSE 0.7194127404422324\n",
      "R2 0.4655919019363115\n"
     ]
    }
   ],
   "source": [
    "## 두 개의 피처를 넣어서 분석\n",
    "X_train, X_test, y_train, y_test = train_test_split(X_new, y ,test_size=0.3, random_state=111)\n",
    "\n",
    "\n",
    "## 선형회귀 모델 학습\n",
    "model_fs =LinearRegression()\n",
    "model_fs.fit(X_train, y_train) #학습데이터로 학습\n",
    "\n",
    "\n",
    "## 예측\n",
    "\n",
    "y_pred_fs = model_fs.predict(X_test)\n",
    "\n",
    "# 평가지표 계산\n",
    "mse_fs = mean_squared_error(y_test, y_pred_fs)\n",
    "r2_fs = r2_score(y_test, y_pred_fs)\n",
    "\n",
    "print('MSE', mse_fs)\n",
    "print('R2',r2_fs)"
   ]
  },
  {
   "cell_type": "code",
   "execution_count": 27,
   "id": "cf45d6b7",
   "metadata": {},
   "outputs": [
    {
     "name": "stdout",
     "output_type": "stream",
     "text": [
      "MSE 0.7144345630478385\n",
      "R2 0.46928988803470373\n"
     ]
    }
   ],
   "source": [
    "print('MSE', mse)\n",
    "print('R2',r2)"
   ]
  },
  {
   "cell_type": "markdown",
   "id": "c4652eff",
   "metadata": {},
   "source": [
    "### 오히려 성능이 안 좋아졌다."
   ]
  },
  {
   "cell_type": "code",
   "execution_count": 29,
   "id": "7f73be7e",
   "metadata": {},
   "outputs": [],
   "source": [
    "## 스케일링의 문제가 아닐까?\n",
    "from sklearn.preprocessing import StandardScaler\n",
    "\n",
    "\n",
    "scaler = StandardScaler()\n",
    "X_train_scaled =scaler.fit_transform(X_train)\n",
    "X_test_scaled = scaler.transform(X_test)"
   ]
  },
  {
   "cell_type": "code",
   "execution_count": 31,
   "id": "31e191ab",
   "metadata": {},
   "outputs": [
    {
     "name": "stdout",
     "output_type": "stream",
     "text": [
      "MSE 0.7194127404422325\n",
      "R2 0.4655919019363114\n"
     ]
    }
   ],
   "source": [
    "## 스케일링한 두 개의 피처를 선형회귀 모델 학습\n",
    "model_fs_sc =LinearRegression()\n",
    "model_fs_sc.fit(X_train_scaled, y_train) #학습데이터로 학습\n",
    "\n",
    "## 예측 (스케일링, 두 개 피처 사용)\n",
    "\n",
    "y_pred_fs_sc = model_fs_sc.predict(X_test_scaled)\n",
    "\n",
    "# 평가지표 계산\n",
    "mse_fs_sc = mean_squared_error(y_test, y_pred_fs_sc)\n",
    "r2_fs_sc = r2_score(y_test, y_pred_fs_sc)\n",
    "\n",
    "print('MSE', mse_fs_sc)\n",
    "print('R2',r2_fs_sc)"
   ]
  },
  {
   "cell_type": "code",
   "execution_count": 32,
   "id": "5d498dd3",
   "metadata": {},
   "outputs": [
    {
     "name": "stdout",
     "output_type": "stream",
     "text": [
      "MSE 0.7194127404422324\n",
      "R2 0.4655919019363115\n"
     ]
    }
   ],
   "source": [
    "print('MSE', mse_fs)\n",
    "print('R2',r2_fs)"
   ]
  },
  {
   "cell_type": "markdown",
   "id": "3d0bbb76",
   "metadata": {},
   "source": [
    "### 3개의 피처로 추가해 보기\n",
    "- MedInc, HouseAge, AveRooms"
   ]
  },
  {
   "cell_type": "code",
   "execution_count": 34,
   "id": "ba7aef21",
   "metadata": {},
   "outputs": [],
   "source": [
    "X_selected3 = df[['MedInc','AveRooms','HouseAge']]\n"
   ]
  },
  {
   "cell_type": "code",
   "execution_count": 41,
   "id": "230adc6a",
   "metadata": {},
   "outputs": [
    {
     "name": "stdout",
     "output_type": "stream",
     "text": [
      "MSE 0.6748163523173207\n",
      "R2 0.4987198542487682\n"
     ]
    }
   ],
   "source": [
    "## 두 개의 피처를 넣어서 분석\n",
    "X_train, X_test, y_train, y_test = train_test_split(X_selected3, y ,test_size=0.3, random_state=111)\n",
    "\n",
    "scaler = StandardScaler()\n",
    "X_train_scaled =scaler.fit_transform(X_train)\n",
    "X_test_scaled = scaler.transform(X_test)\n",
    "\n",
    "\n",
    "## 스케일링한 두 개의 피처를 선형회귀 모델 학습\n",
    "model_fs_sc3 =LinearRegression()\n",
    "model_fs_sc3.fit(X_train_scaled, y_train) #학습데이터로 학습\n",
    "\n",
    "## 예측 (스케일링, 두 개 피처 사용)\n",
    "\n",
    "y_pred_fs_sc3 = model_fs_sc3.predict(X_test_scaled)\n",
    "\n",
    "# 평가지표 계산\n",
    "mse_fs_sc3 = mean_squared_error(y_test, y_pred_fs_sc3)\n",
    "r2_fs_sc3 = r2_score(y_test, y_pred_fs_sc3)\n",
    "\n",
    "print('MSE', mse_fs_sc3)\n",
    "print('R2',r2_fs_sc3)\n"
   ]
  },
  {
   "cell_type": "code",
   "execution_count": 42,
   "id": "b9418bc2",
   "metadata": {},
   "outputs": [
    {
     "name": "stdout",
     "output_type": "stream",
     "text": [
      "MSE 0.7194127404422325\n",
      "R2 0.4655919019363114\n"
     ]
    }
   ],
   "source": [
    "print('MSE', mse_fs_sc)\n",
    "print('R2',r2_fs_sc)"
   ]
  },
  {
   "cell_type": "markdown",
   "id": "9ff5eab3",
   "metadata": {},
   "source": [
    "### 지금까지의 피처 중에서 Houseage Binning작업을 통해 좀더 컬럼을 나눠보자"
   ]
  },
  {
   "cell_type": "code",
   "execution_count": 47,
   "id": "a6baeacf",
   "metadata": {},
   "outputs": [],
   "source": [
    "##house age 비닝작업을 통해 나눠보자\n",
    "\n",
    "bins = [0,10,20,30,40,50,60]\n",
    "labels = ['0-10','10-20','20-30','30-40','40-50','50-60']\n",
    "df['HouseAgeBinned'] = pd.cut(df['HouseAge'], bins= bins, labels = labels, include_lowest=True)\n",
    "\n",
    "# 원핫인코딩으로 작업을 진행\n",
    "X_binned =pd.get_dummies(df[['MedInc','AveRooms','HouseAgeBinned']], drop_first=True)"
   ]
  },
  {
   "cell_type": "code",
   "execution_count": 48,
   "id": "c51d4433",
   "metadata": {},
   "outputs": [],
   "source": [
    "## 연속형 변수는 스케일링을 진행한다.\n",
    "\n",
    "scaler = StandardScaler()\n",
    "X_binned[['MedInc','AveRooms']]= scaler.fit_transform(X_binned[['MedInc','AveRooms']])"
   ]
  },
  {
   "cell_type": "code",
   "execution_count": 50,
   "id": "e3d33b1b",
   "metadata": {},
   "outputs": [],
   "source": [
    "## 두 개의 피처를 넣어서 분석\n",
    "X_train, X_test, y_train, y_test = train_test_split(X_binned, y ,test_size=0.3, random_state=111)\n",
    "\n",
    "## 스케일링한 두 개의 피처를 선형회귀 모델 학습\n",
    "model_new1 =LinearRegression()\n",
    "model_new1.fit(X_train, y_train) #학습데이터로 학습\n",
    "\n",
    "## 예측 (스케일링, 두 개 피처 사용)\n",
    "\n",
    "y_pred_new1 = model_new1.predict(X_test)\n"
   ]
  },
  {
   "cell_type": "code",
   "execution_count": 52,
   "id": "e6cf460f",
   "metadata": {},
   "outputs": [
    {
     "name": "stdout",
     "output_type": "stream",
     "text": [
      "MSE 0.6707153651823128\n",
      "R2 0.5017662288982581\n"
     ]
    }
   ],
   "source": [
    "# 평가지표 계산\n",
    "# 기존에 원핫인코딩 binning 작업하지 않은 값보다 조금 더 성능이 개선되었다.\n",
    "mse_new1 = mean_squared_error(y_test, y_pred_new1)\n",
    "r2_new1 = r2_score(y_test, y_pred_new1)\n",
    "\n",
    "print('MSE', mse_new1)\n",
    "print('R2',r2_new1)"
   ]
  },
  {
   "cell_type": "code",
   "execution_count": 53,
   "id": "50959a9b",
   "metadata": {},
   "outputs": [
    {
     "name": "stdout",
     "output_type": "stream",
     "text": [
      "MSE 0.6748163523173207\n",
      "R2 0.4987198542487682\n"
     ]
    }
   ],
   "source": [
    "print('MSE', mse_fs_sc3)\n",
    "print('R2',r2_fs_sc3)"
   ]
  },
  {
   "cell_type": "markdown",
   "id": "0964a690",
   "metadata": {},
   "source": [
    "### 여기서 좀 더 성능을 개선하고 싶다."
   ]
  },
  {
   "cell_type": "code",
   "execution_count": 55,
   "id": "15dc1959",
   "metadata": {},
   "outputs": [
    {
     "data": {
      "text/html": [
       "<div>\n",
       "<style scoped>\n",
       "    .dataframe tbody tr th:only-of-type {\n",
       "        vertical-align: middle;\n",
       "    }\n",
       "\n",
       "    .dataframe tbody tr th {\n",
       "        vertical-align: top;\n",
       "    }\n",
       "\n",
       "    .dataframe thead th {\n",
       "        text-align: right;\n",
       "    }\n",
       "</style>\n",
       "<table border=\"1\" class=\"dataframe\">\n",
       "  <thead>\n",
       "    <tr style=\"text-align: right;\">\n",
       "      <th></th>\n",
       "      <th>Latitude</th>\n",
       "      <th>Longitude</th>\n",
       "      <th>Counts</th>\n",
       "    </tr>\n",
       "  </thead>\n",
       "  <tbody>\n",
       "    <tr>\n",
       "      <th>0</th>\n",
       "      <td>32.54</td>\n",
       "      <td>-117.04</td>\n",
       "      <td>1</td>\n",
       "    </tr>\n",
       "    <tr>\n",
       "      <th>1</th>\n",
       "      <td>32.55</td>\n",
       "      <td>-117.09</td>\n",
       "      <td>1</td>\n",
       "    </tr>\n",
       "    <tr>\n",
       "      <th>2</th>\n",
       "      <td>32.55</td>\n",
       "      <td>-117.06</td>\n",
       "      <td>1</td>\n",
       "    </tr>\n",
       "    <tr>\n",
       "      <th>3</th>\n",
       "      <td>32.55</td>\n",
       "      <td>-117.04</td>\n",
       "      <td>1</td>\n",
       "    </tr>\n",
       "    <tr>\n",
       "      <th>4</th>\n",
       "      <td>32.56</td>\n",
       "      <td>-117.12</td>\n",
       "      <td>1</td>\n",
       "    </tr>\n",
       "    <tr>\n",
       "      <th>...</th>\n",
       "      <td>...</td>\n",
       "      <td>...</td>\n",
       "      <td>...</td>\n",
       "    </tr>\n",
       "    <tr>\n",
       "      <th>12585</th>\n",
       "      <td>41.86</td>\n",
       "      <td>-121.93</td>\n",
       "      <td>1</td>\n",
       "    </tr>\n",
       "    <tr>\n",
       "      <th>12586</th>\n",
       "      <td>41.88</td>\n",
       "      <td>-123.83</td>\n",
       "      <td>1</td>\n",
       "    </tr>\n",
       "    <tr>\n",
       "      <th>12587</th>\n",
       "      <td>41.92</td>\n",
       "      <td>-124.16</td>\n",
       "      <td>1</td>\n",
       "    </tr>\n",
       "    <tr>\n",
       "      <th>12588</th>\n",
       "      <td>41.95</td>\n",
       "      <td>-124.14</td>\n",
       "      <td>1</td>\n",
       "    </tr>\n",
       "    <tr>\n",
       "      <th>12589</th>\n",
       "      <td>41.95</td>\n",
       "      <td>-122.64</td>\n",
       "      <td>1</td>\n",
       "    </tr>\n",
       "  </tbody>\n",
       "</table>\n",
       "<p>12590 rows × 3 columns</p>\n",
       "</div>"
      ],
      "text/plain": [
       "       Latitude  Longitude  Counts\n",
       "0         32.54    -117.04       1\n",
       "1         32.55    -117.09       1\n",
       "2         32.55    -117.06       1\n",
       "3         32.55    -117.04       1\n",
       "4         32.56    -117.12       1\n",
       "...         ...        ...     ...\n",
       "12585     41.86    -121.93       1\n",
       "12586     41.88    -123.83       1\n",
       "12587     41.92    -124.16       1\n",
       "12588     41.95    -124.14       1\n",
       "12589     41.95    -122.64       1\n",
       "\n",
       "[12590 rows x 3 columns]"
      ]
     },
     "execution_count": 55,
     "metadata": {},
     "output_type": "execute_result"
    }
   ],
   "source": [
    "##위도 경도\n",
    "##위도 경도 컬럼은 위치, 유니크한 값이 존재할 수 있다.\n",
    "##같은 지역별로의 수입들에 대한 것을 확인할 수 있다.\n",
    "\n",
    "##위도 경도를 피처를 이용해서 성능을 개선시켜보자!\n",
    "\n",
    "df.groupby(['Latitude','Longitude']).size().reset_index(name='Counts')\n",
    "## 위도 경도의 컬럼을 사용해 보자!!"
   ]
  },
  {
   "cell_type": "code",
   "execution_count": 56,
   "id": "daa0bf40",
   "metadata": {},
   "outputs": [
    {
     "data": {
      "text/html": [
       "<div>\n",
       "<style scoped>\n",
       "    .dataframe tbody tr th:only-of-type {\n",
       "        vertical-align: middle;\n",
       "    }\n",
       "\n",
       "    .dataframe tbody tr th {\n",
       "        vertical-align: top;\n",
       "    }\n",
       "\n",
       "    .dataframe thead th {\n",
       "        text-align: right;\n",
       "    }\n",
       "</style>\n",
       "<table border=\"1\" class=\"dataframe\">\n",
       "  <thead>\n",
       "    <tr style=\"text-align: right;\">\n",
       "      <th></th>\n",
       "      <th>MedInc</th>\n",
       "      <th>HouseAge</th>\n",
       "      <th>AveRooms</th>\n",
       "      <th>AveBedrms</th>\n",
       "      <th>Population</th>\n",
       "      <th>AveOccup</th>\n",
       "      <th>Latitude</th>\n",
       "      <th>Longitude</th>\n",
       "      <th>MedHouseVal</th>\n",
       "      <th>HouseAgeBinned</th>\n",
       "    </tr>\n",
       "  </thead>\n",
       "  <tbody>\n",
       "    <tr>\n",
       "      <th>0</th>\n",
       "      <td>8.3252</td>\n",
       "      <td>41.0</td>\n",
       "      <td>6.984127</td>\n",
       "      <td>1.023810</td>\n",
       "      <td>322.0</td>\n",
       "      <td>2.555556</td>\n",
       "      <td>37.88</td>\n",
       "      <td>-122.23</td>\n",
       "      <td>4.526</td>\n",
       "      <td>40-50</td>\n",
       "    </tr>\n",
       "    <tr>\n",
       "      <th>1</th>\n",
       "      <td>8.3014</td>\n",
       "      <td>21.0</td>\n",
       "      <td>6.238137</td>\n",
       "      <td>0.971880</td>\n",
       "      <td>2401.0</td>\n",
       "      <td>2.109842</td>\n",
       "      <td>37.86</td>\n",
       "      <td>-122.22</td>\n",
       "      <td>3.585</td>\n",
       "      <td>20-30</td>\n",
       "    </tr>\n",
       "    <tr>\n",
       "      <th>2</th>\n",
       "      <td>7.2574</td>\n",
       "      <td>52.0</td>\n",
       "      <td>8.288136</td>\n",
       "      <td>1.073446</td>\n",
       "      <td>496.0</td>\n",
       "      <td>2.802260</td>\n",
       "      <td>37.85</td>\n",
       "      <td>-122.24</td>\n",
       "      <td>3.521</td>\n",
       "      <td>50-60</td>\n",
       "    </tr>\n",
       "    <tr>\n",
       "      <th>3</th>\n",
       "      <td>5.6431</td>\n",
       "      <td>52.0</td>\n",
       "      <td>5.817352</td>\n",
       "      <td>1.073059</td>\n",
       "      <td>558.0</td>\n",
       "      <td>2.547945</td>\n",
       "      <td>37.85</td>\n",
       "      <td>-122.25</td>\n",
       "      <td>3.413</td>\n",
       "      <td>50-60</td>\n",
       "    </tr>\n",
       "    <tr>\n",
       "      <th>4</th>\n",
       "      <td>3.8462</td>\n",
       "      <td>52.0</td>\n",
       "      <td>6.281853</td>\n",
       "      <td>1.081081</td>\n",
       "      <td>565.0</td>\n",
       "      <td>2.181467</td>\n",
       "      <td>37.85</td>\n",
       "      <td>-122.25</td>\n",
       "      <td>3.422</td>\n",
       "      <td>50-60</td>\n",
       "    </tr>\n",
       "    <tr>\n",
       "      <th>...</th>\n",
       "      <td>...</td>\n",
       "      <td>...</td>\n",
       "      <td>...</td>\n",
       "      <td>...</td>\n",
       "      <td>...</td>\n",
       "      <td>...</td>\n",
       "      <td>...</td>\n",
       "      <td>...</td>\n",
       "      <td>...</td>\n",
       "      <td>...</td>\n",
       "    </tr>\n",
       "    <tr>\n",
       "      <th>20635</th>\n",
       "      <td>1.5603</td>\n",
       "      <td>25.0</td>\n",
       "      <td>5.045455</td>\n",
       "      <td>1.133333</td>\n",
       "      <td>845.0</td>\n",
       "      <td>2.560606</td>\n",
       "      <td>39.48</td>\n",
       "      <td>-121.09</td>\n",
       "      <td>0.781</td>\n",
       "      <td>20-30</td>\n",
       "    </tr>\n",
       "    <tr>\n",
       "      <th>20636</th>\n",
       "      <td>2.5568</td>\n",
       "      <td>18.0</td>\n",
       "      <td>6.114035</td>\n",
       "      <td>1.315789</td>\n",
       "      <td>356.0</td>\n",
       "      <td>3.122807</td>\n",
       "      <td>39.49</td>\n",
       "      <td>-121.21</td>\n",
       "      <td>0.771</td>\n",
       "      <td>10-20</td>\n",
       "    </tr>\n",
       "    <tr>\n",
       "      <th>20637</th>\n",
       "      <td>1.7000</td>\n",
       "      <td>17.0</td>\n",
       "      <td>5.205543</td>\n",
       "      <td>1.120092</td>\n",
       "      <td>1007.0</td>\n",
       "      <td>2.325635</td>\n",
       "      <td>39.43</td>\n",
       "      <td>-121.22</td>\n",
       "      <td>0.923</td>\n",
       "      <td>10-20</td>\n",
       "    </tr>\n",
       "    <tr>\n",
       "      <th>20638</th>\n",
       "      <td>1.8672</td>\n",
       "      <td>18.0</td>\n",
       "      <td>5.329513</td>\n",
       "      <td>1.171920</td>\n",
       "      <td>741.0</td>\n",
       "      <td>2.123209</td>\n",
       "      <td>39.43</td>\n",
       "      <td>-121.32</td>\n",
       "      <td>0.847</td>\n",
       "      <td>10-20</td>\n",
       "    </tr>\n",
       "    <tr>\n",
       "      <th>20639</th>\n",
       "      <td>2.3886</td>\n",
       "      <td>16.0</td>\n",
       "      <td>5.254717</td>\n",
       "      <td>1.162264</td>\n",
       "      <td>1387.0</td>\n",
       "      <td>2.616981</td>\n",
       "      <td>39.37</td>\n",
       "      <td>-121.24</td>\n",
       "      <td>0.894</td>\n",
       "      <td>10-20</td>\n",
       "    </tr>\n",
       "  </tbody>\n",
       "</table>\n",
       "<p>20640 rows × 10 columns</p>\n",
       "</div>"
      ],
      "text/plain": [
       "       MedInc  HouseAge  AveRooms  AveBedrms  Population  AveOccup  Latitude  \\\n",
       "0      8.3252      41.0  6.984127   1.023810       322.0  2.555556     37.88   \n",
       "1      8.3014      21.0  6.238137   0.971880      2401.0  2.109842     37.86   \n",
       "2      7.2574      52.0  8.288136   1.073446       496.0  2.802260     37.85   \n",
       "3      5.6431      52.0  5.817352   1.073059       558.0  2.547945     37.85   \n",
       "4      3.8462      52.0  6.281853   1.081081       565.0  2.181467     37.85   \n",
       "...       ...       ...       ...        ...         ...       ...       ...   \n",
       "20635  1.5603      25.0  5.045455   1.133333       845.0  2.560606     39.48   \n",
       "20636  2.5568      18.0  6.114035   1.315789       356.0  3.122807     39.49   \n",
       "20637  1.7000      17.0  5.205543   1.120092      1007.0  2.325635     39.43   \n",
       "20638  1.8672      18.0  5.329513   1.171920       741.0  2.123209     39.43   \n",
       "20639  2.3886      16.0  5.254717   1.162264      1387.0  2.616981     39.37   \n",
       "\n",
       "       Longitude  MedHouseVal HouseAgeBinned  \n",
       "0        -122.23        4.526          40-50  \n",
       "1        -122.22        3.585          20-30  \n",
       "2        -122.24        3.521          50-60  \n",
       "3        -122.25        3.413          50-60  \n",
       "4        -122.25        3.422          50-60  \n",
       "...          ...          ...            ...  \n",
       "20635    -121.09        0.781          20-30  \n",
       "20636    -121.21        0.771          10-20  \n",
       "20637    -121.22        0.923          10-20  \n",
       "20638    -121.32        0.847          10-20  \n",
       "20639    -121.24        0.894          10-20  \n",
       "\n",
       "[20640 rows x 10 columns]"
      ]
     },
     "execution_count": 56,
     "metadata": {},
     "output_type": "execute_result"
    }
   ],
   "source": [
    "df"
   ]
  },
  {
   "cell_type": "code",
   "execution_count": 58,
   "id": "d683fa4e",
   "metadata": {},
   "outputs": [],
   "source": [
    "X_sl = df[['MedInc','AveRooms','Latitude','Longitude','HouseAgeBinned']]"
   ]
  },
  {
   "cell_type": "code",
   "execution_count": 60,
   "id": "b99e544b",
   "metadata": {},
   "outputs": [],
   "source": [
    "## 위도 경도를 그룹화 해서 중앙값의 중간 소득의 평균을 만들어 보자!\n",
    "grouped=df.groupby(['Latitude','Longitude'])['MedInc'].mean().reset_index()"
   ]
  },
  {
   "cell_type": "code",
   "execution_count": 62,
   "id": "2b057824",
   "metadata": {},
   "outputs": [],
   "source": [
    "grouped.columns = ['Latitude','Longitude','MedIncByLatLong']"
   ]
  },
  {
   "cell_type": "code",
   "execution_count": 64,
   "id": "b147376e",
   "metadata": {},
   "outputs": [],
   "source": [
    "## 데이터를 병합해야 하는 경우\n",
    "\n",
    "X_new=X_sl.merge(grouped, on=['Latitude','Longitude'],how='left')"
   ]
  },
  {
   "cell_type": "code",
   "execution_count": 69,
   "id": "b28f807b",
   "metadata": {},
   "outputs": [],
   "source": [
    "## 원핫인코딩\n",
    "\n",
    "X_binned=pd.get_dummies(X_new)"
   ]
  },
  {
   "cell_type": "code",
   "execution_count": 71,
   "id": "63faaca2",
   "metadata": {},
   "outputs": [],
   "source": [
    "#스케일링 작업\n",
    "scaler = StandardScaler()\n",
    "X_binned[['MedInc','AveRooms','MedIncByLatLong']] = scaler.fit_transform(X_binned[['MedInc','AveRooms','MedIncByLatLong']])\n",
    "\n"
   ]
  },
  {
   "cell_type": "code",
   "execution_count": 73,
   "id": "597178a9",
   "metadata": {},
   "outputs": [
    {
     "data": {
      "text/plain": [
       "Index(['MedInc', 'AveRooms', 'Latitude', 'Longitude', 'MedIncByLatLong',\n",
       "       'HouseAgeBinned_0-10', 'HouseAgeBinned_10-20', 'HouseAgeBinned_20-30',\n",
       "       'HouseAgeBinned_30-40', 'HouseAgeBinned_40-50', 'HouseAgeBinned_50-60'],\n",
       "      dtype='object')"
      ]
     },
     "execution_count": 73,
     "metadata": {},
     "output_type": "execute_result"
    }
   ],
   "source": [
    "X_binned.columns"
   ]
  },
  {
   "cell_type": "code",
   "execution_count": 75,
   "id": "65ce2264",
   "metadata": {},
   "outputs": [],
   "source": [
    "X_binned_f=X_binned[['MedInc', 'AveRooms','MedIncByLatLong',\n",
    "       'HouseAgeBinned_0-10', 'HouseAgeBinned_10-20', 'HouseAgeBinned_20-30',\n",
    "       'HouseAgeBinned_30-40', 'HouseAgeBinned_40-50', 'HouseAgeBinned_50-60']]"
   ]
  },
  {
   "cell_type": "code",
   "execution_count": 77,
   "id": "9d23dccd",
   "metadata": {
    "scrolled": true
   },
   "outputs": [
    {
     "name": "stdout",
     "output_type": "stream",
     "text": [
      "MSE 0.6335295946683971\n",
      "R2 0.5293892827840687\n"
     ]
    }
   ],
   "source": [
    "## 두 개의 피처를 넣어서 분석\n",
    "X_train, X_test, y_train, y_test = train_test_split(X_binned_f, y ,test_size=0.3, random_state=111)\n",
    "\n",
    "## 스케일링한 두 개의 피처를 선형회귀 모델 학습\n",
    "model_new2 =LinearRegression()\n",
    "model_new2.fit(X_train, y_train) #학습데이터로 학습\n",
    "\n",
    "## 예측 (최종 스케일링, 원핫인코딩 작업 완료) \n",
    "y_pred_new2 = model_new2.predict(X_test)\n",
    "\n",
    "# 평가지표 계산\n",
    "# 기존에 원핫인코딩 binning 작업하지 않은 값보다 조금 더 성능이 개선되었다.\n",
    "mse_new2 = mean_squared_error(y_test, y_pred_new2)\n",
    "r2_new2 = r2_score(y_test, y_pred_new2)\n",
    "\n",
    "print('MSE', mse_new2)\n",
    "print('R2',r2_new2)"
   ]
  },
  {
   "cell_type": "code",
   "execution_count": 84,
   "id": "ebb9030c",
   "metadata": {},
   "outputs": [
    {
     "name": "stdout",
     "output_type": "stream",
     "text": [
      "MSE 0.7144345630478385\n",
      "R2 0.46928988803470373\n"
     ]
    }
   ],
   "source": [
    "print('MSE', mse)\n",
    "print('R2',r2)"
   ]
  },
  {
   "cell_type": "markdown",
   "id": "5d5d5e56",
   "metadata": {},
   "source": [
    "- base 라인과 비교했을 때 MSE 약 0.08정도 성능이 좋아지고, R2은 0.06 올라갔다."
   ]
  },
  {
   "cell_type": "code",
   "execution_count": null,
   "id": "355af15d",
   "metadata": {},
   "outputs": [],
   "source": []
  }
 ],
 "metadata": {
  "kernelspec": {
   "display_name": "Python 3 (ipykernel)",
   "language": "python",
   "name": "python3"
  },
  "language_info": {
   "codemirror_mode": {
    "name": "ipython",
    "version": 3
   },
   "file_extension": ".py",
   "mimetype": "text/x-python",
   "name": "python",
   "nbconvert_exporter": "python",
   "pygments_lexer": "ipython3",
   "version": "3.12.4"
  }
 },
 "nbformat": 4,
 "nbformat_minor": 5
}
