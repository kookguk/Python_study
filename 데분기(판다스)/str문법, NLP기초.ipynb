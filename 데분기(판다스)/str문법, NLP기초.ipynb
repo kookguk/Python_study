{
 "cells": [
  {
   "cell_type": "code",
   "execution_count": 1,
   "id": "9b26dbe7",
   "metadata": {},
   "outputs": [
    {
     "name": "stdout",
     "output_type": "stream",
     "text": [
      "      name               email                 description\n",
      "0    Alice   alice@example.com  Alice is a Data Scientist.\n",
      "1      Bob     bob@example.com         Bob is an Engineer.\n",
      "2  Charlie  charlie@sample.net        Charlie is a Doctor.\n",
      "3    David   david@website.org          David is a Lawyer.\n",
      "4      Eve      eve@domain.com           Eve is an Artist.\n"
     ]
    }
   ],
   "source": [
    "import pandas as pd\n",
    "\n",
    "# 샘플 데이터프레임 생성\n",
    "data = {\n",
    "    'name': ['Alice', 'Bob', 'Charlie', 'David', 'Eve'],\n",
    "    'email': ['alice@example.com', 'bob@example.com', 'charlie@sample.net', 'david@website.org', 'eve@domain.com'],\n",
    "    'description': ['Alice is a Data Scientist.', 'Bob is an Engineer.', 'Charlie is a Doctor.', 'David is a Lawyer.', 'Eve is an Artist.']\n",
    "}\n",
    "df = pd.DataFrame(data)\n",
    "print(df)"
   ]
  },
  {
   "cell_type": "code",
   "execution_count": 6,
   "id": "608687bc",
   "metadata": {},
   "outputs": [],
   "source": [
    "## cat 데이터 붙이기\n",
    "df['name+email']=df['name'].str.cat(df['email'],sep='/')"
   ]
  },
  {
   "cell_type": "code",
   "execution_count": 10,
   "id": "e42da03d",
   "metadata": {},
   "outputs": [],
   "source": [
    "## 데이터 나누기\n",
    "df[['userid','domain']]=df['email'].str.split('@',expand=True)"
   ]
  },
  {
   "cell_type": "code",
   "execution_count": 18,
   "id": "aad49670",
   "metadata": {},
   "outputs": [
    {
     "data": {
      "text/plain": [
       "0    A\n",
       "1    B\n",
       "2    C\n",
       "3    D\n",
       "4    E\n",
       "Name: name, dtype: object"
      ]
     },
     "execution_count": 18,
     "metadata": {},
     "output_type": "execute_result"
    }
   ],
   "source": [
    "## get으로 문자의 특정 위치값을 가지고 올 수 있다.\n",
    "df['name'].str.get(0)"
   ]
  },
  {
   "cell_type": "code",
   "execution_count": 23,
   "id": "d7fcbc0d",
   "metadata": {},
   "outputs": [
    {
     "data": {
      "text/plain": [
       "0    Al\n",
       "1    Bo\n",
       "2    Ch\n",
       "3    Da\n",
       "4    Ev\n",
       "Name: name, dtype: object"
      ]
     },
     "execution_count": 23,
     "metadata": {},
     "output_type": "execute_result"
    }
   ],
   "source": [
    "## 슬라이스\n",
    "df['name'].str.slice(start=0, stop=2)"
   ]
  },
  {
   "cell_type": "code",
   "execution_count": 25,
   "id": "2f552b14",
   "metadata": {},
   "outputs": [
    {
     "data": {
      "text/html": [
       "<div>\n",
       "<style scoped>\n",
       "    .dataframe tbody tr th:only-of-type {\n",
       "        vertical-align: middle;\n",
       "    }\n",
       "\n",
       "    .dataframe tbody tr th {\n",
       "        vertical-align: top;\n",
       "    }\n",
       "\n",
       "    .dataframe thead th {\n",
       "        text-align: right;\n",
       "    }\n",
       "</style>\n",
       "<table border=\"1\" class=\"dataframe\">\n",
       "  <thead>\n",
       "    <tr style=\"text-align: right;\">\n",
       "      <th></th>\n",
       "      <th>0</th>\n",
       "    </tr>\n",
       "  </thead>\n",
       "  <tbody>\n",
       "    <tr>\n",
       "      <th>0</th>\n",
       "      <td>example.com</td>\n",
       "    </tr>\n",
       "    <tr>\n",
       "      <th>1</th>\n",
       "      <td>example.com</td>\n",
       "    </tr>\n",
       "    <tr>\n",
       "      <th>2</th>\n",
       "      <td>sample.net</td>\n",
       "    </tr>\n",
       "    <tr>\n",
       "      <th>3</th>\n",
       "      <td>website.org</td>\n",
       "    </tr>\n",
       "    <tr>\n",
       "      <th>4</th>\n",
       "      <td>domain.com</td>\n",
       "    </tr>\n",
       "  </tbody>\n",
       "</table>\n",
       "</div>"
      ],
      "text/plain": [
       "             0\n",
       "0  example.com\n",
       "1  example.com\n",
       "2   sample.net\n",
       "3  website.org\n",
       "4   domain.com"
      ]
     },
     "execution_count": 25,
     "metadata": {},
     "output_type": "execute_result"
    }
   ],
   "source": [
    "## extract, 정규표현식 추출\n",
    "df['email'].str.extract(r'@(\\w+\\.\\w+)')"
   ]
  },
  {
   "cell_type": "code",
   "execution_count": 26,
   "id": "bd1482ed",
   "metadata": {},
   "outputs": [
    {
     "data": {
      "text/html": [
       "<div>\n",
       "<style scoped>\n",
       "    .dataframe tbody tr th:only-of-type {\n",
       "        vertical-align: middle;\n",
       "    }\n",
       "\n",
       "    .dataframe tbody tr th {\n",
       "        vertical-align: top;\n",
       "    }\n",
       "\n",
       "    .dataframe thead th {\n",
       "        text-align: right;\n",
       "    }\n",
       "</style>\n",
       "<table border=\"1\" class=\"dataframe\">\n",
       "  <thead>\n",
       "    <tr style=\"text-align: right;\">\n",
       "      <th></th>\n",
       "      <th>name</th>\n",
       "      <th>email</th>\n",
       "      <th>description</th>\n",
       "      <th>name+email</th>\n",
       "      <th>userid</th>\n",
       "      <th>domain</th>\n",
       "    </tr>\n",
       "  </thead>\n",
       "  <tbody>\n",
       "    <tr>\n",
       "      <th>0</th>\n",
       "      <td>Alice</td>\n",
       "      <td>alice@example.com</td>\n",
       "      <td>Alice is a Data Scientist.</td>\n",
       "      <td>Alice/alice@example.com</td>\n",
       "      <td>alice</td>\n",
       "      <td>example.com</td>\n",
       "    </tr>\n",
       "    <tr>\n",
       "      <th>1</th>\n",
       "      <td>Bob</td>\n",
       "      <td>bob@example.com</td>\n",
       "      <td>Bob is an Engineer.</td>\n",
       "      <td>Bob/bob@example.com</td>\n",
       "      <td>bob</td>\n",
       "      <td>example.com</td>\n",
       "    </tr>\n",
       "    <tr>\n",
       "      <th>2</th>\n",
       "      <td>Charlie</td>\n",
       "      <td>charlie@sample.net</td>\n",
       "      <td>Charlie is a Doctor.</td>\n",
       "      <td>Charlie/charlie@sample.net</td>\n",
       "      <td>charlie</td>\n",
       "      <td>sample.net</td>\n",
       "    </tr>\n",
       "    <tr>\n",
       "      <th>3</th>\n",
       "      <td>David</td>\n",
       "      <td>david@website.org</td>\n",
       "      <td>David is a Lawyer.</td>\n",
       "      <td>David/david@website.org</td>\n",
       "      <td>david</td>\n",
       "      <td>website.org</td>\n",
       "    </tr>\n",
       "    <tr>\n",
       "      <th>4</th>\n",
       "      <td>Eve</td>\n",
       "      <td>eve@domain.com</td>\n",
       "      <td>Eve is an Artist.</td>\n",
       "      <td>Eve/eve@domain.com</td>\n",
       "      <td>eve</td>\n",
       "      <td>domain.com</td>\n",
       "    </tr>\n",
       "  </tbody>\n",
       "</table>\n",
       "</div>"
      ],
      "text/plain": [
       "      name               email                 description  \\\n",
       "0    Alice   alice@example.com  Alice is a Data Scientist.   \n",
       "1      Bob     bob@example.com         Bob is an Engineer.   \n",
       "2  Charlie  charlie@sample.net        Charlie is a Doctor.   \n",
       "3    David   david@website.org          David is a Lawyer.   \n",
       "4      Eve      eve@domain.com           Eve is an Artist.   \n",
       "\n",
       "                   name+email   userid       domain  \n",
       "0     Alice/alice@example.com    alice  example.com  \n",
       "1         Bob/bob@example.com      bob  example.com  \n",
       "2  Charlie/charlie@sample.net  charlie   sample.net  \n",
       "3     David/david@website.org    david  website.org  \n",
       "4          Eve/eve@domain.com      eve   domain.com  "
      ]
     },
     "execution_count": 26,
     "metadata": {},
     "output_type": "execute_result"
    }
   ],
   "source": [
    "df"
   ]
  },
  {
   "cell_type": "code",
   "execution_count": 27,
   "id": "bd4adc63",
   "metadata": {},
   "outputs": [
    {
     "data": {
      "text/html": [
       "<div>\n",
       "<style scoped>\n",
       "    .dataframe tbody tr th:only-of-type {\n",
       "        vertical-align: middle;\n",
       "    }\n",
       "\n",
       "    .dataframe tbody tr th {\n",
       "        vertical-align: top;\n",
       "    }\n",
       "\n",
       "    .dataframe thead th {\n",
       "        text-align: right;\n",
       "    }\n",
       "</style>\n",
       "<table border=\"1\" class=\"dataframe\">\n",
       "  <thead>\n",
       "    <tr style=\"text-align: right;\">\n",
       "      <th></th>\n",
       "      <th></th>\n",
       "      <th>0</th>\n",
       "    </tr>\n",
       "    <tr>\n",
       "      <th></th>\n",
       "      <th>match</th>\n",
       "      <th></th>\n",
       "    </tr>\n",
       "  </thead>\n",
       "  <tbody>\n",
       "    <tr>\n",
       "      <th rowspan=\"5\" valign=\"top\">0</th>\n",
       "      <th>0</th>\n",
       "      <td>Alice</td>\n",
       "    </tr>\n",
       "    <tr>\n",
       "      <th>1</th>\n",
       "      <td>is</td>\n",
       "    </tr>\n",
       "    <tr>\n",
       "      <th>2</th>\n",
       "      <td>a</td>\n",
       "    </tr>\n",
       "    <tr>\n",
       "      <th>3</th>\n",
       "      <td>Data</td>\n",
       "    </tr>\n",
       "    <tr>\n",
       "      <th>4</th>\n",
       "      <td>Scientist</td>\n",
       "    </tr>\n",
       "    <tr>\n",
       "      <th rowspan=\"4\" valign=\"top\">1</th>\n",
       "      <th>0</th>\n",
       "      <td>Bob</td>\n",
       "    </tr>\n",
       "    <tr>\n",
       "      <th>1</th>\n",
       "      <td>is</td>\n",
       "    </tr>\n",
       "    <tr>\n",
       "      <th>2</th>\n",
       "      <td>an</td>\n",
       "    </tr>\n",
       "    <tr>\n",
       "      <th>3</th>\n",
       "      <td>Engineer</td>\n",
       "    </tr>\n",
       "    <tr>\n",
       "      <th rowspan=\"4\" valign=\"top\">2</th>\n",
       "      <th>0</th>\n",
       "      <td>Charlie</td>\n",
       "    </tr>\n",
       "    <tr>\n",
       "      <th>1</th>\n",
       "      <td>is</td>\n",
       "    </tr>\n",
       "    <tr>\n",
       "      <th>2</th>\n",
       "      <td>a</td>\n",
       "    </tr>\n",
       "    <tr>\n",
       "      <th>3</th>\n",
       "      <td>Doctor</td>\n",
       "    </tr>\n",
       "    <tr>\n",
       "      <th rowspan=\"4\" valign=\"top\">3</th>\n",
       "      <th>0</th>\n",
       "      <td>David</td>\n",
       "    </tr>\n",
       "    <tr>\n",
       "      <th>1</th>\n",
       "      <td>is</td>\n",
       "    </tr>\n",
       "    <tr>\n",
       "      <th>2</th>\n",
       "      <td>a</td>\n",
       "    </tr>\n",
       "    <tr>\n",
       "      <th>3</th>\n",
       "      <td>Lawyer</td>\n",
       "    </tr>\n",
       "    <tr>\n",
       "      <th rowspan=\"4\" valign=\"top\">4</th>\n",
       "      <th>0</th>\n",
       "      <td>Eve</td>\n",
       "    </tr>\n",
       "    <tr>\n",
       "      <th>1</th>\n",
       "      <td>is</td>\n",
       "    </tr>\n",
       "    <tr>\n",
       "      <th>2</th>\n",
       "      <td>an</td>\n",
       "    </tr>\n",
       "    <tr>\n",
       "      <th>3</th>\n",
       "      <td>Artist</td>\n",
       "    </tr>\n",
       "  </tbody>\n",
       "</table>\n",
       "</div>"
      ],
      "text/plain": [
       "                 0\n",
       "  match           \n",
       "0 0          Alice\n",
       "  1             is\n",
       "  2              a\n",
       "  3           Data\n",
       "  4      Scientist\n",
       "1 0            Bob\n",
       "  1             is\n",
       "  2             an\n",
       "  3       Engineer\n",
       "2 0        Charlie\n",
       "  1             is\n",
       "  2              a\n",
       "  3         Doctor\n",
       "3 0          David\n",
       "  1             is\n",
       "  2              a\n",
       "  3         Lawyer\n",
       "4 0            Eve\n",
       "  1             is\n",
       "  2             an\n",
       "  3         Artist"
      ]
     },
     "execution_count": 27,
     "metadata": {},
     "output_type": "execute_result"
    }
   ],
   "source": [
    "# 정규표현식에 일치하는 모든 부분 추출 extractall\n",
    "df['description'].str.extractall(r'(\\w+)')"
   ]
  },
  {
   "cell_type": "code",
   "execution_count": 29,
   "id": "691a8c2d",
   "metadata": {},
   "outputs": [
    {
     "data": {
      "text/plain": [
       "0    Alice  a Data Scientt.\n",
       "1         Bob  an Engineer.\n",
       "2        Charlie  a Doctor.\n",
       "3          David  a Lawyer.\n",
       "4             Eve  an Artt.\n",
       "Name: description, dtype: object"
      ]
     },
     "execution_count": 29,
     "metadata": {},
     "output_type": "execute_result"
    }
   ],
   "source": [
    "# replace\n",
    "df['description'].str.replace('is','')"
   ]
  },
  {
   "cell_type": "code",
   "execution_count": 31,
   "id": "c3521056",
   "metadata": {},
   "outputs": [
    {
     "data": {
      "text/plain": [
       "0    -1\n",
       "1    -1\n",
       "2    -1\n",
       "3    -1\n",
       "4    10\n",
       "Name: description, dtype: int64"
      ]
     },
     "execution_count": 31,
     "metadata": {},
     "output_type": "execute_result"
    }
   ],
   "source": [
    "# find\n",
    "df['description'].str.find('Artist')"
   ]
  },
  {
   "cell_type": "code",
   "execution_count": 33,
   "id": "c4e05e1d",
   "metadata": {},
   "outputs": [
    {
     "data": {
      "text/plain": [
       "0    False\n",
       "1    False\n",
       "2    False\n",
       "3    False\n",
       "4     True\n",
       "Name: description, dtype: bool"
      ]
     },
     "execution_count": 33,
     "metadata": {},
     "output_type": "execute_result"
    }
   ],
   "source": [
    "#문자열이 포함되어 있는지\n",
    "#contains\n",
    "df['description'].str.contains('Artist')"
   ]
  },
  {
   "cell_type": "code",
   "execution_count": 34,
   "id": "1de4d4af",
   "metadata": {},
   "outputs": [
    {
     "data": {
      "text/html": [
       "<div>\n",
       "<style scoped>\n",
       "    .dataframe tbody tr th:only-of-type {\n",
       "        vertical-align: middle;\n",
       "    }\n",
       "\n",
       "    .dataframe tbody tr th {\n",
       "        vertical-align: top;\n",
       "    }\n",
       "\n",
       "    .dataframe thead th {\n",
       "        text-align: right;\n",
       "    }\n",
       "</style>\n",
       "<table border=\"1\" class=\"dataframe\">\n",
       "  <thead>\n",
       "    <tr style=\"text-align: right;\">\n",
       "      <th></th>\n",
       "      <th>name</th>\n",
       "      <th>email</th>\n",
       "      <th>description</th>\n",
       "      <th>name+email</th>\n",
       "      <th>userid</th>\n",
       "      <th>domain</th>\n",
       "    </tr>\n",
       "  </thead>\n",
       "  <tbody>\n",
       "    <tr>\n",
       "      <th>4</th>\n",
       "      <td>Eve</td>\n",
       "      <td>eve@domain.com</td>\n",
       "      <td>Eve is an Artist.</td>\n",
       "      <td>Eve/eve@domain.com</td>\n",
       "      <td>eve</td>\n",
       "      <td>domain.com</td>\n",
       "    </tr>\n",
       "  </tbody>\n",
       "</table>\n",
       "</div>"
      ],
      "text/plain": [
       "  name           email        description          name+email userid  \\\n",
       "4  Eve  eve@domain.com  Eve is an Artist.  Eve/eve@domain.com    eve   \n",
       "\n",
       "       domain  \n",
       "4  domain.com  "
      ]
     },
     "execution_count": 34,
     "metadata": {},
     "output_type": "execute_result"
    }
   ],
   "source": [
    "#loc 이랑 응용하면 \n",
    "#& 문으로 다양하게 엮을 수 있다.\n",
    "df.loc[df['description'].str.contains('Artist')]"
   ]
  },
  {
   "cell_type": "code",
   "execution_count": 36,
   "id": "19a18387",
   "metadata": {},
   "outputs": [
    {
     "data": {
      "text/html": [
       "<div>\n",
       "<style scoped>\n",
       "    .dataframe tbody tr th:only-of-type {\n",
       "        vertical-align: middle;\n",
       "    }\n",
       "\n",
       "    .dataframe tbody tr th {\n",
       "        vertical-align: top;\n",
       "    }\n",
       "\n",
       "    .dataframe thead th {\n",
       "        text-align: right;\n",
       "    }\n",
       "</style>\n",
       "<table border=\"1\" class=\"dataframe\">\n",
       "  <thead>\n",
       "    <tr style=\"text-align: right;\">\n",
       "      <th></th>\n",
       "      <th>domain.com</th>\n",
       "      <th>example.com</th>\n",
       "      <th>sample.net</th>\n",
       "      <th>website.org</th>\n",
       "    </tr>\n",
       "  </thead>\n",
       "  <tbody>\n",
       "    <tr>\n",
       "      <th>0</th>\n",
       "      <td>0</td>\n",
       "      <td>1</td>\n",
       "      <td>0</td>\n",
       "      <td>0</td>\n",
       "    </tr>\n",
       "    <tr>\n",
       "      <th>1</th>\n",
       "      <td>0</td>\n",
       "      <td>1</td>\n",
       "      <td>0</td>\n",
       "      <td>0</td>\n",
       "    </tr>\n",
       "    <tr>\n",
       "      <th>2</th>\n",
       "      <td>0</td>\n",
       "      <td>0</td>\n",
       "      <td>1</td>\n",
       "      <td>0</td>\n",
       "    </tr>\n",
       "    <tr>\n",
       "      <th>3</th>\n",
       "      <td>0</td>\n",
       "      <td>0</td>\n",
       "      <td>0</td>\n",
       "      <td>1</td>\n",
       "    </tr>\n",
       "    <tr>\n",
       "      <th>4</th>\n",
       "      <td>1</td>\n",
       "      <td>0</td>\n",
       "      <td>0</td>\n",
       "      <td>0</td>\n",
       "    </tr>\n",
       "  </tbody>\n",
       "</table>\n",
       "</div>"
      ],
      "text/plain": [
       "   domain.com  example.com  sample.net  website.org\n",
       "0           0            1           0            0\n",
       "1           0            1           0            0\n",
       "2           0            0           1            0\n",
       "3           0            0           0            1\n",
       "4           1            0           0            0"
      ]
     },
     "execution_count": 36,
     "metadata": {},
     "output_type": "execute_result"
    }
   ],
   "source": [
    "## get_dummies\n",
    "## 인코딩하는 작업으로\n",
    "df['domain'].str.get_dummies()"
   ]
  },
  {
   "cell_type": "code",
   "execution_count": 38,
   "id": "abb2d4c4",
   "metadata": {},
   "outputs": [
    {
     "data": {
      "text/html": [
       "<div>\n",
       "<style scoped>\n",
       "    .dataframe tbody tr th:only-of-type {\n",
       "        vertical-align: middle;\n",
       "    }\n",
       "\n",
       "    .dataframe tbody tr th {\n",
       "        vertical-align: top;\n",
       "    }\n",
       "\n",
       "    .dataframe thead th {\n",
       "        text-align: right;\n",
       "    }\n",
       "</style>\n",
       "<table border=\"1\" class=\"dataframe\">\n",
       "  <thead>\n",
       "    <tr style=\"text-align: right;\">\n",
       "      <th></th>\n",
       "      <th>name</th>\n",
       "      <th>email</th>\n",
       "      <th>description</th>\n",
       "      <th>name+email</th>\n",
       "      <th>userid</th>\n",
       "      <th>domain</th>\n",
       "    </tr>\n",
       "  </thead>\n",
       "  <tbody>\n",
       "    <tr>\n",
       "      <th>0</th>\n",
       "      <td>Alice</td>\n",
       "      <td>alice@example.com</td>\n",
       "      <td>Alice is a Data Scientist.</td>\n",
       "      <td>Alice/alice@example.com</td>\n",
       "      <td>alice</td>\n",
       "      <td>example.com</td>\n",
       "    </tr>\n",
       "    <tr>\n",
       "      <th>1</th>\n",
       "      <td>Bob</td>\n",
       "      <td>bob@example.com</td>\n",
       "      <td>Bob is an Engineer.</td>\n",
       "      <td>Bob/bob@example.com</td>\n",
       "      <td>bob</td>\n",
       "      <td>example.com</td>\n",
       "    </tr>\n",
       "    <tr>\n",
       "      <th>2</th>\n",
       "      <td>Charlie</td>\n",
       "      <td>charlie@sample.net</td>\n",
       "      <td>Charlie is a Doctor.</td>\n",
       "      <td>Charlie/charlie@sample.net</td>\n",
       "      <td>charlie</td>\n",
       "      <td>sample.net</td>\n",
       "    </tr>\n",
       "    <tr>\n",
       "      <th>3</th>\n",
       "      <td>David</td>\n",
       "      <td>david@website.org</td>\n",
       "      <td>David is a Lawyer.</td>\n",
       "      <td>David/david@website.org</td>\n",
       "      <td>david</td>\n",
       "      <td>website.org</td>\n",
       "    </tr>\n",
       "    <tr>\n",
       "      <th>4</th>\n",
       "      <td>Eve</td>\n",
       "      <td>eve@domain.com</td>\n",
       "      <td>Eve is an Artist.</td>\n",
       "      <td>Eve/eve@domain.com</td>\n",
       "      <td>eve</td>\n",
       "      <td>domain.com</td>\n",
       "    </tr>\n",
       "  </tbody>\n",
       "</table>\n",
       "</div>"
      ],
      "text/plain": [
       "      name               email                 description  \\\n",
       "0    Alice   alice@example.com  Alice is a Data Scientist.   \n",
       "1      Bob     bob@example.com         Bob is an Engineer.   \n",
       "2  Charlie  charlie@sample.net        Charlie is a Doctor.   \n",
       "3    David   david@website.org          David is a Lawyer.   \n",
       "4      Eve      eve@domain.com           Eve is an Artist.   \n",
       "\n",
       "                   name+email   userid       domain  \n",
       "0     Alice/alice@example.com    alice  example.com  \n",
       "1         Bob/bob@example.com      bob  example.com  \n",
       "2  Charlie/charlie@sample.net  charlie   sample.net  \n",
       "3     David/david@website.org    david  website.org  \n",
       "4          Eve/eve@domain.com      eve   domain.com  "
      ]
     },
     "execution_count": 38,
     "metadata": {},
     "output_type": "execute_result"
    }
   ],
   "source": [
    "df"
   ]
  },
  {
   "cell_type": "code",
   "execution_count": 39,
   "id": "83ef867d",
   "metadata": {},
   "outputs": [
    {
     "ename": "AttributeError",
     "evalue": "'DataFrame' object has no attribute 'str'",
     "output_type": "error",
     "traceback": [
      "\u001b[0;31m---------------------------------------------------------------------------\u001b[0m",
      "\u001b[0;31mAttributeError\u001b[0m                            Traceback (most recent call last)",
      "Cell \u001b[0;32mIn[39], line 1\u001b[0m\n\u001b[0;32m----> 1\u001b[0m \u001b[43mdf\u001b[49m\u001b[43m[\u001b[49m\u001b[43m[\u001b[49m\u001b[38;5;124;43m'\u001b[39;49m\u001b[38;5;124;43mdomain\u001b[39;49m\u001b[38;5;124;43m'\u001b[39;49m\u001b[43m,\u001b[49m\u001b[38;5;124;43m'\u001b[39;49m\u001b[38;5;124;43muserid\u001b[39;49m\u001b[38;5;124;43m'\u001b[39;49m\u001b[43m]\u001b[49m\u001b[43m]\u001b[49m\u001b[38;5;241;43m.\u001b[39;49m\u001b[43mstr\u001b[49m\u001b[38;5;241m.\u001b[39mget_dummies()\n",
      "File \u001b[0;32m/opt/anaconda3/envs/bda/lib/python3.8/site-packages/pandas/core/generic.py:5907\u001b[0m, in \u001b[0;36mNDFrame.__getattr__\u001b[0;34m(self, name)\u001b[0m\n\u001b[1;32m   5900\u001b[0m \u001b[38;5;28;01mif\u001b[39;00m (\n\u001b[1;32m   5901\u001b[0m     name \u001b[38;5;129;01mnot\u001b[39;00m \u001b[38;5;129;01min\u001b[39;00m \u001b[38;5;28mself\u001b[39m\u001b[38;5;241m.\u001b[39m_internal_names_set\n\u001b[1;32m   5902\u001b[0m     \u001b[38;5;129;01mand\u001b[39;00m name \u001b[38;5;129;01mnot\u001b[39;00m \u001b[38;5;129;01min\u001b[39;00m \u001b[38;5;28mself\u001b[39m\u001b[38;5;241m.\u001b[39m_metadata\n\u001b[1;32m   5903\u001b[0m     \u001b[38;5;129;01mand\u001b[39;00m name \u001b[38;5;129;01mnot\u001b[39;00m \u001b[38;5;129;01min\u001b[39;00m \u001b[38;5;28mself\u001b[39m\u001b[38;5;241m.\u001b[39m_accessors\n\u001b[1;32m   5904\u001b[0m     \u001b[38;5;129;01mand\u001b[39;00m \u001b[38;5;28mself\u001b[39m\u001b[38;5;241m.\u001b[39m_info_axis\u001b[38;5;241m.\u001b[39m_can_hold_identifiers_and_holds_name(name)\n\u001b[1;32m   5905\u001b[0m ):\n\u001b[1;32m   5906\u001b[0m     \u001b[38;5;28;01mreturn\u001b[39;00m \u001b[38;5;28mself\u001b[39m[name]\n\u001b[0;32m-> 5907\u001b[0m \u001b[38;5;28;01mreturn\u001b[39;00m \u001b[38;5;28;43mobject\u001b[39;49m\u001b[38;5;241;43m.\u001b[39;49m\u001b[38;5;21;43m__getattribute__\u001b[39;49m\u001b[43m(\u001b[49m\u001b[38;5;28;43mself\u001b[39;49m\u001b[43m,\u001b[49m\u001b[43m \u001b[49m\u001b[43mname\u001b[49m\u001b[43m)\u001b[49m\n",
      "\u001b[0;31mAttributeError\u001b[0m: 'DataFrame' object has no attribute 'str'"
     ]
    }
   ],
   "source": [
    "df[['domain','userid']].str.get_dummies()"
   ]
  },
  {
   "cell_type": "code",
   "execution_count": 40,
   "id": "e94759e9",
   "metadata": {},
   "outputs": [
    {
     "ename": "AttributeError",
     "evalue": "'DataFrame' object has no attribute 'str'",
     "output_type": "error",
     "traceback": [
      "\u001b[0;31m---------------------------------------------------------------------------\u001b[0m",
      "\u001b[0;31mAttributeError\u001b[0m                            Traceback (most recent call last)",
      "Cell \u001b[0;32mIn[40], line 1\u001b[0m\n\u001b[0;32m----> 1\u001b[0m \u001b[43mdf\u001b[49m\u001b[43m[\u001b[49m\u001b[43m[\u001b[49m\u001b[38;5;124;43m'\u001b[39;49m\u001b[38;5;124;43mdescription\u001b[39;49m\u001b[38;5;124;43m'\u001b[39;49m\u001b[43m,\u001b[49m\u001b[38;5;124;43m'\u001b[39;49m\u001b[38;5;124;43muserid\u001b[39;49m\u001b[38;5;124;43m'\u001b[39;49m\u001b[43m]\u001b[49m\u001b[43m]\u001b[49m\u001b[38;5;241;43m.\u001b[39;49m\u001b[43mstr\u001b[49m\u001b[38;5;241m.\u001b[39mcontains(\u001b[38;5;124m'\u001b[39m\u001b[38;5;124mArtist\u001b[39m\u001b[38;5;124m'\u001b[39m)\n",
      "File \u001b[0;32m/opt/anaconda3/envs/bda/lib/python3.8/site-packages/pandas/core/generic.py:5907\u001b[0m, in \u001b[0;36mNDFrame.__getattr__\u001b[0;34m(self, name)\u001b[0m\n\u001b[1;32m   5900\u001b[0m \u001b[38;5;28;01mif\u001b[39;00m (\n\u001b[1;32m   5901\u001b[0m     name \u001b[38;5;129;01mnot\u001b[39;00m \u001b[38;5;129;01min\u001b[39;00m \u001b[38;5;28mself\u001b[39m\u001b[38;5;241m.\u001b[39m_internal_names_set\n\u001b[1;32m   5902\u001b[0m     \u001b[38;5;129;01mand\u001b[39;00m name \u001b[38;5;129;01mnot\u001b[39;00m \u001b[38;5;129;01min\u001b[39;00m \u001b[38;5;28mself\u001b[39m\u001b[38;5;241m.\u001b[39m_metadata\n\u001b[1;32m   5903\u001b[0m     \u001b[38;5;129;01mand\u001b[39;00m name \u001b[38;5;129;01mnot\u001b[39;00m \u001b[38;5;129;01min\u001b[39;00m \u001b[38;5;28mself\u001b[39m\u001b[38;5;241m.\u001b[39m_accessors\n\u001b[1;32m   5904\u001b[0m     \u001b[38;5;129;01mand\u001b[39;00m \u001b[38;5;28mself\u001b[39m\u001b[38;5;241m.\u001b[39m_info_axis\u001b[38;5;241m.\u001b[39m_can_hold_identifiers_and_holds_name(name)\n\u001b[1;32m   5905\u001b[0m ):\n\u001b[1;32m   5906\u001b[0m     \u001b[38;5;28;01mreturn\u001b[39;00m \u001b[38;5;28mself\u001b[39m[name]\n\u001b[0;32m-> 5907\u001b[0m \u001b[38;5;28;01mreturn\u001b[39;00m \u001b[38;5;28;43mobject\u001b[39;49m\u001b[38;5;241;43m.\u001b[39;49m\u001b[38;5;21;43m__getattribute__\u001b[39;49m\u001b[43m(\u001b[49m\u001b[38;5;28;43mself\u001b[39;49m\u001b[43m,\u001b[49m\u001b[43m \u001b[49m\u001b[43mname\u001b[49m\u001b[43m)\u001b[49m\n",
      "\u001b[0;31mAttributeError\u001b[0m: 'DataFrame' object has no attribute 'str'"
     ]
    }
   ],
   "source": [
    "df[['description','userid']].str.contains('Artist')"
   ]
  },
  {
   "cell_type": "code",
   "execution_count": 42,
   "id": "28bcbcf5",
   "metadata": {},
   "outputs": [
    {
     "data": {
      "text/plain": [
       "0    False\n",
       "1    False\n",
       "2    False\n",
       "3    False\n",
       "4     True\n",
       "Name: description, dtype: bool"
      ]
     },
     "execution_count": 42,
     "metadata": {},
     "output_type": "execute_result"
    }
   ],
   "source": [
    "df['description'].str.contains('Artist')"
   ]
  },
  {
   "cell_type": "code",
   "execution_count": 41,
   "id": "614258d4",
   "metadata": {},
   "outputs": [
    {
     "data": {
      "text/plain": [
       "0    Alice is a Data Scientist.\n",
       "1           Bob is an Engineer.\n",
       "2          Charlie is a Doctor.\n",
       "3            David is a Lawyer.\n",
       "4             Eve is an Artist.\n",
       "Name: description, dtype: object"
      ]
     },
     "execution_count": 41,
     "metadata": {},
     "output_type": "execute_result"
    }
   ],
   "source": [
    "df['description']"
   ]
  },
  {
   "cell_type": "markdown",
   "id": "ab93fe24",
   "metadata": {},
   "source": [
    "- 시리즈로 접근해서 처리한 후 -> 데이터프레임으로 같이 연결하면 된다."
   ]
  },
  {
   "cell_type": "code",
   "execution_count": 45,
   "id": "4bd0ac06",
   "metadata": {},
   "outputs": [],
   "source": [
    "df=pd.read_csv('movie_rv.csv')"
   ]
  },
  {
   "cell_type": "code",
   "execution_count": 46,
   "id": "362ada22",
   "metadata": {},
   "outputs": [
    {
     "data": {
      "text/html": [
       "<div>\n",
       "<style scoped>\n",
       "    .dataframe tbody tr th:only-of-type {\n",
       "        vertical-align: middle;\n",
       "    }\n",
       "\n",
       "    .dataframe tbody tr th {\n",
       "        vertical-align: top;\n",
       "    }\n",
       "\n",
       "    .dataframe thead th {\n",
       "        text-align: right;\n",
       "    }\n",
       "</style>\n",
       "<table border=\"1\" class=\"dataframe\">\n",
       "  <thead>\n",
       "    <tr style=\"text-align: right;\">\n",
       "      <th></th>\n",
       "      <th>Unnamed: 0</th>\n",
       "      <th>id</th>\n",
       "      <th>document</th>\n",
       "      <th>label</th>\n",
       "    </tr>\n",
       "  </thead>\n",
       "  <tbody>\n",
       "    <tr>\n",
       "      <th>0</th>\n",
       "      <td>0</td>\n",
       "      <td>9976970</td>\n",
       "      <td>아 더빙.. 진짜 짜증나네요 목소리</td>\n",
       "      <td>0</td>\n",
       "    </tr>\n",
       "    <tr>\n",
       "      <th>1</th>\n",
       "      <td>1</td>\n",
       "      <td>3819312</td>\n",
       "      <td>흠...포스터보고 초딩영화줄....오버연기조차 가볍지 않구나</td>\n",
       "      <td>1</td>\n",
       "    </tr>\n",
       "    <tr>\n",
       "      <th>2</th>\n",
       "      <td>2</td>\n",
       "      <td>10265843</td>\n",
       "      <td>너무재밓었다그래서보는것을추천한다</td>\n",
       "      <td>0</td>\n",
       "    </tr>\n",
       "    <tr>\n",
       "      <th>3</th>\n",
       "      <td>3</td>\n",
       "      <td>9045019</td>\n",
       "      <td>교도소 이야기구먼 ..솔직히 재미는 없다..평점 조정</td>\n",
       "      <td>0</td>\n",
       "    </tr>\n",
       "    <tr>\n",
       "      <th>4</th>\n",
       "      <td>4</td>\n",
       "      <td>6483659</td>\n",
       "      <td>사이몬페그의 익살스런 연기가 돋보였던 영화!스파이더맨에서 늙어보이기만 했던 커스틴 ...</td>\n",
       "      <td>1</td>\n",
       "    </tr>\n",
       "    <tr>\n",
       "      <th>...</th>\n",
       "      <td>...</td>\n",
       "      <td>...</td>\n",
       "      <td>...</td>\n",
       "      <td>...</td>\n",
       "    </tr>\n",
       "    <tr>\n",
       "      <th>149995</th>\n",
       "      <td>149995</td>\n",
       "      <td>6222902</td>\n",
       "      <td>인간이 문제지.. 소는 뭔죄인가..</td>\n",
       "      <td>0</td>\n",
       "    </tr>\n",
       "    <tr>\n",
       "      <th>149996</th>\n",
       "      <td>149996</td>\n",
       "      <td>8549745</td>\n",
       "      <td>평점이 너무 낮아서...</td>\n",
       "      <td>1</td>\n",
       "    </tr>\n",
       "    <tr>\n",
       "      <th>149997</th>\n",
       "      <td>149997</td>\n",
       "      <td>9311800</td>\n",
       "      <td>이게 뭐요? 한국인은 거들먹거리고 필리핀 혼혈은 착하다?</td>\n",
       "      <td>0</td>\n",
       "    </tr>\n",
       "    <tr>\n",
       "      <th>149998</th>\n",
       "      <td>149998</td>\n",
       "      <td>2376369</td>\n",
       "      <td>청춘 영화의 최고봉.방황과 우울했던 날들의 자화상</td>\n",
       "      <td>1</td>\n",
       "    </tr>\n",
       "    <tr>\n",
       "      <th>149999</th>\n",
       "      <td>149999</td>\n",
       "      <td>9619869</td>\n",
       "      <td>한국 영화 최초로 수간하는 내용이 담긴 영화</td>\n",
       "      <td>0</td>\n",
       "    </tr>\n",
       "  </tbody>\n",
       "</table>\n",
       "<p>150000 rows × 4 columns</p>\n",
       "</div>"
      ],
      "text/plain": [
       "        Unnamed: 0        id  \\\n",
       "0                0   9976970   \n",
       "1                1   3819312   \n",
       "2                2  10265843   \n",
       "3                3   9045019   \n",
       "4                4   6483659   \n",
       "...            ...       ...   \n",
       "149995      149995   6222902   \n",
       "149996      149996   8549745   \n",
       "149997      149997   9311800   \n",
       "149998      149998   2376369   \n",
       "149999      149999   9619869   \n",
       "\n",
       "                                                 document  label  \n",
       "0                                     아 더빙.. 진짜 짜증나네요 목소리      0  \n",
       "1                       흠...포스터보고 초딩영화줄....오버연기조차 가볍지 않구나      1  \n",
       "2                                       너무재밓었다그래서보는것을추천한다      0  \n",
       "3                           교도소 이야기구먼 ..솔직히 재미는 없다..평점 조정      0  \n",
       "4       사이몬페그의 익살스런 연기가 돋보였던 영화!스파이더맨에서 늙어보이기만 했던 커스틴 ...      1  \n",
       "...                                                   ...    ...  \n",
       "149995                                인간이 문제지.. 소는 뭔죄인가..      0  \n",
       "149996                                      평점이 너무 낮아서...      1  \n",
       "149997                    이게 뭐요? 한국인은 거들먹거리고 필리핀 혼혈은 착하다?      0  \n",
       "149998                        청춘 영화의 최고봉.방황과 우울했던 날들의 자화상      1  \n",
       "149999                           한국 영화 최초로 수간하는 내용이 담긴 영화      0  \n",
       "\n",
       "[150000 rows x 4 columns]"
      ]
     },
     "execution_count": 46,
     "metadata": {},
     "output_type": "execute_result"
    }
   ],
   "source": [
    "df"
   ]
  },
  {
   "cell_type": "code",
   "execution_count": 48,
   "id": "501f4d8b",
   "metadata": {},
   "outputs": [
    {
     "data": {
      "text/html": [
       "<div>\n",
       "<style scoped>\n",
       "    .dataframe tbody tr th:only-of-type {\n",
       "        vertical-align: middle;\n",
       "    }\n",
       "\n",
       "    .dataframe tbody tr th {\n",
       "        vertical-align: top;\n",
       "    }\n",
       "\n",
       "    .dataframe thead th {\n",
       "        text-align: right;\n",
       "    }\n",
       "</style>\n",
       "<table border=\"1\" class=\"dataframe\">\n",
       "  <thead>\n",
       "    <tr style=\"text-align: right;\">\n",
       "      <th></th>\n",
       "      <th>0</th>\n",
       "      <th>1</th>\n",
       "    </tr>\n",
       "  </thead>\n",
       "  <tbody>\n",
       "    <tr>\n",
       "      <th>0</th>\n",
       "      <td>아</td>\n",
       "      <td>더빙.. 진짜 짜증나네요 목소리</td>\n",
       "    </tr>\n",
       "    <tr>\n",
       "      <th>1</th>\n",
       "      <td>흠...포스터보고</td>\n",
       "      <td>초딩영화줄....오버연기조차 가볍지 않구나</td>\n",
       "    </tr>\n",
       "    <tr>\n",
       "      <th>2</th>\n",
       "      <td>너무재밓었다그래서보는것을추천한다</td>\n",
       "      <td>None</td>\n",
       "    </tr>\n",
       "    <tr>\n",
       "      <th>3</th>\n",
       "      <td>교도소</td>\n",
       "      <td>이야기구먼 ..솔직히 재미는 없다..평점 조정</td>\n",
       "    </tr>\n",
       "    <tr>\n",
       "      <th>4</th>\n",
       "      <td>사이몬페그의</td>\n",
       "      <td>익살스런 연기가 돋보였던 영화!스파이더맨에서 늙어보이기만 했던 커스틴 던스트가 너무...</td>\n",
       "    </tr>\n",
       "    <tr>\n",
       "      <th>...</th>\n",
       "      <td>...</td>\n",
       "      <td>...</td>\n",
       "    </tr>\n",
       "    <tr>\n",
       "      <th>149995</th>\n",
       "      <td>인간이</td>\n",
       "      <td>문제지.. 소는 뭔죄인가..</td>\n",
       "    </tr>\n",
       "    <tr>\n",
       "      <th>149996</th>\n",
       "      <td>평점이</td>\n",
       "      <td>너무 낮아서...</td>\n",
       "    </tr>\n",
       "    <tr>\n",
       "      <th>149997</th>\n",
       "      <td>이게</td>\n",
       "      <td>뭐요? 한국인은 거들먹거리고 필리핀 혼혈은 착하다?</td>\n",
       "    </tr>\n",
       "    <tr>\n",
       "      <th>149998</th>\n",
       "      <td>청춘</td>\n",
       "      <td>영화의 최고봉.방황과 우울했던 날들의 자화상</td>\n",
       "    </tr>\n",
       "    <tr>\n",
       "      <th>149999</th>\n",
       "      <td>한국</td>\n",
       "      <td>영화 최초로 수간하는 내용이 담긴 영화</td>\n",
       "    </tr>\n",
       "  </tbody>\n",
       "</table>\n",
       "<p>150000 rows × 2 columns</p>\n",
       "</div>"
      ],
      "text/plain": [
       "                        0                                                  1\n",
       "0                       아                                  더빙.. 진짜 짜증나네요 목소리\n",
       "1               흠...포스터보고                            초딩영화줄....오버연기조차 가볍지 않구나\n",
       "2       너무재밓었다그래서보는것을추천한다                                               None\n",
       "3                     교도소                          이야기구먼 ..솔직히 재미는 없다..평점 조정\n",
       "4                  사이몬페그의  익살스런 연기가 돋보였던 영화!스파이더맨에서 늙어보이기만 했던 커스틴 던스트가 너무...\n",
       "...                   ...                                                ...\n",
       "149995                인간이                                    문제지.. 소는 뭔죄인가..\n",
       "149996                평점이                                          너무 낮아서...\n",
       "149997                 이게                       뭐요? 한국인은 거들먹거리고 필리핀 혼혈은 착하다?\n",
       "149998                 청춘                           영화의 최고봉.방황과 우울했던 날들의 자화상\n",
       "149999                 한국                              영화 최초로 수간하는 내용이 담긴 영화\n",
       "\n",
       "[150000 rows x 2 columns]"
      ]
     },
     "execution_count": 48,
     "metadata": {},
     "output_type": "execute_result"
    }
   ],
   "source": [
    "# 구분자를 넣고 여러 컬럼을 나눠보기!\n",
    "df['document'].str.split(' ',n=1, expand=True)"
   ]
  },
  {
   "cell_type": "code",
   "execution_count": 51,
   "id": "e5135e84",
   "metadata": {},
   "outputs": [
    {
     "data": {
      "text/html": [
       "<div>\n",
       "<style scoped>\n",
       "    .dataframe tbody tr th:only-of-type {\n",
       "        vertical-align: middle;\n",
       "    }\n",
       "\n",
       "    .dataframe tbody tr th {\n",
       "        vertical-align: top;\n",
       "    }\n",
       "\n",
       "    .dataframe thead th {\n",
       "        text-align: right;\n",
       "    }\n",
       "</style>\n",
       "<table border=\"1\" class=\"dataframe\">\n",
       "  <thead>\n",
       "    <tr style=\"text-align: right;\">\n",
       "      <th></th>\n",
       "      <th>0</th>\n",
       "      <th>1</th>\n",
       "      <th>2</th>\n",
       "    </tr>\n",
       "  </thead>\n",
       "  <tbody>\n",
       "    <tr>\n",
       "      <th>0</th>\n",
       "      <td>아</td>\n",
       "      <td></td>\n",
       "      <td>더빙.. 진짜 짜증나네요 목소리</td>\n",
       "    </tr>\n",
       "    <tr>\n",
       "      <th>1</th>\n",
       "      <td>흠...포스터보고</td>\n",
       "      <td></td>\n",
       "      <td>초딩영화줄....오버연기조차 가볍지 않구나</td>\n",
       "    </tr>\n",
       "    <tr>\n",
       "      <th>2</th>\n",
       "      <td>너무재밓었다그래서보는것을추천한다</td>\n",
       "      <td></td>\n",
       "      <td></td>\n",
       "    </tr>\n",
       "    <tr>\n",
       "      <th>3</th>\n",
       "      <td>교도소</td>\n",
       "      <td></td>\n",
       "      <td>이야기구먼 ..솔직히 재미는 없다..평점 조정</td>\n",
       "    </tr>\n",
       "    <tr>\n",
       "      <th>4</th>\n",
       "      <td>사이몬페그의</td>\n",
       "      <td></td>\n",
       "      <td>익살스런 연기가 돋보였던 영화!스파이더맨에서 늙어보이기만 했던 커스틴 던스트가 너무...</td>\n",
       "    </tr>\n",
       "    <tr>\n",
       "      <th>...</th>\n",
       "      <td>...</td>\n",
       "      <td>...</td>\n",
       "      <td>...</td>\n",
       "    </tr>\n",
       "    <tr>\n",
       "      <th>149995</th>\n",
       "      <td>인간이</td>\n",
       "      <td></td>\n",
       "      <td>문제지.. 소는 뭔죄인가..</td>\n",
       "    </tr>\n",
       "    <tr>\n",
       "      <th>149996</th>\n",
       "      <td>평점이</td>\n",
       "      <td></td>\n",
       "      <td>너무 낮아서...</td>\n",
       "    </tr>\n",
       "    <tr>\n",
       "      <th>149997</th>\n",
       "      <td>이게</td>\n",
       "      <td></td>\n",
       "      <td>뭐요? 한국인은 거들먹거리고 필리핀 혼혈은 착하다?</td>\n",
       "    </tr>\n",
       "    <tr>\n",
       "      <th>149998</th>\n",
       "      <td>청춘</td>\n",
       "      <td></td>\n",
       "      <td>영화의 최고봉.방황과 우울했던 날들의 자화상</td>\n",
       "    </tr>\n",
       "    <tr>\n",
       "      <th>149999</th>\n",
       "      <td>한국</td>\n",
       "      <td></td>\n",
       "      <td>영화 최초로 수간하는 내용이 담긴 영화</td>\n",
       "    </tr>\n",
       "  </tbody>\n",
       "</table>\n",
       "<p>150000 rows × 3 columns</p>\n",
       "</div>"
      ],
      "text/plain": [
       "                        0  1  \\\n",
       "0                       아      \n",
       "1               흠...포스터보고      \n",
       "2       너무재밓었다그래서보는것을추천한다      \n",
       "3                     교도소      \n",
       "4                  사이몬페그의      \n",
       "...                   ... ..   \n",
       "149995                인간이      \n",
       "149996                평점이      \n",
       "149997                 이게      \n",
       "149998                 청춘      \n",
       "149999                 한국      \n",
       "\n",
       "                                                        2  \n",
       "0                                       더빙.. 진짜 짜증나네요 목소리  \n",
       "1                                 초딩영화줄....오버연기조차 가볍지 않구나  \n",
       "2                                                          \n",
       "3                               이야기구먼 ..솔직히 재미는 없다..평점 조정  \n",
       "4       익살스런 연기가 돋보였던 영화!스파이더맨에서 늙어보이기만 했던 커스틴 던스트가 너무...  \n",
       "...                                                   ...  \n",
       "149995                                    문제지.. 소는 뭔죄인가..  \n",
       "149996                                          너무 낮아서...  \n",
       "149997                       뭐요? 한국인은 거들먹거리고 필리핀 혼혈은 착하다?  \n",
       "149998                           영화의 최고봉.방황과 우울했던 날들의 자화상  \n",
       "149999                              영화 최초로 수간하는 내용이 담긴 영화  \n",
       "\n",
       "[150000 rows x 3 columns]"
      ]
     },
     "execution_count": 51,
     "metadata": {},
     "output_type": "execute_result"
    }
   ],
   "source": [
    "# 데이터를 3개 이상 나누고 싶다.\n",
    "df['document'].str.partition(sep=' ')"
   ]
  },
  {
   "cell_type": "code",
   "execution_count": 52,
   "id": "14c661cb",
   "metadata": {},
   "outputs": [
    {
     "data": {
      "text/plain": [
       "0             []\n",
       "1             []\n",
       "2            [재]\n",
       "3         [재, 미]\n",
       "4             []\n",
       "           ...  \n",
       "149995        []\n",
       "149996        []\n",
       "149997        []\n",
       "149998        []\n",
       "149999        []\n",
       "Name: document, Length: 150000, dtype: object"
      ]
     },
     "execution_count": 52,
     "metadata": {},
     "output_type": "execute_result"
    }
   ],
   "source": [
    "# 정규표현식으로 특정 단어 추출\n",
    "df['document'].str.findall('[재미]')"
   ]
  },
  {
   "cell_type": "code",
   "execution_count": 54,
   "id": "84d5a7de",
   "metadata": {},
   "outputs": [],
   "source": [
    "##리뷰에 대한 수치를 시각적으로 볼 수 있다.\n",
    "\n",
    "df['document_len']=df['document'].str.len()"
   ]
  },
  {
   "cell_type": "code",
   "execution_count": 57,
   "id": "b1fee993",
   "metadata": {},
   "outputs": [],
   "source": [
    "import matplotlib.pyplot as plt"
   ]
  },
  {
   "cell_type": "code",
   "execution_count": 58,
   "id": "048895a5",
   "metadata": {},
   "outputs": [
    {
     "data": {
      "text/plain": [
       "(array([36766., 46098., 33551., 12015.,  6098.,  3990.,  3136.,  2231.,\n",
       "         2361.,  3749.]),\n",
       " array([  1. ,  15.5,  30. ,  44.5,  59. ,  73.5,  88. , 102.5, 117. ,\n",
       "        131.5, 146. ]),\n",
       " <BarContainer object of 10 artists>)"
      ]
     },
     "execution_count": 58,
     "metadata": {},
     "output_type": "execute_result"
    },
    {
     "data": {
      "image/png": "[encoded data removed]",
      "text/plain": [
       "<Figure size 640x480 with 1 Axes>"
      ]
     },
     "metadata": {},
     "output_type": "display_data"
    }
   ],
   "source": [
    "plt.hist(df['document_len'])"
   ]
  },
  {
   "cell_type": "code",
   "execution_count": 63,
   "id": "903b410b",
   "metadata": {},
   "outputs": [
    {
     "data": {
      "text/html": [
       "<div>\n",
       "<style scoped>\n",
       "    .dataframe tbody tr th:only-of-type {\n",
       "        vertical-align: middle;\n",
       "    }\n",
       "\n",
       "    .dataframe tbody tr th {\n",
       "        vertical-align: top;\n",
       "    }\n",
       "\n",
       "    .dataframe thead th {\n",
       "        text-align: right;\n",
       "    }\n",
       "</style>\n",
       "<table border=\"1\" class=\"dataframe\">\n",
       "  <thead>\n",
       "    <tr style=\"text-align: right;\">\n",
       "      <th></th>\n",
       "      <th>count</th>\n",
       "      <th>mean</th>\n",
       "      <th>std</th>\n",
       "      <th>min</th>\n",
       "      <th>25%</th>\n",
       "      <th>50%</th>\n",
       "      <th>75%</th>\n",
       "      <th>max</th>\n",
       "    </tr>\n",
       "    <tr>\n",
       "      <th>label</th>\n",
       "      <th></th>\n",
       "      <th></th>\n",
       "      <th></th>\n",
       "      <th></th>\n",
       "      <th></th>\n",
       "      <th></th>\n",
       "      <th></th>\n",
       "      <th></th>\n",
       "    </tr>\n",
       "  </thead>\n",
       "  <tbody>\n",
       "    <tr>\n",
       "      <th>0</th>\n",
       "      <td>75170.0</td>\n",
       "      <td>35.806319</td>\n",
       "      <td>30.343703</td>\n",
       "      <td>1.0</td>\n",
       "      <td>16.0</td>\n",
       "      <td>27.0</td>\n",
       "      <td>43.0</td>\n",
       "      <td>146.0</td>\n",
       "    </tr>\n",
       "    <tr>\n",
       "      <th>1</th>\n",
       "      <td>74825.0</td>\n",
       "      <td>34.599960</td>\n",
       "      <td>28.680707</td>\n",
       "      <td>1.0</td>\n",
       "      <td>16.0</td>\n",
       "      <td>27.0</td>\n",
       "      <td>42.0</td>\n",
       "      <td>146.0</td>\n",
       "    </tr>\n",
       "  </tbody>\n",
       "</table>\n",
       "</div>"
      ],
      "text/plain": [
       "         count       mean        std  min   25%   50%   75%    max\n",
       "label                                                             \n",
       "0      75170.0  35.806319  30.343703  1.0  16.0  27.0  43.0  146.0\n",
       "1      74825.0  34.599960  28.680707  1.0  16.0  27.0  42.0  146.0"
      ]
     },
     "execution_count": 63,
     "metadata": {},
     "output_type": "execute_result"
    }
   ],
   "source": [
    "df.groupby('label')['document_len'].describe()"
   ]
  },
  {
   "cell_type": "code",
   "execution_count": 64,
   "id": "4143e2ba",
   "metadata": {},
   "outputs": [
    {
     "data": {
      "text/html": [
       "<div>\n",
       "<style scoped>\n",
       "    .dataframe tbody tr th:only-of-type {\n",
       "        vertical-align: middle;\n",
       "    }\n",
       "\n",
       "    .dataframe tbody tr th {\n",
       "        vertical-align: top;\n",
       "    }\n",
       "\n",
       "    .dataframe thead th {\n",
       "        text-align: right;\n",
       "    }\n",
       "</style>\n",
       "<table border=\"1\" class=\"dataframe\">\n",
       "  <thead>\n",
       "    <tr style=\"text-align: right;\">\n",
       "      <th></th>\n",
       "      <th>Unnamed: 0</th>\n",
       "      <th>id</th>\n",
       "      <th>document</th>\n",
       "      <th>label</th>\n",
       "      <th>document_len</th>\n",
       "    </tr>\n",
       "  </thead>\n",
       "  <tbody>\n",
       "    <tr>\n",
       "      <th>0</th>\n",
       "      <td>0</td>\n",
       "      <td>9976970</td>\n",
       "      <td>아 더빙.. 진짜 짜증나네요 목소리</td>\n",
       "      <td>0</td>\n",
       "      <td>19.0</td>\n",
       "    </tr>\n",
       "    <tr>\n",
       "      <th>1</th>\n",
       "      <td>1</td>\n",
       "      <td>3819312</td>\n",
       "      <td>흠...포스터보고 초딩영화줄....오버연기조차 가볍지 않구나</td>\n",
       "      <td>1</td>\n",
       "      <td>33.0</td>\n",
       "    </tr>\n",
       "    <tr>\n",
       "      <th>2</th>\n",
       "      <td>2</td>\n",
       "      <td>10265843</td>\n",
       "      <td>너무재밓었다그래서보는것을추천한다</td>\n",
       "      <td>0</td>\n",
       "      <td>17.0</td>\n",
       "    </tr>\n",
       "    <tr>\n",
       "      <th>3</th>\n",
       "      <td>3</td>\n",
       "      <td>9045019</td>\n",
       "      <td>교도소 이야기구먼 ..솔직히 재미는 없다..평점 조정</td>\n",
       "      <td>0</td>\n",
       "      <td>29.0</td>\n",
       "    </tr>\n",
       "    <tr>\n",
       "      <th>4</th>\n",
       "      <td>4</td>\n",
       "      <td>6483659</td>\n",
       "      <td>사이몬페그의 익살스런 연기가 돋보였던 영화!스파이더맨에서 늙어보이기만 했던 커스틴 ...</td>\n",
       "      <td>1</td>\n",
       "      <td>61.0</td>\n",
       "    </tr>\n",
       "    <tr>\n",
       "      <th>...</th>\n",
       "      <td>...</td>\n",
       "      <td>...</td>\n",
       "      <td>...</td>\n",
       "      <td>...</td>\n",
       "      <td>...</td>\n",
       "    </tr>\n",
       "    <tr>\n",
       "      <th>149995</th>\n",
       "      <td>149995</td>\n",
       "      <td>6222902</td>\n",
       "      <td>인간이 문제지.. 소는 뭔죄인가..</td>\n",
       "      <td>0</td>\n",
       "      <td>19.0</td>\n",
       "    </tr>\n",
       "    <tr>\n",
       "      <th>149996</th>\n",
       "      <td>149996</td>\n",
       "      <td>8549745</td>\n",
       "      <td>평점이 너무 낮아서...</td>\n",
       "      <td>1</td>\n",
       "      <td>13.0</td>\n",
       "    </tr>\n",
       "    <tr>\n",
       "      <th>149997</th>\n",
       "      <td>149997</td>\n",
       "      <td>9311800</td>\n",
       "      <td>이게 뭐요? 한국인은 거들먹거리고 필리핀 혼혈은 착하다?</td>\n",
       "      <td>0</td>\n",
       "      <td>31.0</td>\n",
       "    </tr>\n",
       "    <tr>\n",
       "      <th>149998</th>\n",
       "      <td>149998</td>\n",
       "      <td>2376369</td>\n",
       "      <td>청춘 영화의 최고봉.방황과 우울했던 날들의 자화상</td>\n",
       "      <td>1</td>\n",
       "      <td>27.0</td>\n",
       "    </tr>\n",
       "    <tr>\n",
       "      <th>149999</th>\n",
       "      <td>149999</td>\n",
       "      <td>9619869</td>\n",
       "      <td>한국 영화 최초로 수간하는 내용이 담긴 영화</td>\n",
       "      <td>0</td>\n",
       "      <td>24.0</td>\n",
       "    </tr>\n",
       "  </tbody>\n",
       "</table>\n",
       "<p>150000 rows × 5 columns</p>\n",
       "</div>"
      ],
      "text/plain": [
       "        Unnamed: 0        id  \\\n",
       "0                0   9976970   \n",
       "1                1   3819312   \n",
       "2                2  10265843   \n",
       "3                3   9045019   \n",
       "4                4   6483659   \n",
       "...            ...       ...   \n",
       "149995      149995   6222902   \n",
       "149996      149996   8549745   \n",
       "149997      149997   9311800   \n",
       "149998      149998   2376369   \n",
       "149999      149999   9619869   \n",
       "\n",
       "                                                 document  label  document_len  \n",
       "0                                     아 더빙.. 진짜 짜증나네요 목소리      0          19.0  \n",
       "1                       흠...포스터보고 초딩영화줄....오버연기조차 가볍지 않구나      1          33.0  \n",
       "2                                       너무재밓었다그래서보는것을추천한다      0          17.0  \n",
       "3                           교도소 이야기구먼 ..솔직히 재미는 없다..평점 조정      0          29.0  \n",
       "4       사이몬페그의 익살스런 연기가 돋보였던 영화!스파이더맨에서 늙어보이기만 했던 커스틴 ...      1          61.0  \n",
       "...                                                   ...    ...           ...  \n",
       "149995                                인간이 문제지.. 소는 뭔죄인가..      0          19.0  \n",
       "149996                                      평점이 너무 낮아서...      1          13.0  \n",
       "149997                    이게 뭐요? 한국인은 거들먹거리고 필리핀 혼혈은 착하다?      0          31.0  \n",
       "149998                        청춘 영화의 최고봉.방황과 우울했던 날들의 자화상      1          27.0  \n",
       "149999                           한국 영화 최초로 수간하는 내용이 담긴 영화      0          24.0  \n",
       "\n",
       "[150000 rows x 5 columns]"
      ]
     },
     "execution_count": 64,
     "metadata": {},
     "output_type": "execute_result"
    }
   ],
   "source": [
    "df"
   ]
  },
  {
   "cell_type": "markdown",
   "id": "dec03087",
   "metadata": {},
   "source": [
    "### 정형데이터와는 다르게 비정형데이터( 리뷰데이터 ) \n",
    "- 어떤 점이 차이가 있을까?"
   ]
  },
  {
   "cell_type": "code",
   "execution_count": 66,
   "id": "ee9d44ff",
   "metadata": {},
   "outputs": [
    {
     "data": {
      "text/html": [
       "<div>\n",
       "<style scoped>\n",
       "    .dataframe tbody tr th:only-of-type {\n",
       "        vertical-align: middle;\n",
       "    }\n",
       "\n",
       "    .dataframe tbody tr th {\n",
       "        vertical-align: top;\n",
       "    }\n",
       "\n",
       "    .dataframe thead th {\n",
       "        text-align: right;\n",
       "    }\n",
       "</style>\n",
       "<table border=\"1\" class=\"dataframe\">\n",
       "  <thead>\n",
       "    <tr style=\"text-align: right;\">\n",
       "      <th></th>\n",
       "      <th>survived</th>\n",
       "      <th>pclass</th>\n",
       "      <th>sex</th>\n",
       "      <th>age</th>\n",
       "      <th>sibsp</th>\n",
       "      <th>parch</th>\n",
       "      <th>fare</th>\n",
       "      <th>embarked</th>\n",
       "      <th>class</th>\n",
       "      <th>who</th>\n",
       "      <th>adult_male</th>\n",
       "      <th>deck</th>\n",
       "      <th>embark_town</th>\n",
       "      <th>alive</th>\n",
       "      <th>alone</th>\n",
       "    </tr>\n",
       "  </thead>\n",
       "  <tbody>\n",
       "    <tr>\n",
       "      <th>0</th>\n",
       "      <td>0</td>\n",
       "      <td>3</td>\n",
       "      <td>male</td>\n",
       "      <td>22.0</td>\n",
       "      <td>1</td>\n",
       "      <td>0</td>\n",
       "      <td>7.2500</td>\n",
       "      <td>S</td>\n",
       "      <td>Third</td>\n",
       "      <td>man</td>\n",
       "      <td>True</td>\n",
       "      <td>NaN</td>\n",
       "      <td>Southampton</td>\n",
       "      <td>no</td>\n",
       "      <td>False</td>\n",
       "    </tr>\n",
       "    <tr>\n",
       "      <th>1</th>\n",
       "      <td>1</td>\n",
       "      <td>1</td>\n",
       "      <td>female</td>\n",
       "      <td>38.0</td>\n",
       "      <td>1</td>\n",
       "      <td>0</td>\n",
       "      <td>71.2833</td>\n",
       "      <td>C</td>\n",
       "      <td>First</td>\n",
       "      <td>woman</td>\n",
       "      <td>False</td>\n",
       "      <td>C</td>\n",
       "      <td>Cherbourg</td>\n",
       "      <td>yes</td>\n",
       "      <td>False</td>\n",
       "    </tr>\n",
       "    <tr>\n",
       "      <th>2</th>\n",
       "      <td>1</td>\n",
       "      <td>3</td>\n",
       "      <td>female</td>\n",
       "      <td>26.0</td>\n",
       "      <td>0</td>\n",
       "      <td>0</td>\n",
       "      <td>7.9250</td>\n",
       "      <td>S</td>\n",
       "      <td>Third</td>\n",
       "      <td>woman</td>\n",
       "      <td>False</td>\n",
       "      <td>NaN</td>\n",
       "      <td>Southampton</td>\n",
       "      <td>yes</td>\n",
       "      <td>True</td>\n",
       "    </tr>\n",
       "    <tr>\n",
       "      <th>3</th>\n",
       "      <td>1</td>\n",
       "      <td>1</td>\n",
       "      <td>female</td>\n",
       "      <td>35.0</td>\n",
       "      <td>1</td>\n",
       "      <td>0</td>\n",
       "      <td>53.1000</td>\n",
       "      <td>S</td>\n",
       "      <td>First</td>\n",
       "      <td>woman</td>\n",
       "      <td>False</td>\n",
       "      <td>C</td>\n",
       "      <td>Southampton</td>\n",
       "      <td>yes</td>\n",
       "      <td>False</td>\n",
       "    </tr>\n",
       "    <tr>\n",
       "      <th>4</th>\n",
       "      <td>0</td>\n",
       "      <td>3</td>\n",
       "      <td>male</td>\n",
       "      <td>35.0</td>\n",
       "      <td>0</td>\n",
       "      <td>0</td>\n",
       "      <td>8.0500</td>\n",
       "      <td>S</td>\n",
       "      <td>Third</td>\n",
       "      <td>man</td>\n",
       "      <td>True</td>\n",
       "      <td>NaN</td>\n",
       "      <td>Southampton</td>\n",
       "      <td>no</td>\n",
       "      <td>True</td>\n",
       "    </tr>\n",
       "  </tbody>\n",
       "</table>\n",
       "</div>"
      ],
      "text/plain": [
       "   survived  pclass     sex   age  sibsp  parch     fare embarked  class  \\\n",
       "0         0       3    male  22.0      1      0   7.2500        S  Third   \n",
       "1         1       1  female  38.0      1      0  71.2833        C  First   \n",
       "2         1       3  female  26.0      0      0   7.9250        S  Third   \n",
       "3         1       1  female  35.0      1      0  53.1000        S  First   \n",
       "4         0       3    male  35.0      0      0   8.0500        S  Third   \n",
       "\n",
       "     who  adult_male deck  embark_town alive  alone  \n",
       "0    man        True  NaN  Southampton    no  False  \n",
       "1  woman       False    C    Cherbourg   yes  False  \n",
       "2  woman       False  NaN  Southampton   yes   True  \n",
       "3  woman       False    C  Southampton   yes  False  \n",
       "4    man        True  NaN  Southampton    no   True  "
      ]
     },
     "execution_count": 66,
     "metadata": {},
     "output_type": "execute_result"
    }
   ],
   "source": [
    "import seaborn as sns \n",
    "sns.load_dataset('titanic').head()"
   ]
  },
  {
   "cell_type": "code",
   "execution_count": 67,
   "id": "e8990991",
   "metadata": {},
   "outputs": [
    {
     "data": {
      "text/html": [
       "<div>\n",
       "<style scoped>\n",
       "    .dataframe tbody tr th:only-of-type {\n",
       "        vertical-align: middle;\n",
       "    }\n",
       "\n",
       "    .dataframe tbody tr th {\n",
       "        vertical-align: top;\n",
       "    }\n",
       "\n",
       "    .dataframe thead th {\n",
       "        text-align: right;\n",
       "    }\n",
       "</style>\n",
       "<table border=\"1\" class=\"dataframe\">\n",
       "  <thead>\n",
       "    <tr style=\"text-align: right;\">\n",
       "      <th></th>\n",
       "      <th>Unnamed: 0</th>\n",
       "      <th>id</th>\n",
       "      <th>document</th>\n",
       "      <th>label</th>\n",
       "      <th>document_len</th>\n",
       "    </tr>\n",
       "  </thead>\n",
       "  <tbody>\n",
       "    <tr>\n",
       "      <th>0</th>\n",
       "      <td>0</td>\n",
       "      <td>9976970</td>\n",
       "      <td>아 더빙.. 진짜 짜증나네요 목소리</td>\n",
       "      <td>0</td>\n",
       "      <td>19.0</td>\n",
       "    </tr>\n",
       "    <tr>\n",
       "      <th>1</th>\n",
       "      <td>1</td>\n",
       "      <td>3819312</td>\n",
       "      <td>흠...포스터보고 초딩영화줄....오버연기조차 가볍지 않구나</td>\n",
       "      <td>1</td>\n",
       "      <td>33.0</td>\n",
       "    </tr>\n",
       "    <tr>\n",
       "      <th>2</th>\n",
       "      <td>2</td>\n",
       "      <td>10265843</td>\n",
       "      <td>너무재밓었다그래서보는것을추천한다</td>\n",
       "      <td>0</td>\n",
       "      <td>17.0</td>\n",
       "    </tr>\n",
       "    <tr>\n",
       "      <th>3</th>\n",
       "      <td>3</td>\n",
       "      <td>9045019</td>\n",
       "      <td>교도소 이야기구먼 ..솔직히 재미는 없다..평점 조정</td>\n",
       "      <td>0</td>\n",
       "      <td>29.0</td>\n",
       "    </tr>\n",
       "    <tr>\n",
       "      <th>4</th>\n",
       "      <td>4</td>\n",
       "      <td>6483659</td>\n",
       "      <td>사이몬페그의 익살스런 연기가 돋보였던 영화!스파이더맨에서 늙어보이기만 했던 커스틴 ...</td>\n",
       "      <td>1</td>\n",
       "      <td>61.0</td>\n",
       "    </tr>\n",
       "  </tbody>\n",
       "</table>\n",
       "</div>"
      ],
      "text/plain": [
       "   Unnamed: 0        id                                           document  \\\n",
       "0           0   9976970                                아 더빙.. 진짜 짜증나네요 목소리   \n",
       "1           1   3819312                  흠...포스터보고 초딩영화줄....오버연기조차 가볍지 않구나   \n",
       "2           2  10265843                                  너무재밓었다그래서보는것을추천한다   \n",
       "3           3   9045019                      교도소 이야기구먼 ..솔직히 재미는 없다..평점 조정   \n",
       "4           4   6483659  사이몬페그의 익살스런 연기가 돋보였던 영화!스파이더맨에서 늙어보이기만 했던 커스틴 ...   \n",
       "\n",
       "   label  document_len  \n",
       "0      0          19.0  \n",
       "1      1          33.0  \n",
       "2      0          17.0  \n",
       "3      0          29.0  \n",
       "4      1          61.0  "
      ]
     },
     "execution_count": 67,
     "metadata": {},
     "output_type": "execute_result"
    }
   ],
   "source": [
    "df.head()"
   ]
  },
  {
   "cell_type": "markdown",
   "id": "ce83ac1d",
   "metadata": {},
   "source": [
    "## 텍스트 전처리\n",
    "- 영문, 한국어\n",
    "- 영문부터 패키지가지고 학습할 예정\n",
    "- 자연어처리 (NLP) 인간의 언어- > 컴퓨터가 이해할 수 있도록 처리를 해야 한다. 컴퓨터가 분석할 수 있도록 프로그래밍하는 방법!"
   ]
  },
  {
   "cell_type": "code",
   "execution_count": 68,
   "id": "f451b45b",
   "metadata": {},
   "outputs": [],
   "source": [
    "import nltk"
   ]
  },
  {
   "cell_type": "code",
   "execution_count": 71,
   "id": "11a7b418",
   "metadata": {},
   "outputs": [
    {
     "name": "stderr",
     "output_type": "stream",
     "text": [
      "[nltk_data] Downloading package punkt to /Users/jun/nltk_data...\n",
      "[nltk_data]   Package punkt is already up-to-date!\n",
      "[nltk_data] Downloading package webtext to /Users/jun/nltk_data...\n",
      "[nltk_data]   Package webtext is already up-to-date!\n",
      "[nltk_data] Downloading package wordnet to /Users/jun/nltk_data...\n",
      "[nltk_data]   Package wordnet is already up-to-date!\n",
      "[nltk_data] Downloading package stopwords to /Users/jun/nltk_data...\n",
      "[nltk_data]   Package stopwords is already up-to-date!\n",
      "[nltk_data] Downloading package averaged_perceptron_tagger to\n",
      "[nltk_data]     /Users/jun/nltk_data...\n",
      "[nltk_data]   Package averaged_perceptron_tagger is already up-to-\n",
      "[nltk_data]       date!\n"
     ]
    },
    {
     "data": {
      "text/plain": [
       "True"
      ]
     },
     "execution_count": 71,
     "metadata": {},
     "output_type": "execute_result"
    }
   ],
   "source": [
    "#nltk 라이브러리 \n",
    "nltk.download('punkt')\n",
    "nltk.download('webtext')\n",
    "nltk.download('wordnet')\n",
    "nltk.download('stopwords')\n",
    "nltk.download('averaged_perceptron_tagger')"
   ]
  },
  {
   "cell_type": "code",
   "execution_count": 72,
   "id": "557742da",
   "metadata": {},
   "outputs": [
    {
     "data": {
      "text/plain": [
       "'Deep learning is the kind you take with you through the rest of your life.'"
      ]
     },
     "execution_count": 72,
     "metadata": {},
     "output_type": "execute_result"
    }
   ],
   "source": [
    "'Deep learning is the kind you take with you through the rest of your life.'"
   ]
  },
  {
   "cell_type": "markdown",
   "id": "f18d36ec",
   "metadata": {},
   "source": [
    "- 전처리 단계 \n",
    "- 텍스트에 대한 전처리 단계 \n",
    "- 주어진 텍스트의 노이즈나 분석에 불필요한 것들이 분명 존재, 제거하고 문장들을 나눠서 분석할 수 있다. 표준 단어나 이런 것들로 분리하고, 품사나 파악하는 것 \n",
    "- 한국어, 영어는 다르니깐 전처리 어느정도 다를 것"
   ]
  },
  {
   "cell_type": "markdown",
   "id": "9ec1ecca",
   "metadata": {},
   "source": [
    "- 정제 : (정규표현식 등으로 데이터에 노이즈를 제거하거나, 필요한 것들만 추출하는 작업)\n",
    "- 토큰화 : (주어진 텍스트를 원하는 단위로 나누는 것 (Token) 단어 토큰화, 다른 방법으로도 토큰을 나눌 수 있다. 딥러닝에서 성능을 올리기 위해 토큰화 작업 진행)\n",
    "- 정규화 : (동사의 변형들, 과거형이나 등등 결국 하나의 동사에 의미), 어간 추출, 표제어 추출 등으로 작업할 수 있다.\n",
    "- 품사 태깅 : (명사, 대명사, 형용사 등등) 앞서 토큰을 나눴으면 -> 의미를 부여할 수 있다. 품사를 알려주면서 더 많은 의미있는 데이터를 확보"
   ]
  },
  {
   "cell_type": "code",
   "execution_count": 82,
   "id": "509da0a4",
   "metadata": {},
   "outputs": [],
   "source": [
    "df = 'Deep learning is the subset of machine learning methods based on artificial neural networks with representation learning. The adjective \"deep\" refers to the use of multiple layers in the network. Methods used can be either supervised, semi-supervised or unsupervised.[2]'"
   ]
  },
  {
   "cell_type": "code",
   "execution_count": 83,
   "id": "3d709874",
   "metadata": {},
   "outputs": [
    {
     "data": {
      "text/plain": [
       "'Deep learning is the subset of machine learning methods based on artificial neural networks with representation learning. The adjective \"deep\" refers to the use of multiple layers in the network. Methods used can be either supervised, semi-supervised or unsupervised.[2]'"
      ]
     },
     "execution_count": 83,
     "metadata": {},
     "output_type": "execute_result"
    }
   ],
   "source": [
    "df"
   ]
  },
  {
   "cell_type": "code",
   "execution_count": 84,
   "id": "fcc405b4",
   "metadata": {},
   "outputs": [
    {
     "name": "stdout",
     "output_type": "stream",
     "text": [
      "['Deep learning is the subset of machine learning methods based on artificial neural networks with representation learning.', 'The adjective \"deep\" refers to the use of multiple layers in the network.', 'Methods used can be either supervised, semi-supervised or unsupervised.', '[2]']\n"
     ]
    }
   ],
   "source": [
    "#문장에 대한 토큰화\n",
    "from nltk.tokenize import sent_tokenize\n",
    "\n",
    "print(sent_tokenize(df))"
   ]
  },
  {
   "cell_type": "code",
   "execution_count": 89,
   "id": "1ffef19b",
   "metadata": {},
   "outputs": [
    {
     "name": "stdout",
     "output_type": "stream",
     "text": [
      "['Deep', 'learning', 'is', 'the', 'subset', 'of', 'machine', 'learning', 'methods', 'based', 'on', 'artificial', 'neural', 'networks', 'with', 'representation', 'learning', '.', 'The', 'adjective', '``', 'deep', \"''\", 'refers', 'to', 'the', 'use', 'of', 'multiple', 'layers', 'in', 'the', 'network', '.', 'Methods', 'used', 'can', 'be', 'either', 'supervised', ',', 'semi-supervised', 'or', 'unsupervised', '.', '[', '2', ']']\n"
     ]
    }
   ],
   "source": [
    "#단어 토큰화\n",
    "from nltk.tokenize import word_tokenize\n",
    "\n",
    "print(word_tokenize(df))"
   ]
  },
  {
   "cell_type": "code",
   "execution_count": 90,
   "id": "7cd68d75",
   "metadata": {},
   "outputs": [
    {
     "name": "stdout",
     "output_type": "stream",
     "text": [
      "['Deep', 'learning', 'is', 'the', 'subset', 'of', 'machine', 'learning', 'methods', 'based', 'on', 'artificial', 'neural', 'networks', 'with', 'representation', 'learning', '.', 'The', 'adjective', '\"', 'deep', '\"', 'refers', 'to', 'the', 'use', 'of', 'multiple', 'layers', 'in', 'the', 'network', '.', 'Methods', 'used', 'can', 'be', 'either', 'supervised', ',', 'semi', '-', 'supervised', 'or', 'unsupervised', '.[', '2', ']']\n"
     ]
    }
   ],
   "source": [
    "# 특수문자등을 처리할 수 있다.\n",
    "# 제거해 주는 패키\n",
    "from nltk.tokenize import WordPunctTokenizer\n",
    "# 특수문자 제거\n",
    "print(WordPunctTokenizer().tokenize(df))\n"
   ]
  },
  {
   "cell_type": "code",
   "execution_count": 92,
   "id": "707166b8",
   "metadata": {},
   "outputs": [],
   "source": [
    "# 정규표현식도 같이 토크나이즈\n",
    "from nltk.tokenize import RegexpTokenizer\n",
    "\n",
    "tk= RegexpTokenizer('[\\w\"]+')"
   ]
  },
  {
   "cell_type": "code",
   "execution_count": 95,
   "id": "757af1fa",
   "metadata": {},
   "outputs": [
    {
     "name": "stdout",
     "output_type": "stream",
     "text": [
      "['Deep', 'learning', 'is', 'the', 'subset', 'of', 'machine', 'learning', 'methods', 'based', 'on', 'artificial', 'neural', 'networks', 'with', 'representation', 'learning', 'The', 'adjective', '\"deep\"', 'refers', 'to', 'the', 'use', 'of', 'multiple', 'layers', 'in', 'the', 'network', 'Methods', 'used', 'can', 'be', 'either', 'supervised', 'semi', 'supervised', 'or', 'unsupervised', '2']\n"
     ]
    }
   ],
   "source": [
    "#내가 원하는 정규표현식에 따라 데이터가 전처리가 진행이 되었다.\n",
    "print(tk.tokenize(df))"
   ]
  },
  {
   "cell_type": "code",
   "execution_count": 100,
   "id": "5184912f",
   "metadata": {},
   "outputs": [],
   "source": [
    "#불용어 처리 (노이즈)\n",
    "#은,는,이,가 의미가 없다고 보는 단어들\n",
    "#영어도 불용어처리 진행\n",
    "from nltk.corpus import stopwords #불용어 가져오는 패키지\n",
    "\n",
    "en_stops=set(stopwords.words('english'))"
   ]
  },
  {
   "cell_type": "code",
   "execution_count": 101,
   "id": "f538b08a",
   "metadata": {},
   "outputs": [
    {
     "data": {
      "text/plain": [
       "{'a',\n",
       " 'about',\n",
       " 'above',\n",
       " 'after',\n",
       " 'again',\n",
       " 'against',\n",
       " 'ain',\n",
       " 'all',\n",
       " 'am',\n",
       " 'an',\n",
       " 'and',\n",
       " 'any',\n",
       " 'are',\n",
       " 'aren',\n",
       " \"aren't\",\n",
       " 'as',\n",
       " 'at',\n",
       " 'be',\n",
       " 'because',\n",
       " 'been',\n",
       " 'before',\n",
       " 'being',\n",
       " 'below',\n",
       " 'between',\n",
       " 'both',\n",
       " 'but',\n",
       " 'by',\n",
       " 'can',\n",
       " 'couldn',\n",
       " \"couldn't\",\n",
       " 'd',\n",
       " 'did',\n",
       " 'didn',\n",
       " \"didn't\",\n",
       " 'do',\n",
       " 'does',\n",
       " 'doesn',\n",
       " \"doesn't\",\n",
       " 'doing',\n",
       " 'don',\n",
       " \"don't\",\n",
       " 'down',\n",
       " 'during',\n",
       " 'each',\n",
       " 'few',\n",
       " 'for',\n",
       " 'from',\n",
       " 'further',\n",
       " 'had',\n",
       " 'hadn',\n",
       " \"hadn't\",\n",
       " 'has',\n",
       " 'hasn',\n",
       " \"hasn't\",\n",
       " 'have',\n",
       " 'haven',\n",
       " \"haven't\",\n",
       " 'having',\n",
       " 'he',\n",
       " 'her',\n",
       " 'here',\n",
       " 'hers',\n",
       " 'herself',\n",
       " 'him',\n",
       " 'himself',\n",
       " 'his',\n",
       " 'how',\n",
       " 'i',\n",
       " 'if',\n",
       " 'in',\n",
       " 'into',\n",
       " 'is',\n",
       " 'isn',\n",
       " \"isn't\",\n",
       " 'it',\n",
       " \"it's\",\n",
       " 'its',\n",
       " 'itself',\n",
       " 'just',\n",
       " 'll',\n",
       " 'm',\n",
       " 'ma',\n",
       " 'me',\n",
       " 'mightn',\n",
       " \"mightn't\",\n",
       " 'more',\n",
       " 'most',\n",
       " 'mustn',\n",
       " \"mustn't\",\n",
       " 'my',\n",
       " 'myself',\n",
       " 'needn',\n",
       " \"needn't\",\n",
       " 'no',\n",
       " 'nor',\n",
       " 'not',\n",
       " 'now',\n",
       " 'o',\n",
       " 'of',\n",
       " 'off',\n",
       " 'on',\n",
       " 'once',\n",
       " 'only',\n",
       " 'or',\n",
       " 'other',\n",
       " 'our',\n",
       " 'ours',\n",
       " 'ourselves',\n",
       " 'out',\n",
       " 'over',\n",
       " 'own',\n",
       " 're',\n",
       " 's',\n",
       " 'same',\n",
       " 'shan',\n",
       " \"shan't\",\n",
       " 'she',\n",
       " \"she's\",\n",
       " 'should',\n",
       " \"should've\",\n",
       " 'shouldn',\n",
       " \"shouldn't\",\n",
       " 'so',\n",
       " 'some',\n",
       " 'such',\n",
       " 't',\n",
       " 'than',\n",
       " 'that',\n",
       " \"that'll\",\n",
       " 'the',\n",
       " 'their',\n",
       " 'theirs',\n",
       " 'them',\n",
       " 'themselves',\n",
       " 'then',\n",
       " 'there',\n",
       " 'these',\n",
       " 'they',\n",
       " 'this',\n",
       " 'those',\n",
       " 'through',\n",
       " 'to',\n",
       " 'too',\n",
       " 'under',\n",
       " 'until',\n",
       " 'up',\n",
       " 've',\n",
       " 'very',\n",
       " 'was',\n",
       " 'wasn',\n",
       " \"wasn't\",\n",
       " 'we',\n",
       " 'were',\n",
       " 'weren',\n",
       " \"weren't\",\n",
       " 'what',\n",
       " 'when',\n",
       " 'where',\n",
       " 'which',\n",
       " 'while',\n",
       " 'who',\n",
       " 'whom',\n",
       " 'why',\n",
       " 'will',\n",
       " 'with',\n",
       " 'won',\n",
       " \"won't\",\n",
       " 'wouldn',\n",
       " \"wouldn't\",\n",
       " 'y',\n",
       " 'you',\n",
       " \"you'd\",\n",
       " \"you'll\",\n",
       " \"you're\",\n",
       " \"you've\",\n",
       " 'your',\n",
       " 'yours',\n",
       " 'yourself',\n",
       " 'yourselves'}"
      ]
     },
     "execution_count": 101,
     "metadata": {},
     "output_type": "execute_result"
    }
   ],
   "source": [
    "## 다양한 패키지를 응용해서 전처리를 할 수 있다. (정제 가능)\n",
    "en_stops"
   ]
  },
  {
   "cell_type": "code",
   "execution_count": 105,
   "id": "acb7447a",
   "metadata": {},
   "outputs": [],
   "source": [
    "tokens=tk.tokenize(df.lower())"
   ]
  },
  {
   "cell_type": "code",
   "execution_count": 108,
   "id": "8efa0e7b",
   "metadata": {},
   "outputs": [
    {
     "name": "stdout",
     "output_type": "stream",
     "text": [
      "['deep', 'learning', 'subset', 'machine', 'learning', 'methods', 'based', 'artificial', 'neural', 'networks', 'representation', 'learning', 'adjective', '\"deep\"', 'refers', 'use', 'multiple', 'layers', 'network', 'methods', 'used', 'either', 'supervised', 'semi', 'supervised', 'unsupervised', '2']\n"
     ]
    }
   ],
   "source": [
    "print([word for word in tokens if word not in en_stops]) # 불용어처리는 제외한 단어만 전처리가 가능하다."
   ]
  },
  {
   "cell_type": "code",
   "execution_count": 109,
   "id": "89530518",
   "metadata": {},
   "outputs": [
    {
     "data": {
      "text/plain": [
       "'Deep learning is the subset of machine learning methods based on artificial neural networks with representation learning. The adjective \"deep\" refers to the use of multiple layers in the network. Methods used can be either supervised, semi-supervised or unsupervised.[2]'"
      ]
     },
     "execution_count": 109,
     "metadata": {},
     "output_type": "execute_result"
    }
   ],
   "source": [
    "df"
   ]
  },
  {
   "cell_type": "markdown",
   "id": "cab8f6eb",
   "metadata": {},
   "source": [
    "### 필수과제1\n",
    "- 영화리뷰데이터 (한글)\n",
    "- str 문법으로 전처리 진행해서 의미 있는 단어들만 추출하여 어떤 단어가 빈도가 가장 많은지 value_count, 시각화까지 진행 ( Top10 ~20개 정도 )\n",
    "- 0, 1 label에 따라 어떤 단어의 빈도가 가장 많은지 그리고 둘의 차이가 있는지 확인해 주시면 됩니다.\n",
    "\n",
    "- 필수는 : 코드와 주석처리 ( 시각화하는 코드, 전처리 코드 필수적으로 들어가야 한다! )"
   ]
  },
  {
   "cell_type": "code",
   "execution_count": null,
   "id": "5121d6e5",
   "metadata": {},
   "outputs": [],
   "source": []
  }
 ],
 "metadata": {
  "kernelspec": {
   "display_name": "Python 3 (ipykernel)",
   "language": "python",
   "name": "python3"
  },
  "language_info": {
   "codemirror_mode": {
    "name": "ipython",
    "version": 3
   },
   "file_extension": ".py",
   "mimetype": "text/x-python",
   "name": "python",
   "nbconvert_exporter": "python",
   "pygments_lexer": "ipython3",
   "version": "3.8.16"
  }
 },
 "nbformat": 4,
 "nbformat_minor": 5
}
