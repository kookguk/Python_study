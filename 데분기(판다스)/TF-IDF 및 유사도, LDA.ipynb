{
 "cells": [
  {
   "cell_type": "markdown",
   "id": "945ef2c8",
   "metadata": {},
   "source": [
    "### 1. CountVectorizer 하이퍼파라미터\n",
    "\n",
    "**CountVectorizer**는 텍스트 데이터에서 단어의 빈도를 세어 벡터로 변환하는 클래스입니다.\n",
    "\n",
    "1. **`input`**: {'filename', 'file', 'content'}, default='content'\n",
    "   - 입력 형식 지정: 'filename'(파일 이름), 'file'(파일 객체), 'content'(텍스트).\n",
    "   \n",
    "2. **`encoding`**: str, default='utf-8'\n",
    "   - 텍스트 인코딩 방식 지정.\n",
    "\n",
    "3. **`decode_error`**: {'strict', 'ignore', 'replace'}, default='strict'\n",
    "   - 디코딩 오류 처리 방식 지정.\n",
    "\n",
    "4. **`strip_accents`**: {'ascii', 'unicode', None}, default=None\n",
    "   - 악센트를 제거할지 여부 및 방법.\n",
    "\n",
    "5. **`lowercase`**: bool, default=True\n",
    "   - 모든 텍스트를 소문자로 변환할지 여부.\n",
    "\n",
    "6. **`preprocessor`**: callable or None, default=None\n",
    "   - 사전 처리 함수를 사용자 정의 가능.\n",
    "\n",
    "7. **`tokenizer`**: callable or None, default=None\n",
    "   - 사용자 정의 토크나이저 함수.\n",
    "\n",
    "8. **`stop_words`**: {'english'}, list, or None, default=None\n",
    "   - 불용어를 제거할지 여부 및 불용어 리스트.\n",
    "\n",
    "9. **`ngram_range`**: tuple (min_n, max_n), default=(1, 1)\n",
    "   - n-그램의 범위 지정.\n",
    "\n",
    "10. **`analyzer`**: {'word', 'char', 'char_wb'} or callable, default='word'\n",
    "    - 특징 추출 수준: 단어, 문자, 문자 n-그램.\n",
    "\n",
    "11. **`max_df`**: float or int, default=1.0\n",
    "    - 최대 문서 빈도 비율 또는 빈도 수. 이 값보다 많이 나타나는 용어는 제외.\n",
    "\n",
    "12. **`min_df`**: float or int, default=1\n",
    "    - 최소 문서 빈도 비율 또는 빈도 수. 이 값보다 적게 나타나는 용어는 제외.\n",
    "\n",
    "13. **`max_features`**: int or None, default=None\n",
    "    - 선택할 최대 특징 수.\n",
    "\n",
    "14. **`vocabulary`**: Mapping or iterable, default=None\n",
    "    - 미리 정의된 용어 사전.\n",
    "\n",
    "15. **`binary`**: bool, default=False\n",
    "    - 출현 횟수가 아닌 출현 여부를 0과 1로 표시.\n",
    "\n",
    "16. **`dtype`**: type, default=np.int64\n",
    "    - 결과 배열의 자료형.\n",
    "\n",
    "### 2. TfidfVectorizer 하이퍼파라미터\n",
    "\n",
    "**TfidfVectorizer**는 단어의 빈도(TF)와 역문서 빈도(IDF)를 결합하여 단어의 중요도를 평가하는 클래스입니다.\n",
    "\n",
    "1. **`input`**: {'filename', 'file', 'content'}, default='content'\n",
    "   - 입력 형식 지정: 'filename', 'file', 'content'.\n",
    "\n",
    "2. **`encoding`**: str, default='utf-8'\n",
    "   - 텍스트 인코딩 방식 지정.\n",
    "\n",
    "3. **`decode_error`**: {'strict', 'ignore', 'replace'}, default='strict'\n",
    "   - 디코딩 오류 처리 방식 지정.\n",
    "\n",
    "4. **`strip_accents`**: {'ascii', 'unicode', None}, default=None\n",
    "   - 악센트를 제거할지 여부 및 방법.\n",
    "\n",
    "5. **`lowercase`**: bool, default=True\n",
    "   - 모든 텍스트를 소문자로 변환할지 여부.\n",
    "\n",
    "6. **`preprocessor`**: callable or None, default=None\n",
    "   - 사전 처리 함수를 사용자 정의 가능.\n",
    "\n",
    "7. **`tokenizer`**: callable or None, default=None\n",
    "   - 사용자 정의 토크나이저 함수.\n",
    "\n",
    "8. **`stop_words`**: {'english'}, list, or None, default=None\n",
    "   - 불용어를 제거할지 여부 및 불용어 리스트.\n",
    "\n",
    "9. **`ngram_range`**: tuple (min_n, max_n), default=(1, 1)\n",
    "   - n-그램의 범위 지정.\n",
    "\n",
    "10. **`analyzer`**: {'word', 'char', 'char_wb'} or callable, default='word'\n",
    "    - 특징 추출 수준: 단어, 문자, 문자 n-그램.\n",
    "\n",
    "11. **`max_df`**: float or int, default=1.0\n",
    "    - 최대 문서 빈도 비율 또는 빈도 수. 이 값보다 많이 나타나는 용어는 제외.\n",
    "\n",
    "12. **`min_df`**: float or int, default=1\n",
    "    - 최소 문서 빈도 비율 또는 빈도 수. 이 값보다 적게 나타나는 용어는 제외.\n",
    "\n",
    "13. **`max_features`**: int or None, default=None\n",
    "    - 선택할 최대 특징 수.\n",
    "\n",
    "14. **`vocabulary`**: Mapping or iterable, default=None\n",
    "    - 미리 정의된 용어 사전.\n",
    "\n",
    "15. **`binary`**: bool, default=False\n",
    "    - TF 대신 0과 1의 바이너리 값 사용 여부.\n",
    "\n",
    "16. **`dtype`**: type, default=np.float64\n",
    "    - 결과 배열의 자료형.\n",
    "\n",
    "17. **`norm`**: {'l1', 'l2', None}, default='l2'\n",
    "    - 출력 벡터를 정규화할 방법. None으로 설정 시 정규화하지 않음.\n",
    "\n",
    "18. **`use_idf`**: bool, default=True\n",
    "    - IDF를 사용하여 가중치를 부여할지 여부.\n",
    "\n",
    "19. **`smooth_idf`**: bool, default=True\n",
    "    - IDF 계산 시, 모든 문서에 1을 더해 계산할지 여부.\n",
    "\n",
    "20. **`sublinear_tf`**: bool, default=False\n",
    "    - TF 가중치를 1 + log(TF)로 적용할지 여부."
   ]
  },
  {
   "cell_type": "code",
   "execution_count": 1,
   "id": "bf8138bc",
   "metadata": {},
   "outputs": [],
   "source": [
    "from sklearn.feature_extraction.text import CountVectorizer"
   ]
  },
  {
   "cell_type": "code",
   "execution_count": 2,
   "id": "f44e5e14",
   "metadata": {},
   "outputs": [
    {
     "name": "stdout",
     "output_type": "stream",
     "text": [
      "corpus 사용한 피처는 무엇인지 확인하는 것! ['and' 'corpus' 'first' 'is' 'one' 'second' 'the' 'third' 'this']\n",
      "----\n",
      "내가 원하는 메트릭스를 보고 싶다! [[0 1 1 1 0 0 1 0 1]\n",
      " [0 2 0 1 0 1 1 0 1]\n",
      " [1 1 0 1 1 0 1 1 1]\n",
      " [0 1 1 1 0 0 1 0 1]]\n"
     ]
    }
   ],
   "source": [
    "# 예시 리스트\n",
    "corpus= [\n",
    "    'This is the first corpus',\n",
    "    'This corpus is the second corpus',\n",
    "    'And this corpus is the third one',\n",
    "    'Is this the first corpus?'\n",
    "]\n",
    "\n",
    "#CountVectorizer\n",
    "cv=CountVectorizer()\n",
    "\n",
    "# 문서를 벡터화\n",
    "X =cv.fit_transform(corpus)\n",
    "\n",
    "# 변환 결과를 출력\n",
    "print('corpus 사용한 피처는 무엇인지 확인하는 것!',cv.get_feature_names_out())\n",
    "print('----')\n",
    "print('내가 원하는 메트릭스를 보고 싶다!',X.toarray())"
   ]
  },
  {
   "cell_type": "code",
   "execution_count": 3,
   "id": "c0b230a9",
   "metadata": {},
   "outputs": [],
   "source": [
    "## 한국어로 진행\n",
    "corpus_ko=[\n",
    "    '오늘 날씨는 매우 좋습니다',\n",
    "    '내일 날씨는 매우 좋을까요',\n",
    "    '내일은 비가 올 것 같습니다',\n",
    "    '모두 내일은 우산을 준비하세요',\n",
    "    'BDA는 이제 곧 9기를 모집합니다',\n",
    "    '우리는 열심히 공부합니다',\n",
    "    '우리는 내일도 공부합니다'\n",
    "    ]"
   ]
  },
  {
   "cell_type": "code",
   "execution_count": 4,
   "id": "042ea4b5",
   "metadata": {},
   "outputs": [
    {
     "name": "stdout",
     "output_type": "stream",
     "text": [
      "corpus 사용한 피처는 무엇인지 확인하는 것! ['9기를' 'bda는' '같습니다' '공부합니다' '날씨는' '내일' '내일도' '내일은' '매우' '모두' '모집합니다' '비가'\n",
      " '열심히' '오늘' '우리는' '우산을' '이제' '좋습니다' '좋을까요' '준비하세요']\n",
      "----\n",
      "내가 원하는 메트릭스를 보고 싶다! [[0 0 0 0 1 0 0 0 1 0 0 0 0 1 0 0 0 1 0 0]\n",
      " [0 0 0 0 1 1 0 0 1 0 0 0 0 0 0 0 0 0 1 0]\n",
      " [0 0 1 0 0 0 0 1 0 0 0 1 0 0 0 0 0 0 0 0]\n",
      " [0 0 0 0 0 0 0 1 0 1 0 0 0 0 0 1 0 0 0 1]\n",
      " [1 1 0 0 0 0 0 0 0 0 1 0 0 0 0 0 1 0 0 0]\n",
      " [0 0 0 1 0 0 0 0 0 0 0 0 1 0 1 0 0 0 0 0]\n",
      " [0 0 0 1 0 0 1 0 0 0 0 0 0 0 1 0 0 0 0 0]]\n"
     ]
    }
   ],
   "source": [
    "#CountVectorizer\n",
    "cv=CountVectorizer()\n",
    "\n",
    "# 문서를 벡터화\n",
    "X =cv.fit_transform(corpus_ko)\n",
    "\n",
    "# 변환 결과를 출력\n",
    "print('corpus 사용한 피처는 무엇인지 확인하는 것!',cv.get_feature_names_out())\n",
    "print('----')\n",
    "print('내가 원하는 메트릭스를 보고 싶다!',X.toarray())"
   ]
  },
  {
   "cell_type": "code",
   "execution_count": 5,
   "id": "48db7b78",
   "metadata": {},
   "outputs": [],
   "source": [
    "## 한국어로 진행\n",
    "corpus_ko=[\n",
    "    '오늘 날씨는 매우 좋습니다',\n",
    "    '내일 날씨는 매우 좋을까요',\n",
    "    '내일은 비가 올 것 같습니다',\n",
    "    '모두 내일은 우산을 준비하세요',\n",
    "    'BDA는 이제 곧 9기를 모집합니다',\n",
    "    '우리는 열심히 공부합니다',\n",
    "    '우리는 내일도 내일또 공부합니다'\n",
    "    ]"
   ]
  },
  {
   "cell_type": "code",
   "execution_count": 6,
   "id": "93c38ef5",
   "metadata": {},
   "outputs": [
    {
     "name": "stdout",
     "output_type": "stream",
     "text": [
      "corpus 사용한 피처는 무엇인지 확인하는 것! ['9기를' 'bda는' '같습니다' '공부합니다' '날씨는' '내일' '내일도' '내일또' '내일은' '매우' '모두'\n",
      " '모집합니다' '비가' '열심히' '오늘' '우리는' '우산을' '이제' '좋습니다' '좋을까요' '준비하세요']\n",
      "----\n",
      "내가 원하는 메트릭스를 보고 싶다! [[0 0 0 0 1 0 0 0 0 1 0 0 0 0 1 0 0 0 1 0 0]\n",
      " [0 0 0 0 1 1 0 0 0 1 0 0 0 0 0 0 0 0 0 1 0]\n",
      " [0 0 1 0 0 0 0 0 1 0 0 0 1 0 0 0 0 0 0 0 0]\n",
      " [0 0 0 0 0 0 0 0 1 0 1 0 0 0 0 0 1 0 0 0 1]\n",
      " [1 1 0 0 0 0 0 0 0 0 0 1 0 0 0 0 0 1 0 0 0]\n",
      " [0 0 0 1 0 0 0 0 0 0 0 0 0 1 0 1 0 0 0 0 0]\n",
      " [0 0 0 1 0 0 1 1 0 0 0 0 0 0 0 1 0 0 0 0 0]]\n"
     ]
    }
   ],
   "source": [
    "#CountVectorizer\n",
    "cv=CountVectorizer()\n",
    "\n",
    "# 문서를 벡터화\n",
    "X =cv.fit_transform(corpus_ko)\n",
    "\n",
    "# 변환 결과를 출력\n",
    "print('corpus 사용한 피처는 무엇인지 확인하는 것!',cv.get_feature_names_out())\n",
    "print('----')\n",
    "print('내가 원하는 메트릭스를 보고 싶다!',X.toarray())"
   ]
  },
  {
   "cell_type": "code",
   "execution_count": 7,
   "id": "b434f7c7",
   "metadata": {},
   "outputs": [],
   "source": [
    "#불용어 추가하기!\n",
    "stop_words = ['bda는']\n"
   ]
  },
  {
   "cell_type": "code",
   "execution_count": 8,
   "id": "9ec3f1aa",
   "metadata": {},
   "outputs": [
    {
     "name": "stdout",
     "output_type": "stream",
     "text": [
      "corpus 사용한 피처는 무엇인지 확인하는 것! ['9기를' '같습니다' '공부합니다' '날씨는' '내일' '내일도' '내일또' '내일은' '매우' '모두' '모집합니다' '비가'\n",
      " '열심히' '오늘' '우리는' '우산을' '이제' '좋습니다' '좋을까요' '준비하세요']\n",
      "----\n",
      "내가 원하는 메트릭스를 보고 싶다! [[0 0 0 1 0 0 0 0 1 0 0 0 0 1 0 0 0 1 0 0]\n",
      " [0 0 0 1 1 0 0 0 1 0 0 0 0 0 0 0 0 0 1 0]\n",
      " [0 1 0 0 0 0 0 1 0 0 0 1 0 0 0 0 0 0 0 0]\n",
      " [0 0 0 0 0 0 0 1 0 1 0 0 0 0 0 1 0 0 0 1]\n",
      " [1 0 0 0 0 0 0 0 0 0 1 0 0 0 0 0 1 0 0 0]\n",
      " [0 0 1 0 0 0 0 0 0 0 0 0 1 0 1 0 0 0 0 0]\n",
      " [0 0 1 0 0 1 1 0 0 0 0 0 0 0 1 0 0 0 0 0]]\n"
     ]
    }
   ],
   "source": [
    "#CountVectorizer\n",
    "cv=CountVectorizer(stop_words = stop_words)\n",
    "\n",
    "# 문서를 벡터화\n",
    "X =cv.fit_transform(corpus_ko)\n",
    "\n",
    "# 변환 결과를 출력\n",
    "print('corpus 사용한 피처는 무엇인지 확인하는 것!',cv.get_feature_names_out())\n",
    "print('----')\n",
    "print('내가 원하는 메트릭스를 보고 싶다!',X.toarray())"
   ]
  },
  {
   "cell_type": "markdown",
   "id": "483c1b37",
   "metadata": {},
   "source": [
    "### TF-IDF (Term Frequency - Inverse Document Frequency )"
   ]
  },
  {
   "cell_type": "code",
   "execution_count": 10,
   "id": "88a2e326",
   "metadata": {},
   "outputs": [],
   "source": [
    "#TF-IDF 패키지 불러오기\n",
    "from sklearn.feature_extraction.text import TfidfVectorizer"
   ]
  },
  {
   "cell_type": "code",
   "execution_count": 12,
   "id": "65719551",
   "metadata": {},
   "outputs": [],
   "source": [
    "# 예시 리스트\n",
    "corpus= [\n",
    "    'This is the first corpus',\n",
    "    'This corpus is the second corpus',\n",
    "    'And this corpus is the third one',\n",
    "    'Is this the first corpus?'\n",
    "]\n",
    "\n",
    "vectorizer = TfidfVectorizer()\n",
    "\n",
    "X=vectorizer.fit_transform(corpus)"
   ]
  },
  {
   "cell_type": "code",
   "execution_count": 14,
   "id": "c5baddd8",
   "metadata": {},
   "outputs": [
    {
     "name": "stdout",
     "output_type": "stream",
     "text": [
      "corpus 사용한 피처는 무엇인지 확인하는 것! ['and' 'corpus' 'first' 'is' 'one' 'second' 'the' 'third' 'this']\n",
      "----\n",
      "내가 원하는 메트릭스를 보고 싶다! [[0.         0.39896105 0.60276058 0.39896105 0.         0.\n",
      "  0.39896105 0.         0.39896105]\n",
      " [0.         0.61221452 0.         0.30610726 0.         0.5865905\n",
      "  0.30610726 0.         0.30610726]\n",
      " [0.49451206 0.25805691 0.         0.25805691 0.49451206 0.\n",
      "  0.25805691 0.49451206 0.25805691]\n",
      " [0.         0.39896105 0.60276058 0.39896105 0.         0.\n",
      "  0.39896105 0.         0.39896105]]\n"
     ]
    }
   ],
   "source": [
    "\n",
    "# 변환 결과를 출력\n",
    "print('corpus 사용한 피처는 무엇인지 확인하는 것!',vectorizer.get_feature_names_out())\n",
    "print('----')\n",
    "print('내가 원하는 메트릭스를 보고 싶다!',X.toarray())"
   ]
  },
  {
   "cell_type": "code",
   "execution_count": 15,
   "id": "32e79968",
   "metadata": {},
   "outputs": [],
   "source": [
    "## 한국어로 진행\n",
    "corpus_ko=[\n",
    "    '오늘 날씨는 매우 좋습니다',\n",
    "    '내일 날씨는 매우 좋을까요',\n",
    "    '내일은 비가 올 것 같습니다',\n",
    "    '모두 내일은 우산을 준비하세요',\n",
    "    'BDA는 이제 곧 9기를 모집합니다',\n",
    "    '우리는 열심히 공부합니다',\n",
    "    '우리는 내일도 공부합니다'\n",
    "    ]"
   ]
  },
  {
   "cell_type": "code",
   "execution_count": 16,
   "id": "a85845e5",
   "metadata": {},
   "outputs": [],
   "source": [
    "#불용어 추가하기!\n",
    "stop_words = ['bda는']"
   ]
  },
  {
   "cell_type": "code",
   "execution_count": 17,
   "id": "2a9f5f32",
   "metadata": {},
   "outputs": [],
   "source": [
    "\n",
    "vectorizer = TfidfVectorizer(stop_words=stop_words)\n",
    "X=vectorizer.fit_transform(corpus_ko)"
   ]
  },
  {
   "cell_type": "code",
   "execution_count": 18,
   "id": "759b1ab2",
   "metadata": {},
   "outputs": [
    {
     "name": "stdout",
     "output_type": "stream",
     "text": [
      "corpus 사용한 피처는 무엇인지 확인하는 것! ['9기를' '같습니다' '공부합니다' '날씨는' '내일' '내일도' '내일은' '매우' '모두' '모집합니다' '비가' '열심히'\n",
      " '오늘' '우리는' '우산을' '이제' '좋습니다' '좋을까요' '준비하세요']\n",
      "----\n",
      "내가 원하는 메트릭스를 보고 싶다! [[0.         0.         0.         0.45163515 0.         0.\n",
      "  0.         0.45163515 0.         0.         0.         0.\n",
      "  0.54408243 0.         0.         0.         0.54408243 0.\n",
      "  0.        ]\n",
      " [0.         0.         0.         0.45163515 0.54408243 0.\n",
      "  0.         0.45163515 0.         0.         0.         0.\n",
      "  0.         0.         0.         0.         0.         0.54408243\n",
      "  0.        ]\n",
      " [0.         0.60981929 0.         0.         0.         0.\n",
      "  0.50620239 0.         0.         0.         0.60981929 0.\n",
      "  0.         0.         0.         0.         0.         0.\n",
      "  0.        ]\n",
      " [0.         0.         0.         0.         0.         0.\n",
      "  0.43218152 0.         0.52064676 0.         0.         0.\n",
      "  0.         0.         0.52064676 0.         0.         0.\n",
      "  0.52064676]\n",
      " [0.57735027 0.         0.         0.         0.         0.\n",
      "  0.         0.         0.         0.57735027 0.         0.\n",
      "  0.         0.         0.         0.57735027 0.         0.\n",
      "  0.        ]\n",
      " [0.         0.         0.53828134 0.         0.         0.\n",
      "  0.         0.         0.         0.         0.         0.64846464\n",
      "  0.         0.53828134 0.         0.         0.         0.\n",
      "  0.        ]\n",
      " [0.         0.         0.53828134 0.         0.         0.64846464\n",
      "  0.         0.         0.         0.         0.         0.\n",
      "  0.         0.53828134 0.         0.         0.         0.\n",
      "  0.        ]]\n"
     ]
    }
   ],
   "source": [
    "\n",
    "# 변환 결과를 출력\n",
    "print('corpus 사용한 피처는 무엇인지 확인하는 것!',vectorizer.get_feature_names_out())\n",
    "print('----')\n",
    "print('내가 원하는 메트릭스를 보고 싶다!',X.toarray())"
   ]
  },
  {
   "cell_type": "code",
   "execution_count": 22,
   "id": "2a46de89",
   "metadata": {},
   "outputs": [],
   "source": [
    "#하이퍼파라미터를 좀 더 추가해서 다양하게 전처리 작업을 할 수 있다.\n",
    "vectorizer = TfidfVectorizer(stop_words=stop_words,\n",
    "                            min_df= 2,#최소 1회 이상은 나타나는 단어만 포함)\n",
    "                            ngram_range=(1,2)) \n",
    "X=vectorizer.fit_transform(corpus_ko)"
   ]
  },
  {
   "cell_type": "code",
   "execution_count": 21,
   "id": "a2c578fa",
   "metadata": {},
   "outputs": [
    {
     "name": "stdout",
     "output_type": "stream",
     "text": [
      "corpus 사용한 피처는 무엇인지 확인하는 것! ['공부합니다' '날씨는' '내일은' '매우' '우리는']\n",
      "----\n",
      "내가 원하는 메트릭스를 보고 싶다! [[0.         0.70710678 0.         0.70710678 0.        ]\n",
      " [0.         0.70710678 0.         0.70710678 0.        ]\n",
      " [0.         0.         1.         0.         0.        ]\n",
      " [0.         0.         1.         0.         0.        ]\n",
      " [0.         0.         0.         0.         0.        ]\n",
      " [0.70710678 0.         0.         0.         0.70710678]\n",
      " [0.70710678 0.         0.         0.         0.70710678]]\n"
     ]
    }
   ],
   "source": [
    "\n",
    "# 변환 결과를 출력\n",
    "print('corpus 사용한 피처는 무엇인지 확인하는 것!',vectorizer.get_feature_names_out())\n",
    "print('----')\n",
    "print('내가 원하는 메트릭스를 보고 싶다!',X.toarray())"
   ]
  },
  {
   "cell_type": "code",
   "execution_count": 23,
   "id": "bf90a373",
   "metadata": {},
   "outputs": [
    {
     "name": "stdout",
     "output_type": "stream",
     "text": [
      "corpus 사용한 피처는 무엇인지 확인하는 것! ['공부합니다' '날씨는' '날씨는 매우' '내일은' '매우' '우리는']\n",
      "----\n",
      "내가 원하는 메트릭스를 보고 싶다! [[0.         0.57735027 0.57735027 0.         0.57735027 0.        ]\n",
      " [0.         0.57735027 0.57735027 0.         0.57735027 0.        ]\n",
      " [0.         0.         0.         1.         0.         0.        ]\n",
      " [0.         0.         0.         1.         0.         0.        ]\n",
      " [0.         0.         0.         0.         0.         0.        ]\n",
      " [0.70710678 0.         0.         0.         0.         0.70710678]\n",
      " [0.70710678 0.         0.         0.         0.         0.70710678]]\n"
     ]
    }
   ],
   "source": [
    "\n",
    "# 변환 결과를 출력 ngram\n",
    "print('corpus 사용한 피처는 무엇인지 확인하는 것!',vectorizer.get_feature_names_out())\n",
    "print('----')\n",
    "print('내가 원하는 메트릭스를 보고 싶다!',X.toarray())"
   ]
  },
  {
   "cell_type": "markdown",
   "id": "42e7c95f",
   "metadata": {},
   "source": [
    "## 텍스트 전처리를 통해 분석을 하자!\n"
   ]
  },
  {
   "cell_type": "code",
   "execution_count": 26,
   "id": "066c0e4d",
   "metadata": {},
   "outputs": [],
   "source": [
    "import pandas as pd\n",
    "df=pd.read_csv('movie_rv.csv')"
   ]
  },
  {
   "cell_type": "code",
   "execution_count": 29,
   "id": "b152a520",
   "metadata": {},
   "outputs": [],
   "source": [
    "df_sp=df.iloc[:50000]"
   ]
  },
  {
   "cell_type": "code",
   "execution_count": 32,
   "id": "c65e66df",
   "metadata": {},
   "outputs": [],
   "source": [
    "## 리뷰 데이터를 어떻게 분석하면 될까?!\n",
    "import re \n",
    "from konlpy.tag import Okt\n",
    "\n",
    "# Okt 형태소 분석기 생성\n",
    "okt =Okt()"
   ]
  },
  {
   "cell_type": "markdown",
   "id": "221bf5d1",
   "metadata": {},
   "source": [
    "### 유사도  측정, LDA 토픽모델링"
   ]
  },
  {
   "cell_type": "code",
   "execution_count": 36,
   "id": "3198dd43",
   "metadata": {},
   "outputs": [
    {
     "name": "stderr",
     "output_type": "stream",
     "text": [
      "/var/folders/sz/167qwb595mqgwry5mm8685n00000gn/T/ipykernel_96336/1407934844.py:14: SettingWithCopyWarning: \n",
      "A value is trying to be set on a copy of a slice from a DataFrame.\n",
      "Try using .loc[row_indexer,col_indexer] = value instead\n",
      "\n",
      "See the caveats in the documentation: https://pandas.pydata.org/pandas-docs/stable/user_guide/indexing.html#returning-a-view-versus-a-copy\n",
      "  df_sp['document_cleand']=df_sp['document'].apply(preprocess_text)\n"
     ]
    }
   ],
   "source": [
    "## 전처리 함수\n",
    "\n",
    "def preprocess_text(text):\n",
    "    #문자열 확인하고, 아니면 빈 문자열 반환\n",
    "    if not isinstance(text,str):\n",
    "        return ''\n",
    "    #특수문자 제거\n",
    "    text=re.sub(r'[^ㄱ-ㅎㅏ-ㅣ가-힣\\s]','',text)\n",
    "    #형태소로 분석을 통해 추출 (명사만 추출)\n",
    "    nouns=okt.nouns(text)\n",
    "    return ' '.join(nouns)\n",
    "\n",
    "\n",
    "df_sp['document_cleand']=df_sp['document'].apply(preprocess_text)"
   ]
  },
  {
   "cell_type": "code",
   "execution_count": 37,
   "id": "7cf75418",
   "metadata": {
    "scrolled": true
   },
   "outputs": [
    {
     "name": "stdout",
     "output_type": "stream",
     "text": [
      "                                                document  \\\n",
      "0                                    아 더빙.. 진짜 짜증나네요 목소리   \n",
      "1                      흠...포스터보고 초딩영화줄....오버연기조차 가볍지 않구나   \n",
      "2                                      너무재밓었다그래서보는것을추천한다   \n",
      "3                          교도소 이야기구먼 ..솔직히 재미는 없다..평점 조정   \n",
      "4      사이몬페그의 익살스런 연기가 돋보였던 영화!스파이더맨에서 늙어보이기만 했던 커스틴 ...   \n",
      "...                                                  ...   \n",
      "49995  \"이게 소위 스페인식 Neo-realism 이란 건가? - 물론, \"\"아동 판타지\"...   \n",
      "49996                                   보지마셈 저 믿으세요 보지마셈   \n",
      "49997                                               최고졸작   \n",
      "49998                                  재밌고 좋았음 10자 쓰라고?!   \n",
      "49999                               소박하지만 잔잔한 감동을 주는 영화.   \n",
      "\n",
      "                                         document_cleand  \n",
      "0                                              더빙 진짜 목소리  \n",
      "1                                 흠 포스터 보고 초딩 영화 줄 오버 연기  \n",
      "2                                         무재 밓었 다그 래서 추천  \n",
      "3                                    교도소 이야기 구먼 재미 평점 조정  \n",
      "4                               몬페 의 연기 영화 스파이더맨 커스틴 던스트  \n",
      "...                                                  ...  \n",
      "49995  이 소위 스페인 이란 건가 아동 판타지 란 허울 의 환상 실재 은 인간 삶 피 영화...  \n",
      "49996                                              셈 저 셈  \n",
      "49997                                              최고 졸작  \n",
      "49998                                                  자  \n",
      "49999                                              감동 영화  \n",
      "\n",
      "[50000 rows x 2 columns]\n"
     ]
    }
   ],
   "source": [
    "print(df_sp[['document','document_cleand']])"
   ]
  },
  {
   "cell_type": "code",
   "execution_count": 38,
   "id": "077a0a09",
   "metadata": {},
   "outputs": [],
   "source": [
    "#CountVectorizer\n",
    "cv=CountVectorizer()\n",
    "X_cv_count=cv.fit_transform(df_sp['document_cleand'])\n",
    "\n",
    "#tfidf\n",
    "tfidf = TfidfVectorizer()\n",
    "X_tfidf_count=tfidf.fit_transform(df_sp['document_cleand'])\n"
   ]
  },
  {
   "cell_type": "markdown",
   "id": "6cf6ce44",
   "metadata": {},
   "source": [
    "## 코사인 유사도\n",
    "- cosine_similarity 유사도를 측정하자!"
   ]
  },
  {
   "cell_type": "code",
   "execution_count": 43,
   "id": "b0b1754d",
   "metadata": {},
   "outputs": [],
   "source": [
    "## cosine_similarities\n",
    "## sklearn에서 가지고 와서 학습\n",
    "\n",
    "from sklearn.metrics.pairwise import cosine_similarity\n",
    "\n",
    "cos_sim_count = cosine_similarity(X_cv_count)\n",
    "cos_sim_tfidf = cosine_similarity(X_tfidf_count)"
   ]
  },
  {
   "cell_type": "code",
   "execution_count": 65,
   "id": "b6f6489c",
   "metadata": {
    "scrolled": true
   },
   "outputs": [
    {
     "name": "stdout",
     "output_type": "stream",
     "text": [
      "\n",
      " Original Review 1: 아 더빙.. 진짜 짜증나네요 목소리\n",
      "\n",
      " Top 3 similar reviews using countvectorizer:\n",
      "Similarity :0.816, Reviews:더빙 진짜 못들어주겠다...\n",
      "Similarity :0.674, Reviews:러시아 영화 진짜 재미없다. 내용전개 진짜 이상하고 이해안돼. 억지로 짜집기한거같아. 더빙도 왜 연예인인거야? 이수근 진짜 더빙 못한다. 한국측 더빙작가가 대본을 이상하게 짠거야, 뭐야? 진짜 이상하고 재미없었다. 아오 빡쳐 ㅡㅡ;;\n",
      "Similarity :0.667, Reviews:진짜 더빙하지말라고 볼맛떨어지게\n",
      "Similarity :0.667, Reviews:아 진짜 하하 더빙좀 안하면 안되냐....\n",
      "Similarity :0.655, Reviews:아 진짜 더빙너무 역겹고ㅇ 극장에 애기들만 와서 진짜 짜증납니다. .\n",
      "Similarity :0.577, Reviews:아 진짜 재밌게 봤습니다♥♥\n",
      "Similarity :0.577, Reviews:진짜 짱이다~~~~~~~~~~~~~~~~~\n",
      "Similarity :0.577, Reviews:진짜 많이 놀랬어요...\n",
      "Similarity :0.577, Reviews:진짜 욕하고싶다.. 보지마라..\n",
      "Similarity :0.577, Reviews:아 진짜!\n",
      "\n",
      " Top 3 similar reviews using Tfidf:\n",
      "Similarity :0.735, Reviews:더빙 진짜 못들어주겠다...\n",
      "Similarity :0.678, Reviews:그롬목소리\n",
      "Similarity :0.630, Reviews:다좋은데..더빙이 너무 어색해..........\n",
      "\n",
      " Original Review 2: 흠...포스터보고 초딩영화줄....오버연기조차 가볍지 않구나\n",
      "\n",
      " Top 3 similar reviews using countvectorizer:\n",
      "Similarity :0.577, Reviews:좋은 영화보고 갑니다.\n",
      "Similarity :0.577, Reviews:재밌게 본 영화 연기 쩔어\n",
      "Similarity :0.577, Reviews:다시는 보고 싶지 않는 영화\n",
      "Similarity :0.577, Reviews:포스터부터 OO 같은 영화\n",
      "Similarity :0.577, Reviews:책을 보고 영화를 봐야했는데..\n",
      "Similarity :0.577, Reviews:포스터가 영화를 망쳤어 ㅠ\n",
      "Similarity :0.577, Reviews:또 보고 또 봐도 재미있는 영화\n",
      "Similarity :0.577, Reviews:이 영화를 보고 제 암이 다 나았습니다~\n",
      "Similarity :0.577, Reviews:좋았습니다 좋은 영화보고 가네요\n",
      "Similarity :0.577, Reviews:이게 머야ㅡㅡ포스터보고 괜히 기대했더만\n",
      "\n",
      " Top 3 similar reviews using Tfidf:\n",
      "Similarity :0.568, Reviews:이게 머야ㅡㅡ포스터보고 괜히 기대했더만\n",
      "Similarity :0.513, Reviews:초딩영화 라고 하는 놈들은 죄다 ㅄ 들이다.\n",
      "Similarity :0.497, Reviews:와 초딩때보고 다시 보니깐 재밌네\n",
      "\n",
      " Original Review 3: 너무재밓었다그래서보는것을추천한다\n",
      "\n",
      " Top 3 similar reviews using countvectorizer:\n",
      "Similarity :0.632, Reviews:너무재밋다 추천하고싶다\n",
      "Similarity :0.447, Reviews:너무재밋어요 ㅎㅎ..\n",
      "Similarity :0.447, Reviews:너무재미었음\n",
      "Similarity :0.447, Reviews:지루하다..돌려보는것만 추천\n",
      "Similarity :0.447, Reviews:재밌다~~~~추천\n",
      "Similarity :0.447, Reviews:유쾌하고 즐겁게 봤어요 ㅋㅋ 추천 추천 !\n",
      "Similarity :0.447, Reviews:그켬이었음 안보는거 추천\n",
      "Similarity :0.447, Reviews:잘 만들어졌네요. 추천.\n",
      "Similarity :0.447, Reviews:추천\n",
      "Similarity :0.447, Reviews:이게 뭐가슬퍼?아..화난다..추천글 적어놓은넘 싸다구 날리구싶다\n",
      "\n",
      " Top 3 similar reviews using Tfidf:\n",
      "Similarity :0.524, Reviews:너무재밋다 추천하고싶다\n",
      "Similarity :0.434, Reviews:어렸을때봤었는데다시봐도너무재밋어요\n",
      "Similarity :0.434, Reviews:너무재밋다...눈을뗄수가없다...\n",
      "\n",
      " Original Review 4: 교도소 이야기구먼 ..솔직히 재미는 없다..평점 조정\n",
      "\n",
      " Top 3 similar reviews using countvectorizer:\n",
      "Similarity :0.577, Reviews:평점이너무낮네..재미져요~\n",
      "Similarity :0.577, Reviews:재미에 비해 평점이 낮다, 재미있는데...\n",
      "Similarity :0.577, Reviews:재미잇어요~ 신비로운 이야기~ ㅎㅎ\n",
      "Similarity :0.577, Reviews:평점조정 좋은데 왜그래?\n",
      "Similarity :0.577, Reviews:평점 조정 좋은데 왜그래?\n",
      "Similarity :0.471, Reviews:웃기지도 않고, 재미도 없고, 평점이 높은 이유를 모르겠네요\n",
      "Similarity :0.471, Reviews:이거 평점이 너무 낮네;;난 감동깊게 봤는데..재미도 있었고..\n",
      "Similarity :0.471, Reviews:평점이 뭐이렇게 높은건지.. 반전은 있었지만 재미는 없었다.\n",
      "Similarity :0.471, Reviews:평점이 왜이렇게 높니.. 전달하고자 하는 좋은뜻은 알겠는데 재미는 없다.\n",
      "Similarity :0.471, Reviews:뭐여~ 재미 드럽게 없구만.. 이거 관계자들이 평점 올렸구만..\n",
      "\n",
      " Top 3 similar reviews using Tfidf:\n",
      "Similarity :0.534, Reviews:평점조정 좋은데 왜그래?\n",
      "Similarity :0.534, Reviews:평점 조정 좋은데 왜그래?\n",
      "Similarity :0.454, Reviews:평점 조정을 위해...\n",
      "\n",
      " Original Review 5: 사이몬페그의 익살스런 연기가 돋보였던 영화!스파이더맨에서 늙어보이기만 했던 커스틴 던스트가 너무나도 이뻐보였다\n",
      "\n",
      " Top 3 similar reviews using countvectorizer:\n",
      "Similarity :0.577, Reviews:엄청난 연기들이 이 영화를 여전히 따뜻하게 해준다\n",
      "Similarity :0.577, Reviews:재밌게 본 영화 연기 쩔어\n",
      "Similarity :0.548, Reviews:첨엔 뭐 연기가 이래 했는데 연기로보는 영화가 아님 ㅋㅋㅋ웃겨죽는줄!\n",
      "Similarity :0.500, Reviews:재미있고, 뭔가 남는 영화같아서 좋았습니다... 연기도 좋았고.. 잘만들어진 영화라 느낍니다.\n",
      "Similarity :0.500, Reviews:어렸을때 본 영화인데 좀 감동적이고 연기도 좋았다.. 한 번쯤 보면 괜찮은 영화!!\n",
      "Similarity :0.500, Reviews:좋은 연기, 좋은 영화입니다. 악역없는 영화가 좋아요.\n",
      "Similarity :0.471, Reviews:배우들의 연기가 아까운 영화..\n",
      "Similarity :0.471, Reviews:연기가 훌륭했습니다 가슴 먹먹한 영화\n",
      "Similarity :0.471, Reviews:돋보이는 연기와 탄탄한 시나리오가 영화를 A급으로 만들었다\n",
      "Similarity :0.471, Reviews:잊을수가 없는 영화다..장예모 연기가 멋짐..\n",
      "\n",
      " Top 3 similar reviews using Tfidf:\n",
      "Similarity :0.475, Reviews:정말 재밌엉^^ 사이몬페그 ㅋㅋ 짱임\n",
      "Similarity :0.449, Reviews:커스틴 때문에 좋겠다\n",
      "Similarity :0.408, Reviews:뷁. 이것보다 스파이더맨이 더 무섭겠네요.\n",
      "\n",
      " Original Review 6: 막 걸음마 뗀 3세부터 초등학교 1학년생인 8살용영화.ㅋㅋㅋ...별반개도 아까움.\n",
      "\n",
      " Top 3 similar reviews using countvectorizer:\n",
      "Similarity :0.612, Reviews:초등학교 2학년때 본 영화.. 최고였다 잊혀지지 않는다..\n",
      "Similarity :0.577, Reviews:와 ㅋㅋ 별 반개는 꼭 줘야되네요 ㅋㅋㅋㅋ 아놔 화나는 영화 ㅋㅋ\n",
      "Similarity :0.577, Reviews:별 반개도 아까운 이상하고 무서운 영화(물론 안봄)\n",
      "Similarity :0.471, Reviews:별반개도 아까운 최악의 영화\n",
      "Similarity :0.471, Reviews:이딴게 영화라고?? 중학교2학년애들이 만들어도 이것보단재밌겟다\n",
      "Similarity :0.471, Reviews:초등학교때 나온영화.. 타임캡슐 ㅋㅋㅋㅋㅋㅋㅋㅋㅋㅋㅋㅋㅋㅋㅋㅋ\n",
      "Similarity :0.471, Reviews:별 반개도 아깝다 진짜 OOO기영화\n",
      "Similarity :0.471, Reviews:별 반개도 아까움 .. 아나 진짜 이런영화 왜만드는거야??\n",
      "Similarity :0.471, Reviews:반개도 아깝다. 도데체 뭔 영화여\n",
      "Similarity :0.463, Reviews:내 친구는 초등학교 3~4학년 때 이 걸 최고의 영화라고 했다... 나는 20대 후반에 느낀 것을~ 그 놈은 지금 뭐 하고 있을까??....\n",
      "\n",
      " Top 3 similar reviews using Tfidf:\n",
      "Similarity :0.563, Reviews:초등학교 2학년때 본 영화.. 최고였다 잊혀지지 않는다..\n",
      "Similarity :0.430, Reviews:내 친구는 초등학교 3~4학년 때 이 걸 최고의 영화라고 했다... 나는 20대 후반에 느낀 것을~ 그 놈은 지금 뭐 하고 있을까??....\n",
      "Similarity :0.413, Reviews:초등학교 6학년 도서관에서 봤는데 아직도 잊을 수가 없다\n",
      "\n",
      " Original Review 7: 원작의 긴장감을 제대로 살려내지못했다.\n",
      "\n",
      " Top 3 similar reviews using countvectorizer:\n",
      "Similarity :0.577, Reviews:그저 그런 RPG 원작을 보는 듯하다\n",
      "Similarity :0.577, Reviews:원작이 낫네;; 윽 징그러\n",
      "Similarity :0.577, Reviews:제대로 저질\n",
      "Similarity :0.577, Reviews:좋은 원작 버렸네\n",
      "Similarity :0.577, Reviews:원작을 잘 못 살렸을 줄 알았는데 아니었다\n",
      "Similarity :0.577, Reviews:할 거면 제대로 하던가 아님 말던가..\n",
      "Similarity :0.577, Reviews:원작이 더 나은듯..\n",
      "Similarity :0.577, Reviews:원작을 몰랐더라면 별 한개라도 더 줄 수 있었을까? 아닐듯...\n",
      "Similarity :0.577, Reviews:원작을 망쳐놨군\n",
      "Similarity :0.577, Reviews:원작보다 좀 떨어진다.\n",
      "\n",
      " Top 3 similar reviews using Tfidf:\n",
      "Similarity :0.676, Reviews:원작을 제대로 망쳐놓은 최악의 영화\n",
      "Similarity :0.620, Reviews:감독이 원작을 제대로 읽어보기나 한건지..\n",
      "Similarity :0.598, Reviews:머야 이건 아주 제대로 원작에 똥칠하네....\n",
      "\n",
      " Original Review 8: 별 반개도 아깝다 욕나온다 이응경 길용우 연기생활이몇년인지..정말 발로해도 그것보단 낫겟다 납치.감금만반복반복..이드라마는 가족도없다 연기못하는사람만모엿네\n",
      "\n",
      " Top 3 similar reviews using countvectorizer:\n",
      "Similarity :0.485, Reviews:뭐야 왜저래 이말만 반복;;\n",
      "Similarity :0.485, Reviews:너무 재미있어서 두번이나 반복해서 봤네...\n",
      "Similarity :0.366, Reviews:정말 잘만들었다 기타노 타케시의 연기는 정말.. 그사람을 연기한다\n",
      "Similarity :0.364, Reviews:정말 올만에 가슴이 움직이는 드라마네요 억지스런 연기가아니라 더 맘을 울려요 강추합니다\n",
      "Similarity :0.360, Reviews:정신병자같은 저 최선정 연기가 잘하는거면 나도한다그딴연기 방송으로 내보내는 감독도 웃긴거 아님?정말 이 드라마 만든사람들이나 연기하는사람들이나너무 웃기고 어처구니가없다 퍼뜩 종영하소 시청자들 열받게하는 그지같은 드라마!!!!!!\n",
      "Similarity :0.343, Reviews:사람마다 느끼는게 다르겠지만 전 정말 재밌게 봤습니다.\n",
      "Similarity :0.343, Reviews:정말 재미있었던 드라마 .\n",
      "Similarity :0.343, Reviews:정말 재미없었던 드라마\n",
      "Similarity :0.343, Reviews:정말 재미있는 드라마^^\n",
      "Similarity :0.343, Reviews:저런생활이 있다면 정말 안되었구나\n",
      "\n",
      " Top 3 similar reviews using Tfidf:\n",
      "Similarity :0.500, Reviews:뭐야 왜저래 이말만 반복;;\n",
      "Similarity :0.500, Reviews:너무 재미있어서 두번이나 반복해서 봤네...\n",
      "Similarity :0.434, Reviews:보다 졸고, 졸다 보고. 반복...\n",
      "\n",
      " Original Review 9: 액션이 없는데도 재미 있는 몇안되는 영화\n",
      "\n",
      " Top 3 similar reviews using countvectorizer:\n",
      "Similarity :0.816, Reviews:이 영화가 그렇게 재미 없었습니까?\n",
      "Similarity :0.816, Reviews:난 이거 재미만 있던대 -_-; 그렇게까지 깔영화도 아니더만....;\n",
      "Similarity :0.816, Reviews:재밌게 본 영화^^액션 짱이네요!!\n",
      "Similarity :0.816, Reviews:꽤 볼만한 액션 영화\n",
      "Similarity :0.816, Reviews:재밌었던 액션 영화\n",
      "Similarity :0.816, Reviews:재미만 따져서는 안될 영화.\n",
      "Similarity :0.816, Reviews:재미잇는 영화였내요^^\n",
      "Similarity :0.816, Reviews:영화의 재미는.........?\n",
      "Similarity :0.816, Reviews:왜 이런 영화들은 재미가 없는 걸까요??\n",
      "Similarity :0.816, Reviews:재미난 반전영화네욤ㅎ\n",
      "\n",
      " Top 3 similar reviews using Tfidf:\n",
      "Similarity :0.774, Reviews:재밌었던 액션 영화\n",
      "Similarity :0.774, Reviews:꽤 볼만한 액션 영화\n",
      "Similarity :0.774, Reviews:재밌게 본 영화^^액션 짱이네요!!\n",
      "\n",
      " Original Review 10: 왜케 평점이 낮은건데? 꽤 볼만한데.. 헐리우드식 화려함에만 너무 길들여져 있나?\n",
      "\n",
      " Top 3 similar reviews using countvectorizer:\n",
      "Similarity :0.816, Reviews:잼있는데 평점왜케 낮지? ㅋㅋ\n",
      "Similarity :0.816, Reviews:평점이 왜케 높지???\n",
      "Similarity :0.816, Reviews:ㅋㅋ나쁘지 않았는데 왜케 평점안좋지?\n",
      "Similarity :0.816, Reviews:평점 왜케 낮어\n",
      "Similarity :0.816, Reviews:뭐야 평점 왜케 높은거지?? 2로 맞춰야 해!!!\n",
      "Similarity :0.816, Reviews:평점 왜케 높냐 좀 깍자.\n",
      "Similarity :0.667, Reviews:왜케평점이낮냐...진짜재밋게본건데몇번이고..\n",
      "Similarity :0.667, Reviews:이영화 평점 왜케 높냐.\n",
      "Similarity :0.667, Reviews:왜케 평점이 낮지? 잼게 봣는뎅\n",
      "Similarity :0.667, Reviews:평점이 왜케 낮지???? 이영화쩔었는데\n",
      "\n",
      " Top 3 similar reviews using Tfidf:\n",
      "Similarity :0.751, Reviews:평점 왜케 낮어\n",
      "Similarity :0.751, Reviews:ㅋㅋ나쁘지 않았는데 왜케 평점안좋지?\n",
      "Similarity :0.751, Reviews:평점이 왜케 높지???\n"
     ]
    }
   ],
   "source": [
    "# 코사인 유사도를 통해 리뷰 10개 정도 추려서 \n",
    "# 리뷰와 코사인유사도가 같은 3개 정도를 출력하는 코드\n",
    "\n",
    "num_rvs = 10\n",
    "for i in range(num_rvs):\n",
    "    #cv\n",
    "    simliar_indices_count = cos_sim_count[i].argsort()[::-1][1:11]\n",
    "    similar_reviews_count = [(cos_sim_count[i][j], df_sp['document'][j]) for j in simliar_indices_count]\n",
    "    \n",
    "    #tfidf\n",
    "    simliar_indices_tfidf = cos_sim_tfidf[i].argsort()[::-1][1:4]\n",
    "    similar_reviews_tfidf = [(cos_sim_tfidf[i][j], df_sp['document'][j]) for j in simliar_indices_tfidf]\n",
    "    \n",
    "    print(f\"\\n Original Review {i+1}: {df_sp['document'][i]}\")\n",
    "    print(\"\\n Top 3 similar reviews using countvectorizer:\")\n",
    "    for sim_score, reviews in similar_reviews_count:\n",
    "        print(f\"Similarity :{sim_score:.3f}, Reviews:{reviews}\")\n",
    "    \n",
    "    print(\"\\n Top 3 similar reviews using Tfidf:\")\n",
    "    for sim_score, reviews in similar_reviews_tfidf:\n",
    "        print(f\"Similarity :{sim_score:.3f}, Reviews:{reviews}\")\n"
   ]
  },
  {
   "cell_type": "markdown",
   "id": "411ed606",
   "metadata": {},
   "source": [
    "- LDA (Latent Dirichlet Allocation)\n",
    "- 토픽 모델링 \n",
    "- 텍스트 기반 문서에서 핵심 주제 (Topic)을 찾는다. 데이터 분석 방법론 \n",
    "- 작동방법\n",
    "    - 확률 기반으로 텍스트의 문서 내에 토픽들이 어떤 비율로 구성되어 있는지 확인\n",
    "    - 임의 토픽을 분석가 정한 다음에, 해당 토픽에 대해서 카운팅을 해보고 ( 임의로 카운팅 )\n",
    "    - 다른 리뷰들이 어떤 식으로 토픽이 분포되어 있는지 보고 맞춰가면서 새로운 리뷰 단어 대해서 토픽을 찾는다.\n",
    "    "
   ]
  },
  {
   "cell_type": "code",
   "execution_count": 70,
   "id": "c234e2ff",
   "metadata": {},
   "outputs": [
    {
     "data": {
      "text/html": [
       "<style>#sk-container-id-2 {color: black;}#sk-container-id-2 pre{padding: 0;}#sk-container-id-2 div.sk-toggleable {background-color: white;}#sk-container-id-2 label.sk-toggleable__label {cursor: pointer;display: block;width: 100%;margin-bottom: 0;padding: 0.3em;box-sizing: border-box;text-align: center;}#sk-container-id-2 label.sk-toggleable__label-arrow:before {content: \"▸\";float: left;margin-right: 0.25em;color: #696969;}#sk-container-id-2 label.sk-toggleable__label-arrow:hover:before {color: black;}#sk-container-id-2 div.sk-estimator:hover label.sk-toggleable__label-arrow:before {color: black;}#sk-container-id-2 div.sk-toggleable__content {max-height: 0;max-width: 0;overflow: hidden;text-align: left;background-color: #f0f8ff;}#sk-container-id-2 div.sk-toggleable__content pre {margin: 0.2em;color: black;border-radius: 0.25em;background-color: #f0f8ff;}#sk-container-id-2 input.sk-toggleable__control:checked~div.sk-toggleable__content {max-height: 200px;max-width: 100%;overflow: auto;}#sk-container-id-2 input.sk-toggleable__control:checked~label.sk-toggleable__label-arrow:before {content: \"▾\";}#sk-container-id-2 div.sk-estimator input.sk-toggleable__control:checked~label.sk-toggleable__label {background-color: #d4ebff;}#sk-container-id-2 div.sk-label input.sk-toggleable__control:checked~label.sk-toggleable__label {background-color: #d4ebff;}#sk-container-id-2 input.sk-hidden--visually {border: 0;clip: rect(1px 1px 1px 1px);clip: rect(1px, 1px, 1px, 1px);height: 1px;margin: -1px;overflow: hidden;padding: 0;position: absolute;width: 1px;}#sk-container-id-2 div.sk-estimator {font-family: monospace;background-color: #f0f8ff;border: 1px dotted black;border-radius: 0.25em;box-sizing: border-box;margin-bottom: 0.5em;}#sk-container-id-2 div.sk-estimator:hover {background-color: #d4ebff;}#sk-container-id-2 div.sk-parallel-item::after {content: \"\";width: 100%;border-bottom: 1px solid gray;flex-grow: 1;}#sk-container-id-2 div.sk-label:hover label.sk-toggleable__label {background-color: #d4ebff;}#sk-container-id-2 div.sk-serial::before {content: \"\";position: absolute;border-left: 1px solid gray;box-sizing: border-box;top: 0;bottom: 0;left: 50%;z-index: 0;}#sk-container-id-2 div.sk-serial {display: flex;flex-direction: column;align-items: center;background-color: white;padding-right: 0.2em;padding-left: 0.2em;position: relative;}#sk-container-id-2 div.sk-item {position: relative;z-index: 1;}#sk-container-id-2 div.sk-parallel {display: flex;align-items: stretch;justify-content: center;background-color: white;position: relative;}#sk-container-id-2 div.sk-item::before, #sk-container-id-2 div.sk-parallel-item::before {content: \"\";position: absolute;border-left: 1px solid gray;box-sizing: border-box;top: 0;bottom: 0;left: 50%;z-index: -1;}#sk-container-id-2 div.sk-parallel-item {display: flex;flex-direction: column;z-index: 1;position: relative;background-color: white;}#sk-container-id-2 div.sk-parallel-item:first-child::after {align-self: flex-end;width: 50%;}#sk-container-id-2 div.sk-parallel-item:last-child::after {align-self: flex-start;width: 50%;}#sk-container-id-2 div.sk-parallel-item:only-child::after {width: 0;}#sk-container-id-2 div.sk-dashed-wrapped {border: 1px dashed gray;margin: 0 0.4em 0.5em 0.4em;box-sizing: border-box;padding-bottom: 0.4em;background-color: white;}#sk-container-id-2 div.sk-label label {font-family: monospace;font-weight: bold;display: inline-block;line-height: 1.2em;}#sk-container-id-2 div.sk-label-container {text-align: center;}#sk-container-id-2 div.sk-container {/* jupyter's `normalize.less` sets `[hidden] { display: none; }` but bootstrap.min.css set `[hidden] { display: none !important; }` so we also need the `!important` here to be able to override the default hidden behavior on the sphinx rendered scikit-learn.org. See: https://github.com/scikit-learn/scikit-learn/issues/21755 */display: inline-block !important;position: relative;}#sk-container-id-2 div.sk-text-repr-fallback {display: none;}</style><div id=\"sk-container-id-2\" class=\"sk-top-container\"><div class=\"sk-text-repr-fallback\"><pre>LatentDirichletAllocation(n_components=2, random_state=111)</pre><b>In a Jupyter environment, please rerun this cell to show the HTML representation or trust the notebook. <br />On GitHub, the HTML representation is unable to render, please try loading this page with nbviewer.org.</b></div><div class=\"sk-container\" hidden><div class=\"sk-item\"><div class=\"sk-estimator sk-toggleable\"><input class=\"sk-toggleable__control sk-hidden--visually\" id=\"sk-estimator-id-2\" type=\"checkbox\" checked><label for=\"sk-estimator-id-2\" class=\"sk-toggleable__label sk-toggleable__label-arrow\">LatentDirichletAllocation</label><div class=\"sk-toggleable__content\"><pre>LatentDirichletAllocation(n_components=2, random_state=111)</pre></div></div></div></div></div>"
      ],
      "text/plain": [
       "LatentDirichletAllocation(n_components=2, random_state=111)"
      ]
     },
     "execution_count": 70,
     "metadata": {},
     "output_type": "execute_result"
    }
   ],
   "source": [
    "# 사이킷런에서 제공하는 패키지\n",
    "from sklearn.decomposition import LatentDirichletAllocation\n",
    "\n",
    "# LDA모델 학습\n",
    "# 내가 원하는 토픽 주제는 분석가 정할 수 있다. 2개, 3개 \n",
    "# 2개의 토픽을 정하는데, 이 토픽은 어떤 특정 값이 아니라 계산해서 유사하다고 판단되는 토픽들을 묶어서 보여주는 것\n",
    "# 해석에 의미는 분석가가 진행해야 한다.\n",
    "lda=LatentDirichletAllocation(n_components = 2, random_state=111)\n",
    "\n",
    "lda.fit(X_cv_count)"
   ]
  },
  {
   "cell_type": "code",
   "execution_count": 75,
   "id": "1190d6a3",
   "metadata": {},
   "outputs": [
    {
     "name": "stdout",
     "output_type": "stream",
     "text": [
      "Topic 0:\n",
      "연기 평점 스토리 배우 내용 재미 진짜 주인공 시간 별로\n",
      "Topic 1:\n",
      "영화 정말 최고 진짜 감동 보고 드라마 생각 쓰레기 사람\n"
     ]
    }
   ],
   "source": [
    "# lda에 있는 값들을 출력해야 한다.\n",
    "# 상위 몇 개 단어를 가지고 올 것인가?\n",
    "n_top_words = 10\n",
    "\n",
    "def print_top_words(model, feature_name, n_top_words):\n",
    "    for topic_idx, topic in enumerate(model.components_):\n",
    "        print(f\"Topic {topic_idx}:\")\n",
    "        print(\" \".join([feature_name[i] for i in topic.argsort()[:-n_top_words-1:-1]]))\n",
    "        \n",
    "tf_feature_names=cv.get_feature_names_out()\n",
    "print_top_words(lda, tf_feature_names, n_top_words)"
   ]
  },
  {
   "cell_type": "code",
   "execution_count": null,
   "id": "ea0621e7",
   "metadata": {},
   "outputs": [],
   "source": []
  }
 ],
 "metadata": {
  "kernelspec": {
   "display_name": "Python 3 (ipykernel)",
   "language": "python",
   "name": "python3"
  },
  "language_info": {
   "codemirror_mode": {
    "name": "ipython",
    "version": 3
   },
   "file_extension": ".py",
   "mimetype": "text/x-python",
   "name": "python",
   "nbconvert_exporter": "python",
   "pygments_lexer": "ipython3",
   "version": "3.8.16"
  }
 },
 "nbformat": 4,
 "nbformat_minor": 5
}
