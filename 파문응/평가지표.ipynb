{
 "cells": [
  {
   "cell_type": "code",
   "execution_count": null,
   "id": "ccecac02",
   "metadata": {
    "id": "ccecac02"
   },
   "outputs": [],
   "source": [
    "import pandas as pd\n",
    "import numpy as np\n",
    "from sklearn.preprocessing import RobustScaler\n",
    "from sklearn.linear_model import LogisticRegression\n",
    "from sklearn.model_selection import train_test_split\n",
    "from imblearn.under_sampling import *\n",
    "import matplotlib.pyplot as plt\n",
    "from sklearn.metrics import confusion_matrix, ConfusionMatrixDisplay\n",
    "from sklearn.metrics import precision_score, recall_score, f1_score\n",
    "#import scikitplot as skplt\n",
    "from sklearn.metrics import roc_curve\n",
    "from sklearn.metrics import auc\n",
    "from sklearn import metrics"
   ]
  },
  {
   "cell_type": "code",
   "execution_count": null,
   "id": "8e8fd47e",
   "metadata": {
    "id": "8e8fd47e"
   },
   "outputs": [],
   "source": [
    "df = pd.read_csv('heart_2020_cleaned.csv')"
   ]
  },
  {
   "cell_type": "code",
   "execution_count": null,
   "id": "7af48492",
   "metadata": {
    "id": "7af48492",
    "outputId": "9d644dc2-f83d-462a-8c64-11fc89a7e767"
   },
   "outputs": [
    {
     "data": {
      "text/plain": [
       "Index(['HeartDisease', 'BMI', 'Smoking', 'AlcoholDrinking', 'Stroke',\n",
       "       'PhysicalHealth', 'MentalHealth', 'DiffWalking', 'Sex', 'AgeCategory',\n",
       "       'Race', 'Diabetic', 'PhysicalActivity', 'GenHealth', 'SleepTime',\n",
       "       'Asthma', 'KidneyDisease', 'SkinCancer'],\n",
       "      dtype='object')"
      ]
     },
     "execution_count": 4,
     "metadata": {},
     "output_type": "execute_result"
    }
   ],
   "source": [
    "df.columns"
   ]
  },
  {
   "cell_type": "code",
   "execution_count": null,
   "id": "3156aa13",
   "metadata": {
    "id": "3156aa13"
   },
   "outputs": [],
   "source": [
    "#전처리 코드 get_dummies\n",
    "df2 = pd.get_dummies(df, columns = ['HeartDisease','Smoking',\n",
    "                                    'AlcoholDrinking','Stroke',\n",
    "                                    'DiffWalking','Sex',\n",
    "                                    'AgeCategory','Race',\n",
    "                                    'Diabetic','PhysicalActivity',\n",
    "                                    'GenHealth','Asthma',\n",
    "                                    'KidneyDisease','SkinCancer']\n",
    "                     ,drop_first=True\n",
    "                    )\n"
   ]
  },
  {
   "cell_type": "code",
   "execution_count": null,
   "id": "2221546a",
   "metadata": {
    "id": "2221546a"
   },
   "outputs": [],
   "source": [
    "#데이터 합치기 ( 사용할 데이터들)\n",
    "df_num = df[['BMI','PhysicalHealth','MentalHealth','SleepTime']]\n",
    "df_nom = df2.drop(['BMI','PhysicalHealth','MentalHealth','SleepTime'],axis=1)"
   ]
  },
  {
   "cell_type": "code",
   "execution_count": null,
   "id": "977ad77a",
   "metadata": {
    "id": "977ad77a"
   },
   "outputs": [],
   "source": [
    "#로버스터 스케일링 진행\n",
    "RobustScaler = RobustScaler()\n",
    "df_robust = RobustScaler.fit_transform(df_num)"
   ]
  },
  {
   "cell_type": "code",
   "execution_count": null,
   "id": "b4f3daa3",
   "metadata": {
    "id": "b4f3daa3"
   },
   "outputs": [],
   "source": [
    "# 데이터 병합\n",
    "df_num2 = pd.DataFrame(data=df_robust, columns=df_num.columns)"
   ]
  },
  {
   "cell_type": "code",
   "execution_count": null,
   "id": "5bb4d06d",
   "metadata": {
    "id": "5bb4d06d"
   },
   "outputs": [],
   "source": [
    "#데이터 병합\n",
    "df3 = pd.concat([df_num2,df_nom],axis=1)"
   ]
  },
  {
   "cell_type": "code",
   "execution_count": null,
   "id": "53fb29d8",
   "metadata": {
    "id": "53fb29d8"
   },
   "outputs": [],
   "source": [
    "# 독립변수, 종속변수\n",
    "X = df3.drop(['HeartDisease_Yes'],axis=1)\n",
    "y = df3[['HeartDisease_Yes']]\n",
    "\n"
   ]
  },
  {
   "cell_type": "code",
   "execution_count": null,
   "id": "dbddbff1",
   "metadata": {
    "id": "dbddbff1"
   },
   "outputs": [],
   "source": [
    "X= X*1 #전처리 완료"
   ]
  },
  {
   "cell_type": "code",
   "execution_count": null,
   "id": "05da6afb",
   "metadata": {
    "id": "05da6afb"
   },
   "outputs": [],
   "source": [
    "y=y*1  #전처리 완료"
   ]
  },
  {
   "cell_type": "code",
   "execution_count": null,
   "id": "1d7c6a24",
   "metadata": {
    "id": "1d7c6a24",
    "outputId": "66e6bbc4-90c5-493b-8460-460c67f895cb"
   },
   "outputs": [
    {
     "data": {
      "text/plain": [
       "HeartDisease_Yes\n",
       "0                   292422\n",
       "1                    27373\n",
       "Name: count, dtype: int64"
      ]
     },
     "execution_count": 24,
     "metadata": {},
     "output_type": "execute_result"
    }
   ],
   "source": [
    "y.value_counts()"
   ]
  },
  {
   "cell_type": "code",
   "execution_count": null,
   "id": "3d2f6c85",
   "metadata": {
    "id": "3d2f6c85"
   },
   "outputs": [],
   "source": [
    "#train, test 나누기!\n",
    "X_train, X_test, y_train, y_test = train_test_split(\n",
    "    X,y,test_size=0.3,random_state=10)"
   ]
  },
  {
   "cell_type": "code",
   "execution_count": null,
   "id": "7c4479a6",
   "metadata": {
    "id": "7c4479a6",
    "outputId": "d9bb1009-f15d-4670-b9c3-3e858799952b"
   },
   "outputs": [
    {
     "data": {
      "text/html": [
       "<div>\n",
       "<style scoped>\n",
       "    .dataframe tbody tr th:only-of-type {\n",
       "        vertical-align: middle;\n",
       "    }\n",
       "\n",
       "    .dataframe tbody tr th {\n",
       "        vertical-align: top;\n",
       "    }\n",
       "\n",
       "    .dataframe thead th {\n",
       "        text-align: right;\n",
       "    }\n",
       "</style>\n",
       "<table border=\"1\" class=\"dataframe\">\n",
       "  <thead>\n",
       "    <tr style=\"text-align: right;\">\n",
       "      <th></th>\n",
       "      <th>BMI</th>\n",
       "      <th>PhysicalHealth</th>\n",
       "      <th>MentalHealth</th>\n",
       "      <th>SleepTime</th>\n",
       "      <th>Smoking_Yes</th>\n",
       "      <th>AlcoholDrinking_Yes</th>\n",
       "      <th>Stroke_Yes</th>\n",
       "      <th>DiffWalking_Yes</th>\n",
       "      <th>Sex_Male</th>\n",
       "      <th>AgeCategory_25-29</th>\n",
       "      <th>...</th>\n",
       "      <th>Diabetic_Yes</th>\n",
       "      <th>Diabetic_Yes (during pregnancy)</th>\n",
       "      <th>PhysicalActivity_Yes</th>\n",
       "      <th>GenHealth_Fair</th>\n",
       "      <th>GenHealth_Good</th>\n",
       "      <th>GenHealth_Poor</th>\n",
       "      <th>GenHealth_Very good</th>\n",
       "      <th>Asthma_Yes</th>\n",
       "      <th>KidneyDisease_Yes</th>\n",
       "      <th>SkinCancer_Yes</th>\n",
       "    </tr>\n",
       "  </thead>\n",
       "  <tbody>\n",
       "    <tr>\n",
       "      <th>15864</th>\n",
       "      <td>-1.074425</td>\n",
       "      <td>2.5</td>\n",
       "      <td>5.000000</td>\n",
       "      <td>-1.0</td>\n",
       "      <td>0</td>\n",
       "      <td>0</td>\n",
       "      <td>0</td>\n",
       "      <td>0</td>\n",
       "      <td>0</td>\n",
       "      <td>0</td>\n",
       "      <td>...</td>\n",
       "      <td>0</td>\n",
       "      <td>0</td>\n",
       "      <td>0</td>\n",
       "      <td>0</td>\n",
       "      <td>1</td>\n",
       "      <td>0</td>\n",
       "      <td>0</td>\n",
       "      <td>1</td>\n",
       "      <td>0</td>\n",
       "      <td>0</td>\n",
       "    </tr>\n",
       "    <tr>\n",
       "      <th>266220</th>\n",
       "      <td>0.645467</td>\n",
       "      <td>0.0</td>\n",
       "      <td>2.000000</td>\n",
       "      <td>-0.5</td>\n",
       "      <td>1</td>\n",
       "      <td>0</td>\n",
       "      <td>0</td>\n",
       "      <td>0</td>\n",
       "      <td>1</td>\n",
       "      <td>0</td>\n",
       "      <td>...</td>\n",
       "      <td>0</td>\n",
       "      <td>0</td>\n",
       "      <td>1</td>\n",
       "      <td>0</td>\n",
       "      <td>1</td>\n",
       "      <td>0</td>\n",
       "      <td>0</td>\n",
       "      <td>0</td>\n",
       "      <td>0</td>\n",
       "      <td>0</td>\n",
       "    </tr>\n",
       "    <tr>\n",
       "      <th>102361</th>\n",
       "      <td>0.263870</td>\n",
       "      <td>3.0</td>\n",
       "      <td>10.000000</td>\n",
       "      <td>-0.5</td>\n",
       "      <td>0</td>\n",
       "      <td>0</td>\n",
       "      <td>0</td>\n",
       "      <td>0</td>\n",
       "      <td>0</td>\n",
       "      <td>0</td>\n",
       "      <td>...</td>\n",
       "      <td>0</td>\n",
       "      <td>0</td>\n",
       "      <td>1</td>\n",
       "      <td>0</td>\n",
       "      <td>1</td>\n",
       "      <td>0</td>\n",
       "      <td>0</td>\n",
       "      <td>0</td>\n",
       "      <td>0</td>\n",
       "      <td>0</td>\n",
       "    </tr>\n",
       "    <tr>\n",
       "      <th>10343</th>\n",
       "      <td>-0.860622</td>\n",
       "      <td>0.0</td>\n",
       "      <td>0.000000</td>\n",
       "      <td>0.0</td>\n",
       "      <td>1</td>\n",
       "      <td>0</td>\n",
       "      <td>0</td>\n",
       "      <td>0</td>\n",
       "      <td>0</td>\n",
       "      <td>0</td>\n",
       "      <td>...</td>\n",
       "      <td>0</td>\n",
       "      <td>0</td>\n",
       "      <td>1</td>\n",
       "      <td>0</td>\n",
       "      <td>0</td>\n",
       "      <td>0</td>\n",
       "      <td>0</td>\n",
       "      <td>0</td>\n",
       "      <td>0</td>\n",
       "      <td>1</td>\n",
       "    </tr>\n",
       "    <tr>\n",
       "      <th>310108</th>\n",
       "      <td>0.366712</td>\n",
       "      <td>0.0</td>\n",
       "      <td>0.000000</td>\n",
       "      <td>0.0</td>\n",
       "      <td>1</td>\n",
       "      <td>0</td>\n",
       "      <td>0</td>\n",
       "      <td>0</td>\n",
       "      <td>1</td>\n",
       "      <td>0</td>\n",
       "      <td>...</td>\n",
       "      <td>0</td>\n",
       "      <td>0</td>\n",
       "      <td>1</td>\n",
       "      <td>0</td>\n",
       "      <td>0</td>\n",
       "      <td>0</td>\n",
       "      <td>1</td>\n",
       "      <td>0</td>\n",
       "      <td>0</td>\n",
       "      <td>0</td>\n",
       "    </tr>\n",
       "    <tr>\n",
       "      <th>...</th>\n",
       "      <td>...</td>\n",
       "      <td>...</td>\n",
       "      <td>...</td>\n",
       "      <td>...</td>\n",
       "      <td>...</td>\n",
       "      <td>...</td>\n",
       "      <td>...</td>\n",
       "      <td>...</td>\n",
       "      <td>...</td>\n",
       "      <td>...</td>\n",
       "      <td>...</td>\n",
       "      <td>...</td>\n",
       "      <td>...</td>\n",
       "      <td>...</td>\n",
       "      <td>...</td>\n",
       "      <td>...</td>\n",
       "      <td>...</td>\n",
       "      <td>...</td>\n",
       "      <td>...</td>\n",
       "      <td>...</td>\n",
       "      <td>...</td>\n",
       "    </tr>\n",
       "    <tr>\n",
       "      <th>299741</th>\n",
       "      <td>0.691475</td>\n",
       "      <td>15.0</td>\n",
       "      <td>1.666667</td>\n",
       "      <td>0.5</td>\n",
       "      <td>1</td>\n",
       "      <td>0</td>\n",
       "      <td>0</td>\n",
       "      <td>1</td>\n",
       "      <td>0</td>\n",
       "      <td>0</td>\n",
       "      <td>...</td>\n",
       "      <td>0</td>\n",
       "      <td>0</td>\n",
       "      <td>0</td>\n",
       "      <td>0</td>\n",
       "      <td>0</td>\n",
       "      <td>1</td>\n",
       "      <td>0</td>\n",
       "      <td>0</td>\n",
       "      <td>0</td>\n",
       "      <td>0</td>\n",
       "    </tr>\n",
       "    <tr>\n",
       "      <th>9372</th>\n",
       "      <td>-0.012179</td>\n",
       "      <td>15.0</td>\n",
       "      <td>10.000000</td>\n",
       "      <td>-0.5</td>\n",
       "      <td>1</td>\n",
       "      <td>0</td>\n",
       "      <td>1</td>\n",
       "      <td>1</td>\n",
       "      <td>0</td>\n",
       "      <td>0</td>\n",
       "      <td>...</td>\n",
       "      <td>0</td>\n",
       "      <td>0</td>\n",
       "      <td>1</td>\n",
       "      <td>1</td>\n",
       "      <td>0</td>\n",
       "      <td>0</td>\n",
       "      <td>0</td>\n",
       "      <td>0</td>\n",
       "      <td>0</td>\n",
       "      <td>0</td>\n",
       "    </tr>\n",
       "    <tr>\n",
       "      <th>105595</th>\n",
       "      <td>-0.822733</td>\n",
       "      <td>0.0</td>\n",
       "      <td>0.000000</td>\n",
       "      <td>0.5</td>\n",
       "      <td>1</td>\n",
       "      <td>0</td>\n",
       "      <td>0</td>\n",
       "      <td>0</td>\n",
       "      <td>0</td>\n",
       "      <td>0</td>\n",
       "      <td>...</td>\n",
       "      <td>0</td>\n",
       "      <td>0</td>\n",
       "      <td>1</td>\n",
       "      <td>0</td>\n",
       "      <td>1</td>\n",
       "      <td>0</td>\n",
       "      <td>0</td>\n",
       "      <td>0</td>\n",
       "      <td>0</td>\n",
       "      <td>0</td>\n",
       "    </tr>\n",
       "    <tr>\n",
       "      <th>93553</th>\n",
       "      <td>1.410014</td>\n",
       "      <td>0.0</td>\n",
       "      <td>0.000000</td>\n",
       "      <td>-0.5</td>\n",
       "      <td>0</td>\n",
       "      <td>0</td>\n",
       "      <td>0</td>\n",
       "      <td>1</td>\n",
       "      <td>0</td>\n",
       "      <td>0</td>\n",
       "      <td>...</td>\n",
       "      <td>0</td>\n",
       "      <td>0</td>\n",
       "      <td>1</td>\n",
       "      <td>0</td>\n",
       "      <td>0</td>\n",
       "      <td>0</td>\n",
       "      <td>1</td>\n",
       "      <td>0</td>\n",
       "      <td>0</td>\n",
       "      <td>1</td>\n",
       "    </tr>\n",
       "    <tr>\n",
       "      <th>236669</th>\n",
       "      <td>-0.234100</td>\n",
       "      <td>0.0</td>\n",
       "      <td>0.000000</td>\n",
       "      <td>0.0</td>\n",
       "      <td>1</td>\n",
       "      <td>0</td>\n",
       "      <td>0</td>\n",
       "      <td>0</td>\n",
       "      <td>1</td>\n",
       "      <td>0</td>\n",
       "      <td>...</td>\n",
       "      <td>0</td>\n",
       "      <td>0</td>\n",
       "      <td>1</td>\n",
       "      <td>0</td>\n",
       "      <td>0</td>\n",
       "      <td>0</td>\n",
       "      <td>1</td>\n",
       "      <td>0</td>\n",
       "      <td>0</td>\n",
       "      <td>0</td>\n",
       "    </tr>\n",
       "  </tbody>\n",
       "</table>\n",
       "<p>223856 rows × 37 columns</p>\n",
       "</div>"
      ],
      "text/plain": [
       "             BMI  PhysicalHealth  MentalHealth  SleepTime  Smoking_Yes   \n",
       "15864  -1.074425             2.5      5.000000       -1.0            0  \\\n",
       "266220  0.645467             0.0      2.000000       -0.5            1   \n",
       "102361  0.263870             3.0     10.000000       -0.5            0   \n",
       "10343  -0.860622             0.0      0.000000        0.0            1   \n",
       "310108  0.366712             0.0      0.000000        0.0            1   \n",
       "...          ...             ...           ...        ...          ...   \n",
       "299741  0.691475            15.0      1.666667        0.5            1   \n",
       "9372   -0.012179            15.0     10.000000       -0.5            1   \n",
       "105595 -0.822733             0.0      0.000000        0.5            1   \n",
       "93553   1.410014             0.0      0.000000       -0.5            0   \n",
       "236669 -0.234100             0.0      0.000000        0.0            1   \n",
       "\n",
       "        AlcoholDrinking_Yes  Stroke_Yes  DiffWalking_Yes  Sex_Male   \n",
       "15864                     0           0                0         0  \\\n",
       "266220                    0           0                0         1   \n",
       "102361                    0           0                0         0   \n",
       "10343                     0           0                0         0   \n",
       "310108                    0           0                0         1   \n",
       "...                     ...         ...              ...       ...   \n",
       "299741                    0           0                1         0   \n",
       "9372                      0           1                1         0   \n",
       "105595                    0           0                0         0   \n",
       "93553                     0           0                1         0   \n",
       "236669                    0           0                0         1   \n",
       "\n",
       "        AgeCategory_25-29  ...  Diabetic_Yes  Diabetic_Yes (during pregnancy)   \n",
       "15864                   0  ...             0                                0  \\\n",
       "266220                  0  ...             0                                0   \n",
       "102361                  0  ...             0                                0   \n",
       "10343                   0  ...             0                                0   \n",
       "310108                  0  ...             0                                0   \n",
       "...                   ...  ...           ...                              ...   \n",
       "299741                  0  ...             0                                0   \n",
       "9372                    0  ...             0                                0   \n",
       "105595                  0  ...             0                                0   \n",
       "93553                   0  ...             0                                0   \n",
       "236669                  0  ...             0                                0   \n",
       "\n",
       "        PhysicalActivity_Yes  GenHealth_Fair  GenHealth_Good  GenHealth_Poor   \n",
       "15864                      0               0               1               0  \\\n",
       "266220                     1               0               1               0   \n",
       "102361                     1               0               1               0   \n",
       "10343                      1               0               0               0   \n",
       "310108                     1               0               0               0   \n",
       "...                      ...             ...             ...             ...   \n",
       "299741                     0               0               0               1   \n",
       "9372                       1               1               0               0   \n",
       "105595                     1               0               1               0   \n",
       "93553                      1               0               0               0   \n",
       "236669                     1               0               0               0   \n",
       "\n",
       "        GenHealth_Very good  Asthma_Yes  KidneyDisease_Yes  SkinCancer_Yes  \n",
       "15864                     0           1                  0               0  \n",
       "266220                    0           0                  0               0  \n",
       "102361                    0           0                  0               0  \n",
       "10343                     0           0                  0               1  \n",
       "310108                    1           0                  0               0  \n",
       "...                     ...         ...                ...             ...  \n",
       "299741                    0           0                  0               0  \n",
       "9372                      0           0                  0               0  \n",
       "105595                    0           0                  0               0  \n",
       "93553                     1           0                  0               1  \n",
       "236669                    1           0                  0               0  \n",
       "\n",
       "[223856 rows x 37 columns]"
      ]
     },
     "execution_count": 26,
     "metadata": {},
     "output_type": "execute_result"
    }
   ],
   "source": [
    "X_train"
   ]
  },
  {
   "cell_type": "markdown",
   "id": "5a2b7825",
   "metadata": {
    "id": "5a2b7825"
   },
   "source": [
    "## 클래스가 불균형한 상태로 바로 모델링을 통해 평가지표를 확인하기!"
   ]
  },
  {
   "cell_type": "code",
   "execution_count": null,
   "id": "cdb57115",
   "metadata": {
    "id": "cdb57115"
   },
   "outputs": [],
   "source": [
    "model = LogisticRegression()"
   ]
  },
  {
   "cell_type": "code",
   "execution_count": null,
   "id": "238ee970",
   "metadata": {
    "id": "238ee970",
    "outputId": "db41b28a-e9a5-4018-f2eb-0c63d6ad6588"
   },
   "outputs": [
    {
     "name": "stderr",
     "output_type": "stream",
     "text": [
      "/opt/anaconda3/envs/bda/lib/python3.8/site-packages/sklearn/utils/validation.py:1183: DataConversionWarning: A column-vector y was passed when a 1d array was expected. Please change the shape of y to (n_samples, ), for example using ravel().\n",
      "  y = column_or_1d(y, warn=True)\n",
      "/opt/anaconda3/envs/bda/lib/python3.8/site-packages/sklearn/linear_model/_logistic.py:460: ConvergenceWarning: lbfgs failed to converge (status=1):\n",
      "STOP: TOTAL NO. of ITERATIONS REACHED LIMIT.\n",
      "\n",
      "Increase the number of iterations (max_iter) or scale the data as shown in:\n",
      "    https://scikit-learn.org/stable/modules/preprocessing.html\n",
      "Please also refer to the documentation for alternative solver options:\n",
      "    https://scikit-learn.org/stable/modules/linear_model.html#logistic-regression\n",
      "  n_iter_i = _check_optimize_result(\n"
     ]
    },
    {
     "data": {
      "text/html": [
       "<style>#sk-container-id-2 {color: black;}#sk-container-id-2 pre{padding: 0;}#sk-container-id-2 div.sk-toggleable {background-color: white;}#sk-container-id-2 label.sk-toggleable__label {cursor: pointer;display: block;width: 100%;margin-bottom: 0;padding: 0.3em;box-sizing: border-box;text-align: center;}#sk-container-id-2 label.sk-toggleable__label-arrow:before {content: \"▸\";float: left;margin-right: 0.25em;color: #696969;}#sk-container-id-2 label.sk-toggleable__label-arrow:hover:before {color: black;}#sk-container-id-2 div.sk-estimator:hover label.sk-toggleable__label-arrow:before {color: black;}#sk-container-id-2 div.sk-toggleable__content {max-height: 0;max-width: 0;overflow: hidden;text-align: left;background-color: #f0f8ff;}#sk-container-id-2 div.sk-toggleable__content pre {margin: 0.2em;color: black;border-radius: 0.25em;background-color: #f0f8ff;}#sk-container-id-2 input.sk-toggleable__control:checked~div.sk-toggleable__content {max-height: 200px;max-width: 100%;overflow: auto;}#sk-container-id-2 input.sk-toggleable__control:checked~label.sk-toggleable__label-arrow:before {content: \"▾\";}#sk-container-id-2 div.sk-estimator input.sk-toggleable__control:checked~label.sk-toggleable__label {background-color: #d4ebff;}#sk-container-id-2 div.sk-label input.sk-toggleable__control:checked~label.sk-toggleable__label {background-color: #d4ebff;}#sk-container-id-2 input.sk-hidden--visually {border: 0;clip: rect(1px 1px 1px 1px);clip: rect(1px, 1px, 1px, 1px);height: 1px;margin: -1px;overflow: hidden;padding: 0;position: absolute;width: 1px;}#sk-container-id-2 div.sk-estimator {font-family: monospace;background-color: #f0f8ff;border: 1px dotted black;border-radius: 0.25em;box-sizing: border-box;margin-bottom: 0.5em;}#sk-container-id-2 div.sk-estimator:hover {background-color: #d4ebff;}#sk-container-id-2 div.sk-parallel-item::after {content: \"\";width: 100%;border-bottom: 1px solid gray;flex-grow: 1;}#sk-container-id-2 div.sk-label:hover label.sk-toggleable__label {background-color: #d4ebff;}#sk-container-id-2 div.sk-serial::before {content: \"\";position: absolute;border-left: 1px solid gray;box-sizing: border-box;top: 0;bottom: 0;left: 50%;z-index: 0;}#sk-container-id-2 div.sk-serial {display: flex;flex-direction: column;align-items: center;background-color: white;padding-right: 0.2em;padding-left: 0.2em;position: relative;}#sk-container-id-2 div.sk-item {position: relative;z-index: 1;}#sk-container-id-2 div.sk-parallel {display: flex;align-items: stretch;justify-content: center;background-color: white;position: relative;}#sk-container-id-2 div.sk-item::before, #sk-container-id-2 div.sk-parallel-item::before {content: \"\";position: absolute;border-left: 1px solid gray;box-sizing: border-box;top: 0;bottom: 0;left: 50%;z-index: -1;}#sk-container-id-2 div.sk-parallel-item {display: flex;flex-direction: column;z-index: 1;position: relative;background-color: white;}#sk-container-id-2 div.sk-parallel-item:first-child::after {align-self: flex-end;width: 50%;}#sk-container-id-2 div.sk-parallel-item:last-child::after {align-self: flex-start;width: 50%;}#sk-container-id-2 div.sk-parallel-item:only-child::after {width: 0;}#sk-container-id-2 div.sk-dashed-wrapped {border: 1px dashed gray;margin: 0 0.4em 0.5em 0.4em;box-sizing: border-box;padding-bottom: 0.4em;background-color: white;}#sk-container-id-2 div.sk-label label {font-family: monospace;font-weight: bold;display: inline-block;line-height: 1.2em;}#sk-container-id-2 div.sk-label-container {text-align: center;}#sk-container-id-2 div.sk-container {/* jupyter's `normalize.less` sets `[hidden] { display: none; }` but bootstrap.min.css set `[hidden] { display: none !important; }` so we also need the `!important` here to be able to override the default hidden behavior on the sphinx rendered scikit-learn.org. See: https://github.com/scikit-learn/scikit-learn/issues/21755 */display: inline-block !important;position: relative;}#sk-container-id-2 div.sk-text-repr-fallback {display: none;}</style><div id=\"sk-container-id-2\" class=\"sk-top-container\"><div class=\"sk-text-repr-fallback\"><pre>LogisticRegression()</pre><b>In a Jupyter environment, please rerun this cell to show the HTML representation or trust the notebook. <br />On GitHub, the HTML representation is unable to render, please try loading this page with nbviewer.org.</b></div><div class=\"sk-container\" hidden><div class=\"sk-item\"><div class=\"sk-estimator sk-toggleable\"><input class=\"sk-toggleable__control sk-hidden--visually\" id=\"sk-estimator-id-2\" type=\"checkbox\" checked><label for=\"sk-estimator-id-2\" class=\"sk-toggleable__label sk-toggleable__label-arrow\">LogisticRegression</label><div class=\"sk-toggleable__content\"><pre>LogisticRegression()</pre></div></div></div></div></div>"
      ],
      "text/plain": [
       "LogisticRegression()"
      ]
     },
     "execution_count": 30,
     "metadata": {},
     "output_type": "execute_result"
    }
   ],
   "source": [
    "model.fit(X_train, y_train)"
   ]
  },
  {
   "cell_type": "code",
   "execution_count": null,
   "id": "84c28e98",
   "metadata": {
    "id": "84c28e98"
   },
   "outputs": [],
   "source": [
    "#실제 예측값 추출\n",
    "y_pred = model.predict(X_test)"
   ]
  },
  {
   "cell_type": "code",
   "execution_count": null,
   "id": "7596e4db",
   "metadata": {
    "id": "7596e4db",
    "outputId": "c55a8f4d-4ad6-49c8-c798-e57f845e9843"
   },
   "outputs": [
    {
     "data": {
      "text/plain": [
       "array([0, 0, 0, ..., 0, 0, 0])"
      ]
     },
     "execution_count": 32,
     "metadata": {},
     "output_type": "execute_result"
    }
   ],
   "source": [
    "y_pred"
   ]
  },
  {
   "cell_type": "markdown",
   "id": "098000f5",
   "metadata": {
    "id": "098000f5"
   },
   "source": [
    "### Confusion Matrix 확인"
   ]
  },
  {
   "cell_type": "code",
   "execution_count": null,
   "id": "3343f357",
   "metadata": {
    "id": "3343f357"
   },
   "outputs": [],
   "source": [
    "cm =confusion_matrix(y_test, y_pred)"
   ]
  },
  {
   "cell_type": "code",
   "execution_count": null,
   "id": "a8f7ae57",
   "metadata": {
    "id": "a8f7ae57",
    "outputId": "eeae9c1d-9dab-4d85-bd76-15a886cef007"
   },
   "outputs": [
    {
     "data": {
      "text/plain": [
       "array([[87000,   727],\n",
       "       [ 7352,   860]])"
      ]
     },
     "execution_count": 34,
     "metadata": {},
     "output_type": "execute_result"
    }
   ],
   "source": [
    "cm"
   ]
  },
  {
   "cell_type": "code",
   "execution_count": null,
   "id": "7186ed66",
   "metadata": {
    "id": "7186ed66"
   },
   "outputs": [],
   "source": [
    "# 혼동행렬을 데이터프레임 변환해서 살펴보기\n",
    "\n",
    "cm_df =pd.DataFrame(data=cm,\n",
    "            index =[f'True Class-{i}' for i in range(cm.shape[0])],\n",
    "            columns = [f'Predicted Calss-{i}' for i in range(cm.shape[0])])\n"
   ]
  },
  {
   "cell_type": "code",
   "execution_count": null,
   "id": "9a4d52a0",
   "metadata": {
    "id": "9a4d52a0",
    "outputId": "395b67dd-9283-4aa1-9771-0e621daf3561"
   },
   "outputs": [
    {
     "data": {
      "text/html": [
       "<div>\n",
       "<style scoped>\n",
       "    .dataframe tbody tr th:only-of-type {\n",
       "        vertical-align: middle;\n",
       "    }\n",
       "\n",
       "    .dataframe tbody tr th {\n",
       "        vertical-align: top;\n",
       "    }\n",
       "\n",
       "    .dataframe thead th {\n",
       "        text-align: right;\n",
       "    }\n",
       "</style>\n",
       "<table border=\"1\" class=\"dataframe\">\n",
       "  <thead>\n",
       "    <tr style=\"text-align: right;\">\n",
       "      <th></th>\n",
       "      <th>Predicted Calss-0</th>\n",
       "      <th>Predicted Calss-1</th>\n",
       "    </tr>\n",
       "  </thead>\n",
       "  <tbody>\n",
       "    <tr>\n",
       "      <th>True Class-0</th>\n",
       "      <td>87000</td>\n",
       "      <td>727</td>\n",
       "    </tr>\n",
       "    <tr>\n",
       "      <th>True Class-1</th>\n",
       "      <td>7352</td>\n",
       "      <td>860</td>\n",
       "    </tr>\n",
       "  </tbody>\n",
       "</table>\n",
       "</div>"
      ],
      "text/plain": [
       "              Predicted Calss-0  Predicted Calss-1\n",
       "True Class-0              87000                727\n",
       "True Class-1               7352                860"
      ]
     },
     "execution_count": 37,
     "metadata": {},
     "output_type": "execute_result"
    }
   ],
   "source": [
    "cm_df"
   ]
  },
  {
   "cell_type": "code",
   "execution_count": null,
   "id": "28800c71",
   "metadata": {
    "id": "28800c71",
    "outputId": "b2aa5ef4-c261-45e8-c4af-0edf799af8be"
   },
   "outputs": [
    {
     "data": {
      "text/plain": [
       "<sklearn.metrics._plot.confusion_matrix.ConfusionMatrixDisplay at 0x7fd54f195be0>"
      ]
     },
     "execution_count": 38,
     "metadata": {},
     "output_type": "execute_result"
    },
    {
     "data": {
      "image/png": "[encoded data removed]",
      "text/plain": [
       "<Figure size 640x480 with 2 Axes>"
      ]
     },
     "metadata": {},
     "output_type": "display_data"
    }
   ],
   "source": [
    "#시각적으로 살펴보기\n",
    "ConfusionMatrixDisplay.from_estimator(model, X_test, y_test)"
   ]
  },
  {
   "cell_type": "code",
   "execution_count": null,
   "id": "8b63175d",
   "metadata": {
    "id": "8b63175d",
    "outputId": "fc8b1838-170d-4e90-95fb-817cde681314"
   },
   "outputs": [
    {
     "name": "stdout",
     "output_type": "stream",
     "text": [
      "0.9157902417160905 정확도\n",
      "0.5419029615626969 정밀도\n",
      "0.10472479298587432 민감도\n",
      "0.1755281151137871 f1스코어\n"
     ]
    }
   ],
   "source": [
    "#정확도\n",
    "ac = model.score(X_test, y_test)\n",
    "print(ac,'정확도')\n",
    "#정밀도\n",
    "ps = precision_score(y_test, y_pred)\n",
    "print(ps,'정밀도')\n",
    "\n",
    "#민감도\n",
    "rs = recall_score(y_test, y_pred)\n",
    "print(rs,'민감도')\n",
    "#f1스코어\n",
    "f1=f1_score(y_test, y_pred)\n",
    "print(f1,'f1스코어')"
   ]
  },
  {
   "cell_type": "markdown",
   "id": "e61b96bb",
   "metadata": {
    "id": "e61b96bb"
   },
   "source": [
    "## 필수과제 1\n",
    "- PDF 정리된 내용을 본인의 언어로 정리해서 PDF파일로 올리기\n",
    "- TP, TN FP, FN 개념 설명되어 있는데, 해당 값을 실제값으로 넣어서 공식을 수기로 계산 10 30 58 21 => 간단하게 수치를 넣어 계산하고\n",
    "- 개념에 대해서 정리하기!\n",
    "\n",
    "\n",
    "## 필수과제 2\n",
    "- 클래스가 불균형인 경우\n",
    "- 0.9157902417160905 정확도\n",
    "- 0.5419029615626969 정밀도\n",
    "- 0.10472479298587432 민감도\n",
    "- 0.1755281151137871 f1스코어\n",
    "\n",
    "### 클래스를 균형으로 맞추고( 언더 샘플링 진행 등 )\n",
    "- 실제 정확도, 정밀도, 민감도, f1스코어 개선되었는지 확인"
   ]
  },
  {
   "cell_type": "code",
   "execution_count": null,
   "id": "2d386817",
   "metadata": {
    "id": "2d386817"
   },
   "outputs": [],
   "source": []
  }
 ],
 "metadata": {
  "colab": {
   "provenance": []
  },
  "kernelspec": {
   "display_name": "Python 3 (ipykernel)",
   "language": "python",
   "name": "python3"
  },
  "language_info": {
   "codemirror_mode": {
    "name": "ipython",
    "version": 3
   },
   "file_extension": ".py",
   "mimetype": "text/x-python",
   "name": "python",
   "nbconvert_exporter": "python",
   "pygments_lexer": "ipython3",
   "version": "3.12.2"
  }
 },
 "nbformat": 4,
 "nbformat_minor": 5
}
