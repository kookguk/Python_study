{
 "cells": [
  {
   "cell_type": "markdown",
   "id": "5cd8d44b",
   "metadata": {},
   "source": [
    "# 데이터\n",
    "- 변수의 개념으로 바라보면 여러가지 정의된 것들이 있다.\n",
    "\n",
    "<변수>\n",
    "- 양적변수 : 양을 표현하는 것, 학교 시험 점수나, 우리 키, 몸무게\n",
    "- 질적변수 : 안경을 쓴 유무, 서베이의 만족도 조사 점수\n",
    "\n",
    "변수를 가지고 척도를 생각해 보자!\n",
    "\n",
    "<양적변수>\n",
    "- 간격척도 : 온도 ( 30도와 60도가 정말 2배의 차이인 것이냐? 절대 영점의 유무 )\n",
    "- 비례척도 : 길이 ( 2배 차이가 많다. 5cm 10cm는 2배의 차이 )\n",
    "\n",
    "<질적변수>\n",
    "- 명의척도 : 성별, 학생번호, 전화번호, 주민번호\n",
    "- 순서척도 : 시험 점수 등수 ( 반별 등수 )\n",
    "\n",
    "<이산형, 연속형>\n",
    "- 이산형 : 0,1 이진분류, 만족도 점수 같은, 여러가지 값이 있지만 -> 서로 인접한 숫자 사이의 값이 존재하지 않는다.0, 1 두 개만 존재하지 1.5 x 없다.\n",
    "- 연속형 : 연속적인 값 0,1 기준으로 보면 무한대 0.001 ,0.0002 중간에 값이 다 존재 연속적인 값 무게 등 대표적\n",
    "\n",
    "### 이산형, 연속형을 가지고 바라보는 ML, 통계적인 분석들이 다를 것\n",
    "\n",
    "머신러닝 - 회귀, 분류\n",
    "통계분석 - 가설검정, 정규성, 순서관련한 다양한 통계적 분석, 검정들\n",
    "\n",
    "### 변수에 따라서 -> 척도에 따라서 -> 이산형, 연속형에 따라서 접근을 다르게 해야 한다!\n",
    "\n",
    "- 기초통계\n",
    "- 평균\n",
    "- 중앙값\n",
    "- 최빈값\n",
    "- 편차\n",
    "- 분산\n",
    "- 표준편차\n",
    "- 범위 : IQR의 개념"
   ]
  },
  {
   "cell_type": "code",
   "execution_count": 1,
   "id": "0572a7ca",
   "metadata": {},
   "outputs": [],
   "source": [
    "import pandas as pd\n",
    "import numpy as np"
   ]
  },
  {
   "cell_type": "code",
   "execution_count": 7,
   "id": "b886a5c7",
   "metadata": {},
   "outputs": [],
   "source": [
    "df = pd.read_excel('kbo 순위.xlsx')"
   ]
  },
  {
   "cell_type": "code",
   "execution_count": 8,
   "id": "f368c522",
   "metadata": {},
   "outputs": [
    {
     "data": {
      "text/html": [
       "<div>\n",
       "<style scoped>\n",
       "    .dataframe tbody tr th:only-of-type {\n",
       "        vertical-align: middle;\n",
       "    }\n",
       "\n",
       "    .dataframe tbody tr th {\n",
       "        vertical-align: top;\n",
       "    }\n",
       "\n",
       "    .dataframe thead th {\n",
       "        text-align: right;\n",
       "    }\n",
       "</style>\n",
       "<table border=\"1\" class=\"dataframe\">\n",
       "  <thead>\n",
       "    <tr style=\"text-align: right;\">\n",
       "      <th></th>\n",
       "      <th>순위</th>\n",
       "      <th>팀</th>\n",
       "      <th>경기수</th>\n",
       "      <th>승</th>\n",
       "      <th>패</th>\n",
       "      <th>무</th>\n",
       "      <th>승률</th>\n",
       "    </tr>\n",
       "  </thead>\n",
       "  <tbody>\n",
       "    <tr>\n",
       "      <th>0</th>\n",
       "      <td>1</td>\n",
       "      <td>LG</td>\n",
       "      <td>119</td>\n",
       "      <td>70</td>\n",
       "      <td>47</td>\n",
       "      <td>2</td>\n",
       "      <td>0.598</td>\n",
       "    </tr>\n",
       "    <tr>\n",
       "      <th>1</th>\n",
       "      <td>2</td>\n",
       "      <td>KT</td>\n",
       "      <td>122</td>\n",
       "      <td>66</td>\n",
       "      <td>53</td>\n",
       "      <td>3</td>\n",
       "      <td>0.555</td>\n",
       "    </tr>\n",
       "    <tr>\n",
       "      <th>2</th>\n",
       "      <td>3</td>\n",
       "      <td>NC</td>\n",
       "      <td>117</td>\n",
       "      <td>63</td>\n",
       "      <td>52</td>\n",
       "      <td>2</td>\n",
       "      <td>0.548</td>\n",
       "    </tr>\n",
       "    <tr>\n",
       "      <th>3</th>\n",
       "      <td>4</td>\n",
       "      <td>KIA</td>\n",
       "      <td>114</td>\n",
       "      <td>60</td>\n",
       "      <td>52</td>\n",
       "      <td>2</td>\n",
       "      <td>0.536</td>\n",
       "    </tr>\n",
       "    <tr>\n",
       "      <th>4</th>\n",
       "      <td>5</td>\n",
       "      <td>SSG</td>\n",
       "      <td>119</td>\n",
       "      <td>62</td>\n",
       "      <td>55</td>\n",
       "      <td>2</td>\n",
       "      <td>0.530</td>\n",
       "    </tr>\n",
       "    <tr>\n",
       "      <th>5</th>\n",
       "      <td>6</td>\n",
       "      <td>두산</td>\n",
       "      <td>117</td>\n",
       "      <td>59</td>\n",
       "      <td>57</td>\n",
       "      <td>1</td>\n",
       "      <td>0.509</td>\n",
       "    </tr>\n",
       "    <tr>\n",
       "      <th>6</th>\n",
       "      <td>7</td>\n",
       "      <td>롯데</td>\n",
       "      <td>118</td>\n",
       "      <td>55</td>\n",
       "      <td>63</td>\n",
       "      <td>0</td>\n",
       "      <td>0.466</td>\n",
       "    </tr>\n",
       "    <tr>\n",
       "      <th>7</th>\n",
       "      <td>8</td>\n",
       "      <td>한화</td>\n",
       "      <td>118</td>\n",
       "      <td>50</td>\n",
       "      <td>62</td>\n",
       "      <td>6</td>\n",
       "      <td>0.446</td>\n",
       "    </tr>\n",
       "    <tr>\n",
       "      <th>8</th>\n",
       "      <td>9</td>\n",
       "      <td>삼성</td>\n",
       "      <td>121</td>\n",
       "      <td>51</td>\n",
       "      <td>69</td>\n",
       "      <td>1</td>\n",
       "      <td>0.425</td>\n",
       "    </tr>\n",
       "    <tr>\n",
       "      <th>9</th>\n",
       "      <td>10</td>\n",
       "      <td>키움</td>\n",
       "      <td>131</td>\n",
       "      <td>51</td>\n",
       "      <td>77</td>\n",
       "      <td>3</td>\n",
       "      <td>0.398</td>\n",
       "    </tr>\n",
       "  </tbody>\n",
       "</table>\n",
       "</div>"
      ],
      "text/plain": [
       "   순위    팀  경기수   승   패  무     승률\n",
       "0   1   LG  119  70  47  2  0.598\n",
       "1   2   KT  122  66  53  3  0.555\n",
       "2   3   NC  117  63  52  2  0.548\n",
       "3   4  KIA  114  60  52  2  0.536\n",
       "4   5  SSG  119  62  55  2  0.530\n",
       "5   6   두산  117  59  57  1  0.509\n",
       "6   7   롯데  118  55  63  0  0.466\n",
       "7   8   한화  118  50  62  6  0.446\n",
       "8   9   삼성  121  51  69  1  0.425\n",
       "9  10   키움  131  51  77  3  0.398"
      ]
     },
     "execution_count": 8,
     "metadata": {},
     "output_type": "execute_result"
    }
   ],
   "source": [
    "df"
   ]
  },
  {
   "cell_type": "code",
   "execution_count": 9,
   "id": "c6b6b25f",
   "metadata": {},
   "outputs": [
    {
     "data": {
      "text/plain": [
       "10"
      ]
     },
     "execution_count": 9,
     "metadata": {},
     "output_type": "execute_result"
    }
   ],
   "source": [
    "len(df)"
   ]
  },
  {
   "cell_type": "code",
   "execution_count": 10,
   "id": "8365a271",
   "metadata": {},
   "outputs": [
    {
     "data": {
      "text/plain": [
       "119.6"
      ]
     },
     "execution_count": 10,
     "metadata": {},
     "output_type": "execute_result"
    }
   ],
   "source": [
    "sum((df['경기수']))/len(df) #평균"
   ]
  },
  {
   "cell_type": "code",
   "execution_count": 12,
   "id": "f56329a5",
   "metadata": {},
   "outputs": [],
   "source": [
    "df_match=np.sort(np.array(df['경기수'])) #sort 함수 이용해서 오름차순 배열 #numpy 배열"
   ]
  },
  {
   "cell_type": "code",
   "execution_count": 13,
   "id": "ec8f7e20",
   "metadata": {},
   "outputs": [
    {
     "data": {
      "text/plain": [
       "array([114, 117, 117, 118, 118, 119, 119, 121, 122, 131], dtype=int64)"
      ]
     },
     "execution_count": 13,
     "metadata": {},
     "output_type": "execute_result"
    }
   ],
   "source": [
    "df_match"
   ]
  },
  {
   "cell_type": "code",
   "execution_count": 14,
   "id": "18f0db3c",
   "metadata": {},
   "outputs": [
    {
     "data": {
      "text/plain": [
       "118.5"
      ]
     },
     "execution_count": 14,
     "metadata": {},
     "output_type": "execute_result"
    }
   ],
   "source": [
    "np.median(df_match) #중앙값"
   ]
  },
  {
   "cell_type": "code",
   "execution_count": 15,
   "id": "36309c7f",
   "metadata": {},
   "outputs": [
    {
     "data": {
      "text/plain": [
       "0    117\n",
       "1    118\n",
       "2    119\n",
       "dtype: int64"
      ]
     },
     "execution_count": 15,
     "metadata": {},
     "output_type": "execute_result"
    }
   ],
   "source": [
    "pd.Series(df_match).mode() #최빈값\n",
    "# mode 함수는 판다스 시리즈에서만 사용 가능\n",
    "# mode를 사용 "
   ]
  },
  {
   "cell_type": "code",
   "execution_count": 16,
   "id": "e9b8817d",
   "metadata": {},
   "outputs": [],
   "source": [
    "df_1=df.query('승률>=0.500')\n",
    "df_2=df.query('승률<0.500')"
   ]
  },
  {
   "cell_type": "code",
   "execution_count": 19,
   "id": "09066684",
   "metadata": {},
   "outputs": [],
   "source": [
    "df_1_m=np.mean(df_1['승률'])\n",
    "df_2_m=np.mean(df_2['승률'])"
   ]
  },
  {
   "cell_type": "code",
   "execution_count": 20,
   "id": "04e9abaf",
   "metadata": {},
   "outputs": [
    {
     "data": {
      "text/plain": [
       "0.546"
      ]
     },
     "execution_count": 20,
     "metadata": {},
     "output_type": "execute_result"
    }
   ],
   "source": [
    "df_1_m"
   ]
  },
  {
   "cell_type": "code",
   "execution_count": 21,
   "id": "430f9c7f",
   "metadata": {},
   "outputs": [
    {
     "data": {
      "text/plain": [
       "0.43374999999999997"
      ]
     },
     "execution_count": 21,
     "metadata": {},
     "output_type": "execute_result"
    }
   ],
   "source": [
    "df_2_m"
   ]
  },
  {
   "cell_type": "code",
   "execution_count": 24,
   "id": "f4f85a53",
   "metadata": {},
   "outputs": [
    {
     "name": "stderr",
     "output_type": "stream",
     "text": [
      "C:\\Users\\rnrwnsgh\\AppData\\Local\\Temp\\ipykernel_604\\10161751.py:1: SettingWithCopyWarning: \n",
      "A value is trying to be set on a copy of a slice from a DataFrame.\n",
      "Try using .loc[row_indexer,col_indexer] = value instead\n",
      "\n",
      "See the caveats in the documentation: https://pandas.pydata.org/pandas-docs/stable/user_guide/indexing.html#returning-a-view-versus-a-copy\n",
      "  df_1['승률편차']=df_1['승률'] - df_1_m\n",
      "C:\\Users\\rnrwnsgh\\AppData\\Local\\Temp\\ipykernel_604\\10161751.py:2: SettingWithCopyWarning: \n",
      "A value is trying to be set on a copy of a slice from a DataFrame.\n",
      "Try using .loc[row_indexer,col_indexer] = value instead\n",
      "\n",
      "See the caveats in the documentation: https://pandas.pydata.org/pandas-docs/stable/user_guide/indexing.html#returning-a-view-versus-a-copy\n",
      "  df_2['승률편차']=df_2['승률'] - df_2_m\n"
     ]
    }
   ],
   "source": [
    "df_1['승률편차']=df_1['승률'] - df_1_m\n",
    "df_2['승률편차']=df_2['승률'] - df_2_m"
   ]
  },
  {
   "cell_type": "code",
   "execution_count": 25,
   "id": "fce65584",
   "metadata": {},
   "outputs": [
    {
     "data": {
      "text/plain": [
       "0    0.052\n",
       "1    0.009\n",
       "2    0.002\n",
       "3   -0.010\n",
       "4   -0.016\n",
       "5   -0.037\n",
       "Name: 승률편차, dtype: float64"
      ]
     },
     "execution_count": 25,
     "metadata": {},
     "output_type": "execute_result"
    }
   ],
   "source": [
    "df_1['승률편차'] #편차"
   ]
  },
  {
   "cell_type": "code",
   "execution_count": 26,
   "id": "678fffa1",
   "metadata": {},
   "outputs": [
    {
     "data": {
      "text/plain": [
       "6    0.03225\n",
       "7    0.01225\n",
       "8   -0.00875\n",
       "9   -0.03575\n",
       "Name: 승률편차, dtype: float64"
      ]
     },
     "execution_count": 26,
     "metadata": {},
     "output_type": "execute_result"
    }
   ],
   "source": [
    "df_2['승률편차'] #편차"
   ]
  },
  {
   "cell_type": "code",
   "execution_count": 27,
   "id": "82a47e12",
   "metadata": {},
   "outputs": [
    {
     "data": {
      "text/plain": [
       "0.0007523333333333328"
      ]
     },
     "execution_count": 27,
     "metadata": {},
     "output_type": "execute_result"
    }
   ],
   "source": [
    "np.mean(df_1.승률편차**2) #분산"
   ]
  },
  {
   "cell_type": "code",
   "execution_count": 28,
   "id": "79be610a",
   "metadata": {},
   "outputs": [
    {
     "data": {
      "text/plain": [
       "0.0007523333333333328"
      ]
     },
     "execution_count": 28,
     "metadata": {},
     "output_type": "execute_result"
    }
   ],
   "source": [
    "np.var(df_1['승률']) #분산"
   ]
  },
  {
   "cell_type": "markdown",
   "id": "1dd385db",
   "metadata": {},
   "source": [
    "# 표준편차\n",
    "- 분산에 제곱근 취한 표준편차\n",
    "\n",
    "## 범위\n",
    "\n",
    "<사분위 범위수>\n",
    "\n",
    "- 데이터의 하위 25% , 50% 75% 범위를 나누는 것\n",
    "- Q1, Q2, Q3 제1사분위수 , 제2사분위수 , 제3사분위수\n",
    "- IQR : Q3- Q1 뺀 범위수를 IQR"
   ]
  },
  {
   "cell_type": "code",
   "execution_count": 37,
   "id": "c8cb30ee",
   "metadata": {},
   "outputs": [
    {
     "data": {
      "text/plain": [
       "0.5315000000000001"
      ]
     },
     "execution_count": 37,
     "metadata": {},
     "output_type": "execute_result"
    }
   ],
   "source": [
    "np.percentile(df_1['승률'],25)"
   ]
  },
  {
   "cell_type": "code",
   "execution_count": 38,
   "id": "74ffc88c",
   "metadata": {},
   "outputs": [
    {
     "data": {
      "text/plain": [
       "0.542"
      ]
     },
     "execution_count": 38,
     "metadata": {},
     "output_type": "execute_result"
    }
   ],
   "source": [
    "np.percentile(df_1['승률'],50)"
   ]
  },
  {
   "cell_type": "code",
   "execution_count": 39,
   "id": "d83882a0",
   "metadata": {},
   "outputs": [
    {
     "data": {
      "text/plain": [
       "0.55325"
      ]
     },
     "execution_count": 39,
     "metadata": {},
     "output_type": "execute_result"
    }
   ],
   "source": [
    "np.percentile(df_1['승률'],75)"
   ]
  },
  {
   "cell_type": "code",
   "execution_count": 40,
   "id": "0f0771f4",
   "metadata": {},
   "outputs": [
    {
     "data": {
      "text/html": [
       "<div>\n",
       "<style scoped>\n",
       "    .dataframe tbody tr th:only-of-type {\n",
       "        vertical-align: middle;\n",
       "    }\n",
       "\n",
       "    .dataframe tbody tr th {\n",
       "        vertical-align: top;\n",
       "    }\n",
       "\n",
       "    .dataframe thead th {\n",
       "        text-align: right;\n",
       "    }\n",
       "</style>\n",
       "<table border=\"1\" class=\"dataframe\">\n",
       "  <thead>\n",
       "    <tr style=\"text-align: right;\">\n",
       "      <th></th>\n",
       "      <th>순위</th>\n",
       "      <th>경기수</th>\n",
       "      <th>승</th>\n",
       "      <th>패</th>\n",
       "      <th>무</th>\n",
       "      <th>승률</th>\n",
       "      <th>승률편차</th>\n",
       "    </tr>\n",
       "  </thead>\n",
       "  <tbody>\n",
       "    <tr>\n",
       "      <th>count</th>\n",
       "      <td>6.000000</td>\n",
       "      <td>6.000000</td>\n",
       "      <td>6.000000</td>\n",
       "      <td>6.000000</td>\n",
       "      <td>6.000000</td>\n",
       "      <td>6.000000</td>\n",
       "      <td>6.000000e+00</td>\n",
       "    </tr>\n",
       "    <tr>\n",
       "      <th>mean</th>\n",
       "      <td>3.500000</td>\n",
       "      <td>118.000000</td>\n",
       "      <td>63.333333</td>\n",
       "      <td>52.666667</td>\n",
       "      <td>2.000000</td>\n",
       "      <td>0.546000</td>\n",
       "      <td>-1.850372e-17</td>\n",
       "    </tr>\n",
       "    <tr>\n",
       "      <th>std</th>\n",
       "      <td>1.870829</td>\n",
       "      <td>2.683282</td>\n",
       "      <td>4.082483</td>\n",
       "      <td>3.386247</td>\n",
       "      <td>0.632456</td>\n",
       "      <td>0.030047</td>\n",
       "      <td>3.004663e-02</td>\n",
       "    </tr>\n",
       "    <tr>\n",
       "      <th>min</th>\n",
       "      <td>1.000000</td>\n",
       "      <td>114.000000</td>\n",
       "      <td>59.000000</td>\n",
       "      <td>47.000000</td>\n",
       "      <td>1.000000</td>\n",
       "      <td>0.509000</td>\n",
       "      <td>-3.700000e-02</td>\n",
       "    </tr>\n",
       "    <tr>\n",
       "      <th>25%</th>\n",
       "      <td>2.250000</td>\n",
       "      <td>117.000000</td>\n",
       "      <td>60.500000</td>\n",
       "      <td>52.000000</td>\n",
       "      <td>2.000000</td>\n",
       "      <td>0.531500</td>\n",
       "      <td>-1.450000e-02</td>\n",
       "    </tr>\n",
       "    <tr>\n",
       "      <th>50%</th>\n",
       "      <td>3.500000</td>\n",
       "      <td>118.000000</td>\n",
       "      <td>62.500000</td>\n",
       "      <td>52.500000</td>\n",
       "      <td>2.000000</td>\n",
       "      <td>0.542000</td>\n",
       "      <td>-4.000000e-03</td>\n",
       "    </tr>\n",
       "    <tr>\n",
       "      <th>75%</th>\n",
       "      <td>4.750000</td>\n",
       "      <td>119.000000</td>\n",
       "      <td>65.250000</td>\n",
       "      <td>54.500000</td>\n",
       "      <td>2.000000</td>\n",
       "      <td>0.553250</td>\n",
       "      <td>7.250000e-03</td>\n",
       "    </tr>\n",
       "    <tr>\n",
       "      <th>max</th>\n",
       "      <td>6.000000</td>\n",
       "      <td>122.000000</td>\n",
       "      <td>70.000000</td>\n",
       "      <td>57.000000</td>\n",
       "      <td>3.000000</td>\n",
       "      <td>0.598000</td>\n",
       "      <td>5.200000e-02</td>\n",
       "    </tr>\n",
       "  </tbody>\n",
       "</table>\n",
       "</div>"
      ],
      "text/plain": [
       "             순위         경기수          승          패         무        승률  \\\n",
       "count  6.000000    6.000000   6.000000   6.000000  6.000000  6.000000   \n",
       "mean   3.500000  118.000000  63.333333  52.666667  2.000000  0.546000   \n",
       "std    1.870829    2.683282   4.082483   3.386247  0.632456  0.030047   \n",
       "min    1.000000  114.000000  59.000000  47.000000  1.000000  0.509000   \n",
       "25%    2.250000  117.000000  60.500000  52.000000  2.000000  0.531500   \n",
       "50%    3.500000  118.000000  62.500000  52.500000  2.000000  0.542000   \n",
       "75%    4.750000  119.000000  65.250000  54.500000  2.000000  0.553250   \n",
       "max    6.000000  122.000000  70.000000  57.000000  3.000000  0.598000   \n",
       "\n",
       "               승률편차  \n",
       "count  6.000000e+00  \n",
       "mean  -1.850372e-17  \n",
       "std    3.004663e-02  \n",
       "min   -3.700000e-02  \n",
       "25%   -1.450000e-02  \n",
       "50%   -4.000000e-03  \n",
       "75%    7.250000e-03  \n",
       "max    5.200000e-02  "
      ]
     },
     "execution_count": 40,
     "metadata": {},
     "output_type": "execute_result"
    }
   ],
   "source": [
    "df_1.describe()"
   ]
  },
  {
   "cell_type": "markdown",
   "id": "0eb1345d",
   "metadata": {},
   "source": [
    "- describe 함수가 있다고 해서 위의 지표들이 나오는 과정을 몰라서는 안된다.\n",
    "- 데이터를 보고 이해할 때 그 뒤에 배경들을 꼭 잘 알고 있어야 한다."
   ]
  },
  {
   "cell_type": "markdown",
   "id": "dcedccf7",
   "metadata": {},
   "source": [
    "# 정규화\n",
    "- 통일된 지표를 만들려고 한다.\n",
    "- 비교를 하기 위해서 값을 어떤 통일된 범위로 만들어서 비교하려고 하는 것\n",
    "- z-score 정규화"
   ]
  },
  {
   "cell_type": "code",
   "execution_count": 41,
   "id": "468d2ee1",
   "metadata": {},
   "outputs": [
    {
     "name": "stderr",
     "output_type": "stream",
     "text": [
      "C:\\Users\\rnrwnsgh\\anaconda3\\lib\\site-packages\\seaborn\\distributions.py:2619: FutureWarning: `distplot` is a deprecated function and will be removed in a future version. Please adapt your code to use either `displot` (a figure-level function with similar flexibility) or `histplot` (an axes-level function for histograms).\n",
      "  warnings.warn(msg, FutureWarning)\n"
     ]
    },
    {
     "data": {
      "text/plain": [
       "<AxesSubplot:xlabel='경기수', ylabel='Density'>"
      ]
     },
     "execution_count": 41,
     "metadata": {},
     "output_type": "execute_result"
    },
    {
     "name": "stderr",
     "output_type": "stream",
     "text": [
      "C:\\Users\\rnrwnsgh\\anaconda3\\lib\\site-packages\\IPython\\core\\pylabtools.py:151: UserWarning: Glyph 44221 (\\N{HANGUL SYLLABLE GYEONG}) missing from current font.\n",
      "  fig.canvas.print_figure(bytes_io, **kw)\n",
      "C:\\Users\\rnrwnsgh\\anaconda3\\lib\\site-packages\\IPython\\core\\pylabtools.py:151: UserWarning: Glyph 44592 (\\N{HANGUL SYLLABLE GI}) missing from current font.\n",
      "  fig.canvas.print_figure(bytes_io, **kw)\n",
      "C:\\Users\\rnrwnsgh\\anaconda3\\lib\\site-packages\\IPython\\core\\pylabtools.py:151: UserWarning: Glyph 49688 (\\N{HANGUL SYLLABLE SU}) missing from current font.\n",
      "  fig.canvas.print_figure(bytes_io, **kw)\n"
     ]
    },
    {
     "data": {
      "image/png": "[encoded data removed]",
      "text/plain": [
       "<Figure size 640x480 with 1 Axes>"
      ]
     },
     "metadata": {},
     "output_type": "display_data"
    }
   ],
   "source": [
    "import seaborn as sns\n",
    "\n",
    "sns.distplot(df['경기수'])  #seaborn을 임포트하면 히스토그램 함수 불러올 수 있다."
   ]
  },
  {
   "cell_type": "code",
   "execution_count": 42,
   "id": "b01b21ad",
   "metadata": {},
   "outputs": [],
   "source": [
    "tip=sns.load_dataset('tips')"
   ]
  },
  {
   "cell_type": "code",
   "execution_count": 43,
   "id": "7f666814",
   "metadata": {},
   "outputs": [
    {
     "data": {
      "text/html": [
       "<div>\n",
       "<style scoped>\n",
       "    .dataframe tbody tr th:only-of-type {\n",
       "        vertical-align: middle;\n",
       "    }\n",
       "\n",
       "    .dataframe tbody tr th {\n",
       "        vertical-align: top;\n",
       "    }\n",
       "\n",
       "    .dataframe thead th {\n",
       "        text-align: right;\n",
       "    }\n",
       "</style>\n",
       "<table border=\"1\" class=\"dataframe\">\n",
       "  <thead>\n",
       "    <tr style=\"text-align: right;\">\n",
       "      <th></th>\n",
       "      <th>total_bill</th>\n",
       "      <th>tip</th>\n",
       "      <th>sex</th>\n",
       "      <th>smoker</th>\n",
       "      <th>day</th>\n",
       "      <th>time</th>\n",
       "      <th>size</th>\n",
       "    </tr>\n",
       "  </thead>\n",
       "  <tbody>\n",
       "    <tr>\n",
       "      <th>0</th>\n",
       "      <td>16.99</td>\n",
       "      <td>1.01</td>\n",
       "      <td>Female</td>\n",
       "      <td>No</td>\n",
       "      <td>Sun</td>\n",
       "      <td>Dinner</td>\n",
       "      <td>2</td>\n",
       "    </tr>\n",
       "    <tr>\n",
       "      <th>1</th>\n",
       "      <td>10.34</td>\n",
       "      <td>1.66</td>\n",
       "      <td>Male</td>\n",
       "      <td>No</td>\n",
       "      <td>Sun</td>\n",
       "      <td>Dinner</td>\n",
       "      <td>3</td>\n",
       "    </tr>\n",
       "    <tr>\n",
       "      <th>2</th>\n",
       "      <td>21.01</td>\n",
       "      <td>3.50</td>\n",
       "      <td>Male</td>\n",
       "      <td>No</td>\n",
       "      <td>Sun</td>\n",
       "      <td>Dinner</td>\n",
       "      <td>3</td>\n",
       "    </tr>\n",
       "    <tr>\n",
       "      <th>3</th>\n",
       "      <td>23.68</td>\n",
       "      <td>3.31</td>\n",
       "      <td>Male</td>\n",
       "      <td>No</td>\n",
       "      <td>Sun</td>\n",
       "      <td>Dinner</td>\n",
       "      <td>2</td>\n",
       "    </tr>\n",
       "    <tr>\n",
       "      <th>4</th>\n",
       "      <td>24.59</td>\n",
       "      <td>3.61</td>\n",
       "      <td>Female</td>\n",
       "      <td>No</td>\n",
       "      <td>Sun</td>\n",
       "      <td>Dinner</td>\n",
       "      <td>4</td>\n",
       "    </tr>\n",
       "    <tr>\n",
       "      <th>...</th>\n",
       "      <td>...</td>\n",
       "      <td>...</td>\n",
       "      <td>...</td>\n",
       "      <td>...</td>\n",
       "      <td>...</td>\n",
       "      <td>...</td>\n",
       "      <td>...</td>\n",
       "    </tr>\n",
       "    <tr>\n",
       "      <th>239</th>\n",
       "      <td>29.03</td>\n",
       "      <td>5.92</td>\n",
       "      <td>Male</td>\n",
       "      <td>No</td>\n",
       "      <td>Sat</td>\n",
       "      <td>Dinner</td>\n",
       "      <td>3</td>\n",
       "    </tr>\n",
       "    <tr>\n",
       "      <th>240</th>\n",
       "      <td>27.18</td>\n",
       "      <td>2.00</td>\n",
       "      <td>Female</td>\n",
       "      <td>Yes</td>\n",
       "      <td>Sat</td>\n",
       "      <td>Dinner</td>\n",
       "      <td>2</td>\n",
       "    </tr>\n",
       "    <tr>\n",
       "      <th>241</th>\n",
       "      <td>22.67</td>\n",
       "      <td>2.00</td>\n",
       "      <td>Male</td>\n",
       "      <td>Yes</td>\n",
       "      <td>Sat</td>\n",
       "      <td>Dinner</td>\n",
       "      <td>2</td>\n",
       "    </tr>\n",
       "    <tr>\n",
       "      <th>242</th>\n",
       "      <td>17.82</td>\n",
       "      <td>1.75</td>\n",
       "      <td>Male</td>\n",
       "      <td>No</td>\n",
       "      <td>Sat</td>\n",
       "      <td>Dinner</td>\n",
       "      <td>2</td>\n",
       "    </tr>\n",
       "    <tr>\n",
       "      <th>243</th>\n",
       "      <td>18.78</td>\n",
       "      <td>3.00</td>\n",
       "      <td>Female</td>\n",
       "      <td>No</td>\n",
       "      <td>Thur</td>\n",
       "      <td>Dinner</td>\n",
       "      <td>2</td>\n",
       "    </tr>\n",
       "  </tbody>\n",
       "</table>\n",
       "<p>244 rows × 7 columns</p>\n",
       "</div>"
      ],
      "text/plain": [
       "     total_bill   tip     sex smoker   day    time  size\n",
       "0         16.99  1.01  Female     No   Sun  Dinner     2\n",
       "1         10.34  1.66    Male     No   Sun  Dinner     3\n",
       "2         21.01  3.50    Male     No   Sun  Dinner     3\n",
       "3         23.68  3.31    Male     No   Sun  Dinner     2\n",
       "4         24.59  3.61  Female     No   Sun  Dinner     4\n",
       "..          ...   ...     ...    ...   ...     ...   ...\n",
       "239       29.03  5.92    Male     No   Sat  Dinner     3\n",
       "240       27.18  2.00  Female    Yes   Sat  Dinner     2\n",
       "241       22.67  2.00    Male    Yes   Sat  Dinner     2\n",
       "242       17.82  1.75    Male     No   Sat  Dinner     2\n",
       "243       18.78  3.00  Female     No  Thur  Dinner     2\n",
       "\n",
       "[244 rows x 7 columns]"
      ]
     },
     "execution_count": 43,
     "metadata": {},
     "output_type": "execute_result"
    }
   ],
   "source": [
    "tip"
   ]
  },
  {
   "cell_type": "code",
   "execution_count": 44,
   "id": "c862d0b4",
   "metadata": {},
   "outputs": [
    {
     "data": {
      "text/plain": [
       "<AxesSubplot:>"
      ]
     },
     "execution_count": 44,
     "metadata": {},
     "output_type": "execute_result"
    },
    {
     "data": {
      "image/png": "[encoded data removed]",
      "text/plain": [
       "<Figure size 640x480 with 1 Axes>"
      ]
     },
     "metadata": {},
     "output_type": "display_data"
    }
   ],
   "source": [
    "tip['tip'].hist()  # hist() : 히스토그램 그래프 출력하는 함수"
   ]
  },
  {
   "cell_type": "code",
   "execution_count": 45,
   "id": "a2cd2f42",
   "metadata": {},
   "outputs": [
    {
     "name": "stderr",
     "output_type": "stream",
     "text": [
      "C:\\Users\\rnrwnsgh\\anaconda3\\lib\\site-packages\\seaborn\\distributions.py:2619: FutureWarning: `distplot` is a deprecated function and will be removed in a future version. Please adapt your code to use either `displot` (a figure-level function with similar flexibility) or `histplot` (an axes-level function for histograms).\n",
      "  warnings.warn(msg, FutureWarning)\n"
     ]
    },
    {
     "data": {
      "text/plain": [
       "<AxesSubplot:xlabel='tip', ylabel='Density'>"
      ]
     },
     "execution_count": 45,
     "metadata": {},
     "output_type": "execute_result"
    },
    {
     "data": {
      "image/png": "[encoded data removed]",
      "text/plain": [
       "<Figure size 640x480 with 1 Axes>"
      ]
     },
     "metadata": {},
     "output_type": "display_data"
    }
   ],
   "source": [
    "sns.distplot(tip['tip'])"
   ]
  },
  {
   "cell_type": "markdown",
   "id": "661361d5",
   "metadata": {},
   "source": [
    "# z스코어 공식\n",
    "\n",
    "- (자료값-평균)/표준편차"
   ]
  },
  {
   "cell_type": "code",
   "execution_count": 46,
   "id": "c959b221",
   "metadata": {},
   "outputs": [],
   "source": [
    "z_tips=(tip['tip'] - np.mean(tip['tip']))/ np.std(tip['tip'])"
   ]
  },
  {
   "cell_type": "code",
   "execution_count": 47,
   "id": "026847d2",
   "metadata": {},
   "outputs": [
    {
     "data": {
      "text/plain": [
       "0     -1.439947\n",
       "1     -0.969205\n",
       "2      0.363356\n",
       "3      0.225754\n",
       "4      0.443020\n",
       "         ...   \n",
       "239    2.115963\n",
       "240   -0.722971\n",
       "241   -0.722971\n",
       "242   -0.904026\n",
       "243    0.001247\n",
       "Name: tip, Length: 244, dtype: float64"
      ]
     },
     "execution_count": 47,
     "metadata": {},
     "output_type": "execute_result"
    }
   ],
   "source": [
    "z_tips"
   ]
  },
  {
   "cell_type": "code",
   "execution_count": 48,
   "id": "0031d942",
   "metadata": {},
   "outputs": [
    {
     "data": {
      "text/plain": [
       "<AxesSubplot:>"
      ]
     },
     "execution_count": 48,
     "metadata": {},
     "output_type": "execute_result"
    },
    {
     "data": {
      "image/png": "[encoded data removed]",
      "text/plain": [
       "<Figure size 640x480 with 1 Axes>"
      ]
     },
     "metadata": {},
     "output_type": "display_data"
    }
   ],
   "source": [
    "z_tips.hist()"
   ]
  },
  {
   "cell_type": "code",
   "execution_count": 49,
   "id": "38fb86f0",
   "metadata": {},
   "outputs": [],
   "source": [
    "z_log_tips=np.log10(tip['tip']) #로그 스케일링을 이용해 정규화도 가능하다"
   ]
  },
  {
   "cell_type": "code",
   "execution_count": 50,
   "id": "25e90558",
   "metadata": {},
   "outputs": [
    {
     "data": {
      "text/plain": [
       "0      0.004321\n",
       "1      0.220108\n",
       "2      0.544068\n",
       "3      0.519828\n",
       "4      0.557507\n",
       "         ...   \n",
       "239    0.772322\n",
       "240    0.301030\n",
       "241    0.301030\n",
       "242    0.243038\n",
       "243    0.477121\n",
       "Name: tip, Length: 244, dtype: float64"
      ]
     },
     "execution_count": 50,
     "metadata": {},
     "output_type": "execute_result"
    }
   ],
   "source": [
    "z_log_tips"
   ]
  },
  {
   "cell_type": "code",
   "execution_count": 51,
   "id": "aeef08b9",
   "metadata": {},
   "outputs": [
    {
     "data": {
      "text/plain": [
       "<AxesSubplot:>"
      ]
     },
     "execution_count": 51,
     "metadata": {},
     "output_type": "execute_result"
    },
    {
     "data": {
      "image/png": "[encoded data removed]",
      "text/plain": [
       "<Figure size 640x480 with 1 Axes>"
      ]
     },
     "metadata": {},
     "output_type": "display_data"
    }
   ],
   "source": [
    "z_log_tips.hist()"
   ]
  },
  {
   "cell_type": "code",
   "execution_count": null,
   "id": "5e511a50",
   "metadata": {},
   "outputs": [],
   "source": []
  }
 ],
 "metadata": {
  "kernelspec": {
   "display_name": "Python 3 (ipykernel)",
   "language": "python",
   "name": "python3"
  },
  "language_info": {
   "codemirror_mode": {
    "name": "ipython",
    "version": 3
   },
   "file_extension": ".py",
   "mimetype": "text/x-python",
   "name": "python",
   "nbconvert_exporter": "python",
   "pygments_lexer": "ipython3",
   "version": "3.9.13"
  }
 },
 "nbformat": 4,
 "nbformat_minor": 5
}
