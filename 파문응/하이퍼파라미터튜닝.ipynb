{
 "cells": [
  {
   "cell_type": "markdown",
   "id": "b5e5225f",
   "metadata": {
    "id": "b5e5225f"
   },
   "source": [
    " ## 하이퍼파라미터 튜닝 정리\n",
    "\n",
    "- BayesianOptimization:\n",
    "\n",
    "    - pbounds: 파라미터의 범위를 정의합니다.\n",
    "    - init_points: 초기 무작위 평가 횟수를 지정합니다.\n",
    "    - n_iter: 최적화를 위한 반복 횟수입니다.\n",
    "    - acq: 획득 함수를 설정합니다. ('ucb', 'ei', 'poi' 등이 있습니다.)\n",
    "\n",
    "- RandomizedSearchCV:\n",
    "\n",
    "    - param_distributions: 검색할 파라미터의 분포를 정의합니다.\n",
    "    - n_iter: 파라미터 설정의 수를 지정합니다.\n",
    "    - scoring: 모델을 평가할 점수 기준입니다.\n",
    "    - cv: 교차 검증 분할 수를 설정합니다.\n",
    "\n",
    "- GridSearchCV:\n",
    "\n",
    "    - param_grid: 파라미터 그리드를 정의하여 검색할 파라미터의 값들을 설정합니다.\n",
    "    - scoring: 평가 방식을 정의합니다.\n",
    "    - cv: 교차 검증을 위한 분할 개수를 지정합니다."
   ]
  },
  {
   "cell_type": "markdown",
   "id": "8bd651dd",
   "metadata": {
    "id": "8bd651dd"
   },
   "source": [
    "## Randomforest 하이퍼파라미터 정리\n",
    "1. **n_estimators**:\n",
    "   - 결정 트리의 개수를 의미합니다.\n",
    "   - 기본값은 100입니다.\n",
    "   - 트리의 수를 늘릴수록 모델의 성능은 일반적으로 향상되지만, 계산 비용도 증가합니다.\n",
    "\n",
    "2. **criterion**:\n",
    "   - 분할의 품질을 측정하는 기능입니다.\n",
    "   - 분류에 사용되는 기준은 \"gini\" (지니 불순도) 또는 \"entropy\" (정보 이득)이 될 수 있습니다.\n",
    "   - 기본값은 \"gini\"입니다.\n",
    "\n",
    "3. **max_depth**:\n",
    "   - 트리의 최대 깊이입니다.\n",
    "   - 너무 깊은 트리는 과적합을 일으킬 수 있습니다.\n",
    "   - 기본값은 None으로, 모든 리프 노드가 순수하거나 min_samples_split보다 적은 수의 샘플을 가질 때까지 노드가 확장됩니다.\n",
    "\n",
    "4. **min_samples_split**:\n",
    "   - 노드를 분할하기 위해 필요한 최소 샘플 수입니다.\n",
    "   - 기본값은 2입니다.\n",
    "\n",
    "5. **min_samples_leaf**:\n",
    "   - 리프 노드가 가져야 하는 최소 샘플 수입니다.\n",
    "   - 기본값은 1입니다.\n",
    "\n",
    "6. **min_weight_fraction_leaf**:\n",
    "   - 리프 노드가 가지고 있어야 하는 샘플의 최소 가중치 합의 비율입니다.\n",
    "   - 기본값은 0입니다.\n",
    "\n",
    "7. **max_features**:\n",
    "   - 각 분할에서 고려할 특성의 수입니다.\n",
    "   - 옵션은 \"auto\", \"sqrt\", \"log2\" 또는 None 또는 정수입니다.\n",
    "   - 기본값은 \"auto\"로, 분류에서는 sqrt(n_features), 회귀에서는 n_features입니다.\n",
    "\n",
    "8. **max_leaf_nodes**:\n",
    "   - 리프 노드의 최대 수입니다.\n",
    "   - 기본값은 None으로, 리프 노드의 수에 제한이 없습니다.\n",
    "\n",
    "9. **min_impurity_decrease**:\n",
    "   - 분할로 인한 불순도 감소량의 최소값입니다.\n",
    "   - 기본값은 0입니다.\n",
    "\n",
    "10. **bootstrap**:\n",
    "    - 부트스트랩 샘플을 사용할지 여부입니다.\n",
    "    - 기본값은 True입니다.\n",
    "\n",
    "11. **oob_score**:\n",
    "    - 일반적으로 사용하지 않는 샘플을 사용하여 오류를 추정할지 여부입니다.\n",
    "    - 기본값은 False입니다.\n",
    "\n",
    "12. **n_jobs**:\n",
    "    - 핏(fit)과 예측(predict)을 위해 병렬로 실행할 작업 수입니다.\n",
    "    - 기본값은 None으로, 1개의 작업만 사용합니다. -1로 설정하면 모든 프로세서를 사용합니다.\n",
    "\n",
    "13. **random_state**:\n",
    "    - 난수 seed 설정입니다.\n",
    "    - 여러 번 실행해도 동일한 결과를 얻기 위해 사용됩니다.\n",
    "\n",
    "14. **verbose**:\n",
    "    - 실행 과정 중 메시지를 출력할지 여부를 설정합니다.\n",
    "    - 기본값은 0으로, 메시지를 출력하지 않습니다.\n",
    "\n",
    "15. **warm_start**:\n",
    "    - 이전 호출의 솔루션을 재사용하여 더 많은 추정기를 학습시킬지 여부입니다.\n",
    "    - 기본값은 False입니다.\n",
    "\n",
    "16. **class_weight**:\n",
    "    - 클래스 가중치입니다.\n",
    "    - 기본값은 None으로,"
   ]
  },
  {
   "cell_type": "code",
   "execution_count": null,
   "id": "1fd2f9df",
   "metadata": {
    "id": "1fd2f9df"
   },
   "outputs": [],
   "source": [
    "import numpy as np\n",
    "import pandas as pd\n",
    "import matplotlib.pyplot as plt\n",
    "import seaborn as sns"
   ]
  },
  {
   "cell_type": "code",
   "execution_count": null,
   "id": "9b59a950",
   "metadata": {
    "id": "9b59a950"
   },
   "outputs": [],
   "source": [
    "df = pd.read_excel('car_evaluation.xlsx')"
   ]
  },
  {
   "cell_type": "code",
   "execution_count": null,
   "id": "e0eb6110",
   "metadata": {
    "id": "e0eb6110",
    "outputId": "e8466ac6-4e31-4699-ef1a-6fbc13124d74"
   },
   "outputs": [
    {
     "data": {
      "text/plain": [
       "unacc    1210\n",
       "acc       384\n",
       "good       69\n",
       "vgood      65\n",
       "Name: class, dtype: int64"
      ]
     },
     "execution_count": 7,
     "metadata": {},
     "output_type": "execute_result"
    }
   ],
   "source": [
    "df['class'].value_counts()"
   ]
  },
  {
   "cell_type": "markdown",
   "id": "e0d4a74c",
   "metadata": {
    "id": "e0d4a74c"
   },
   "source": [
    "- 모델링을 하기 위해서 -> 인코딩 작업을 진행해야 한다."
   ]
  },
  {
   "cell_type": "code",
   "execution_count": null,
   "id": "8a0104ca",
   "metadata": {
    "id": "8a0104ca"
   },
   "outputs": [],
   "source": [
    "#원하는 피처 정리\n",
    "X =df.drop(['class'],axis=1)\n",
    "y =df['class']"
   ]
  },
  {
   "cell_type": "code",
   "execution_count": null,
   "id": "53168e31",
   "metadata": {
    "id": "53168e31"
   },
   "outputs": [],
   "source": [
    "#train, test 나누기!\n",
    "\n",
    "from sklearn.model_selection import train_test_split\n",
    "X_train, X_test, y_train, y_test = train_test_split(X,y, test_size=0.3, random_state=111)"
   ]
  },
  {
   "cell_type": "code",
   "execution_count": null,
   "id": "727341b2",
   "metadata": {
    "id": "727341b2"
   },
   "outputs": [],
   "source": [
    "#인코딩 작업 진행\n",
    "# category_encoder\n",
    "\n",
    "import category_encoders as ce"
   ]
  },
  {
   "cell_type": "code",
   "execution_count": null,
   "id": "a6633e2c",
   "metadata": {
    "id": "a6633e2c",
    "outputId": "f6193278-de63-4deb-a3c4-e878c828f3c3"
   },
   "outputs": [
    {
     "data": {
      "text/plain": [
       "Index(['buying', 'maint', 'doors', 'persons', 'lug_boot', 'safety'], dtype='object')"
      ]
     },
     "execution_count": 20,
     "metadata": {},
     "output_type": "execute_result"
    }
   ],
   "source": [
    "X.columns"
   ]
  },
  {
   "cell_type": "markdown",
   "id": "05a4d499",
   "metadata": {
    "id": "05a4d499"
   },
   "source": [
    "- 레이블 인코딩 개념으로 OrdinalEncoder를 사용하자!"
   ]
  },
  {
   "cell_type": "code",
   "execution_count": null,
   "id": "3dd0fe12",
   "metadata": {
    "id": "3dd0fe12"
   },
   "outputs": [],
   "source": [
    "encoder = ce.OrdinalEncoder(cols= ['buying', 'maint', 'doors', 'persons', 'lug_boot', 'safety'])"
   ]
  },
  {
   "cell_type": "code",
   "execution_count": null,
   "id": "60ade170",
   "metadata": {
    "id": "60ade170"
   },
   "outputs": [],
   "source": [
    "#인코더 모듈로 trian, test 정리\n",
    "X_train=encoder.fit_transform(X_train)\n",
    "X_test =encoder.fit_transform(X_test)"
   ]
  },
  {
   "cell_type": "markdown",
   "id": "054bbb98",
   "metadata": {
    "id": "054bbb98"
   },
   "source": [
    "## RandomForest 모델 진행"
   ]
  },
  {
   "cell_type": "code",
   "execution_count": null,
   "id": "6d81f80d",
   "metadata": {
    "id": "6d81f80d"
   },
   "outputs": [],
   "source": [
    "from sklearn.ensemble import RandomForestClassifier\n",
    "\n",
    "rfc1 = RandomForestClassifier(n_estimators=10, random_state=111) #rfc1모델"
   ]
  },
  {
   "cell_type": "code",
   "execution_count": null,
   "id": "2d1419e5",
   "metadata": {
    "id": "2d1419e5"
   },
   "outputs": [],
   "source": [
    "#학습시키고 예측값 확인\n",
    "\n",
    "rfc1.fit(X_train, y_train)\n",
    "y_pred1_train =rfc1.predict(X_train) #train값 예측\n",
    "y_pred1_test = rfc1.predict(X_test) #test값 예측"
   ]
  },
  {
   "cell_type": "code",
   "execution_count": null,
   "id": "d73dcecf",
   "metadata": {
    "id": "d73dcecf",
    "outputId": "64d1884f-b6a1-418c-b0ab-296bd088afce"
   },
   "outputs": [
    {
     "name": "stdout",
     "output_type": "stream",
     "text": [
      "모델 정확도 train 0.9950\n",
      "모델 정확도 test 0.5087\n"
     ]
    }
   ],
   "source": [
    "#정확도 확인하기\n",
    "#train, test 학습 정확도\n",
    "from sklearn.metrics import accuracy_score\n",
    "print('모델 정확도 train {0:0.4f}'.format(accuracy_score(y_train, y_pred1_train)))\n",
    "print('모델 정확도 test {0:0.4f}'.format(accuracy_score(y_test, y_pred1_test)))"
   ]
  },
  {
   "cell_type": "markdown",
   "id": "35dc3874",
   "metadata": {
    "id": "35dc3874"
   },
   "source": [
    "- 정확도나 다른 평가지표 점수를 개선하기 위해서는\n",
    "- 모델링에서 올릴 수 있다.\n",
    "- 하이퍼파라미터를 튜닝하는 작업 이전에 -> 모델에 하이퍼파라미터를 이용해서 성능을 올리고, 올린다는 것이 확인이 되면\n",
    "- 그 하이퍼파라미터가 어떤 값이 최적인지를 찾기 위해서 -> 서치작업을 진행하는 것 !"
   ]
  },
  {
   "cell_type": "markdown",
   "id": "90fc3e7a",
   "metadata": {
    "id": "90fc3e7a"
   },
   "source": [
    "## RF 모델의 튜닝을 통해 정확도가 올라가는지 확인해 보자!"
   ]
  },
  {
   "cell_type": "code",
   "execution_count": null,
   "id": "06af8571",
   "metadata": {
    "id": "06af8571"
   },
   "outputs": [],
   "source": [
    "rfc2 = RandomForestClassifier(n_estimators=200, random_state=111) #rfc1모델\n",
    "\n",
    "\n",
    "rfc2.fit(X_train, y_train)\n",
    "y_pred2_train =rfc2.predict(X_train) #train값 예측\n",
    "y_pred2_test = rfc2.predict(X_test) #test값 예측"
   ]
  },
  {
   "cell_type": "code",
   "execution_count": null,
   "id": "51ca7d60",
   "metadata": {
    "id": "51ca7d60",
    "outputId": "964d09a1-90ab-4b63-95c0-1f7f9481761e"
   },
   "outputs": [
    {
     "name": "stdout",
     "output_type": "stream",
     "text": [
      "모델 정확도 train 1.0000\n",
      "모델 정확도 test 0.5106\n"
     ]
    }
   ],
   "source": [
    "#정확도 확인하기 rfc2\n",
    "#train, test 학습 정확도 (하이퍼파라미터를 200개 조정)\n",
    "from sklearn.metrics import accuracy_score\n",
    "print('모델 정확도 train {0:0.4f}'.format(accuracy_score(y_train, y_pred2_train)))\n",
    "print('모델 정확도 test {0:0.4f}'.format(accuracy_score(y_test, y_pred2_test)))"
   ]
  },
  {
   "cell_type": "markdown",
   "id": "7d05f8c5",
   "metadata": {
    "id": "7d05f8c5"
   },
   "source": [
    "### max_depth를 조정해서 추가로 다시 작업"
   ]
  },
  {
   "cell_type": "code",
   "execution_count": null,
   "id": "3400f567",
   "metadata": {
    "id": "3400f567"
   },
   "outputs": [],
   "source": [
    "rfc3 = RandomForestClassifier(n_estimators=200, max_depth=5 ,random_state=111) #rfc1모델\n",
    "\n",
    "rfc3.fit(X_train, y_train)\n",
    "y_pred3_train =rfc3.predict(X_train) #train값 예측\n",
    "y_pred3_test = rfc3.predict(X_test) #test값 예측"
   ]
  },
  {
   "cell_type": "code",
   "execution_count": null,
   "id": "815d1cd1",
   "metadata": {
    "id": "815d1cd1",
    "outputId": "79297d36-c91b-4b14-813a-a09c315e7d48"
   },
   "outputs": [
    {
     "name": "stdout",
     "output_type": "stream",
     "text": [
      "모델 정확도 train 0.8147\n",
      "모델 정확도 test 0.5896\n"
     ]
    }
   ],
   "source": [
    "#정확도 확인하기 rfc3\n",
    "#train, test 학습 정확도 (하이퍼파라미터를 200개 조정, max_depth= 5로 조정)\n",
    "from sklearn.metrics import accuracy_score\n",
    "print('모델 정확도 train {0:0.4f}'.format(accuracy_score(y_train, y_pred3_train)))\n",
    "print('모델 정확도 test {0:0.4f}'.format(accuracy_score(y_test, y_pred3_test)))"
   ]
  },
  {
   "cell_type": "markdown",
   "id": "24209812",
   "metadata": {
    "id": "24209812"
   },
   "source": [
    "## RF의 피처 중요도 확인하기"
   ]
  },
  {
   "cell_type": "code",
   "execution_count": null,
   "id": "8dd1237b",
   "metadata": {
    "id": "8dd1237b"
   },
   "outputs": [],
   "source": [
    "feature_score = pd.Series(rfc3.feature_importances_, index= X_train.columns).sort_values(ascending=False)"
   ]
  },
  {
   "cell_type": "code",
   "execution_count": null,
   "id": "1fead7cb",
   "metadata": {
    "id": "1fead7cb",
    "outputId": "fbc7aad8-9e65-4ee4-852a-ac1632072d28"
   },
   "outputs": [
    {
     "data": {
      "text/plain": [
       "safety      0.374250\n",
       "persons     0.344959\n",
       "buying      0.102883\n",
       "maint       0.084194\n",
       "lug_boot    0.064433\n",
       "doors       0.029281\n",
       "dtype: float64"
      ]
     },
     "execution_count": 41,
     "metadata": {},
     "output_type": "execute_result"
    }
   ],
   "source": [
    "feature_score"
   ]
  },
  {
   "cell_type": "code",
   "execution_count": null,
   "id": "7b1ca605",
   "metadata": {
    "id": "7b1ca605",
    "outputId": "948aaede-3e6a-492d-d709-3891f4cfec85"
   },
   "outputs": [
    {
     "data": {
      "text/plain": [
       "<Axes: >"
      ]
     },
     "execution_count": 42,
     "metadata": {},
     "output_type": "execute_result"
    },
    {
     "data": {
      "image/png": "[encoded data removed]",
      "text/plain": [
       "<Figure size 640x480 with 1 Axes>"
      ]
     },
     "metadata": {},
     "output_type": "display_data"
    }
   ],
   "source": [
    "sns.barplot(x= feature_score, y=feature_score.index)"
   ]
  },
  {
   "cell_type": "markdown",
   "id": "69e088b5",
   "metadata": {
    "id": "69e088b5"
   },
   "source": [
    "- 정확도 외에 다른 값들도 한 번 비교해 보자!"
   ]
  },
  {
   "cell_type": "code",
   "execution_count": null,
   "id": "7d560396",
   "metadata": {
    "id": "7d560396"
   },
   "outputs": [],
   "source": [
    "#평가지표를 확인하기 위한 모듈\n",
    "from sklearn.metrics import confusion_matrix\n",
    "from sklearn.metrics import classification_report"
   ]
  },
  {
   "cell_type": "code",
   "execution_count": null,
   "id": "a43cb9ee",
   "metadata": {
    "id": "a43cb9ee",
    "outputId": "c13618c6-ae7e-4368-f9f1-a9f2e0822429"
   },
   "outputs": [
    {
     "data": {
      "text/plain": [
       "unacc    1210\n",
       "acc       384\n",
       "good       69\n",
       "vgood      65\n",
       "Name: class, dtype: int64"
      ]
     },
     "execution_count": 45,
     "metadata": {},
     "output_type": "execute_result"
    }
   ],
   "source": [
    "df['class'].value_counts()"
   ]
  },
  {
   "cell_type": "code",
   "execution_count": null,
   "id": "3800f488",
   "metadata": {
    "id": "3800f488",
    "outputId": "02e49dcf-bcbf-4dc4-8f3f-1734ad819a2c",
    "scrolled": true
   },
   "outputs": [
    {
     "name": "stdout",
     "output_type": "stream",
     "text": [
      "              precision    recall  f1-score   support\n",
      "\n",
      "         acc       0.11      0.11      0.11       104\n",
      "        good       0.00      0.00      0.00        22\n",
      "       unacc       0.70      0.79      0.74       372\n",
      "       vgood       0.00      0.00      0.00        21\n",
      "\n",
      "    accuracy                           0.59       519\n",
      "   macro avg       0.20      0.22      0.21       519\n",
      "weighted avg       0.52      0.59      0.55       519\n",
      "\n"
     ]
    },
    {
     "name": "stderr",
     "output_type": "stream",
     "text": [
      "/opt/anaconda3/envs/bda/lib/python3.8/site-packages/sklearn/metrics/_classification.py:1471: UndefinedMetricWarning: Precision and F-score are ill-defined and being set to 0.0 in labels with no predicted samples. Use `zero_division` parameter to control this behavior.\n",
      "  _warn_prf(average, modifier, msg_start, len(result))\n",
      "/opt/anaconda3/envs/bda/lib/python3.8/site-packages/sklearn/metrics/_classification.py:1471: UndefinedMetricWarning: Precision and F-score are ill-defined and being set to 0.0 in labels with no predicted samples. Use `zero_division` parameter to control this behavior.\n",
      "  _warn_prf(average, modifier, msg_start, len(result))\n",
      "/opt/anaconda3/envs/bda/lib/python3.8/site-packages/sklearn/metrics/_classification.py:1471: UndefinedMetricWarning: Precision and F-score are ill-defined and being set to 0.0 in labels with no predicted samples. Use `zero_division` parameter to control this behavior.\n",
      "  _warn_prf(average, modifier, msg_start, len(result))\n"
     ]
    }
   ],
   "source": [
    "print(classification_report(y_test, y_pred3_test))"
   ]
  },
  {
   "cell_type": "markdown",
   "id": "3e561944",
   "metadata": {
    "id": "3e561944"
   },
   "source": [
    "## RF 하이퍼파라미터 튜닝 -> Search 작업을 진행\n",
    "\n",
    "- GridSearch\n",
    "- BayesianOpimization"
   ]
  },
  {
   "cell_type": "code",
   "execution_count": null,
   "id": "8bfccea6",
   "metadata": {
    "id": "8bfccea6",
    "outputId": "29d423ac-feeb-40bf-e084-29a12fa10fe9"
   },
   "outputs": [
    {
     "data": {
      "text/html": [
       "<style>#sk-container-id-3 {color: black;}#sk-container-id-3 pre{padding: 0;}#sk-container-id-3 div.sk-toggleable {background-color: white;}#sk-container-id-3 label.sk-toggleable__label {cursor: pointer;display: block;width: 100%;margin-bottom: 0;padding: 0.3em;box-sizing: border-box;text-align: center;}#sk-container-id-3 label.sk-toggleable__label-arrow:before {content: \"▸\";float: left;margin-right: 0.25em;color: #696969;}#sk-container-id-3 label.sk-toggleable__label-arrow:hover:before {color: black;}#sk-container-id-3 div.sk-estimator:hover label.sk-toggleable__label-arrow:before {color: black;}#sk-container-id-3 div.sk-toggleable__content {max-height: 0;max-width: 0;overflow: hidden;text-align: left;background-color: #f0f8ff;}#sk-container-id-3 div.sk-toggleable__content pre {margin: 0.2em;color: black;border-radius: 0.25em;background-color: #f0f8ff;}#sk-container-id-3 input.sk-toggleable__control:checked~div.sk-toggleable__content {max-height: 200px;max-width: 100%;overflow: auto;}#sk-container-id-3 input.sk-toggleable__control:checked~label.sk-toggleable__label-arrow:before {content: \"▾\";}#sk-container-id-3 div.sk-estimator input.sk-toggleable__control:checked~label.sk-toggleable__label {background-color: #d4ebff;}#sk-container-id-3 div.sk-label input.sk-toggleable__control:checked~label.sk-toggleable__label {background-color: #d4ebff;}#sk-container-id-3 input.sk-hidden--visually {border: 0;clip: rect(1px 1px 1px 1px);clip: rect(1px, 1px, 1px, 1px);height: 1px;margin: -1px;overflow: hidden;padding: 0;position: absolute;width: 1px;}#sk-container-id-3 div.sk-estimator {font-family: monospace;background-color: #f0f8ff;border: 1px dotted black;border-radius: 0.25em;box-sizing: border-box;margin-bottom: 0.5em;}#sk-container-id-3 div.sk-estimator:hover {background-color: #d4ebff;}#sk-container-id-3 div.sk-parallel-item::after {content: \"\";width: 100%;border-bottom: 1px solid gray;flex-grow: 1;}#sk-container-id-3 div.sk-label:hover label.sk-toggleable__label {background-color: #d4ebff;}#sk-container-id-3 div.sk-serial::before {content: \"\";position: absolute;border-left: 1px solid gray;box-sizing: border-box;top: 0;bottom: 0;left: 50%;z-index: 0;}#sk-container-id-3 div.sk-serial {display: flex;flex-direction: column;align-items: center;background-color: white;padding-right: 0.2em;padding-left: 0.2em;position: relative;}#sk-container-id-3 div.sk-item {position: relative;z-index: 1;}#sk-container-id-3 div.sk-parallel {display: flex;align-items: stretch;justify-content: center;background-color: white;position: relative;}#sk-container-id-3 div.sk-item::before, #sk-container-id-3 div.sk-parallel-item::before {content: \"\";position: absolute;border-left: 1px solid gray;box-sizing: border-box;top: 0;bottom: 0;left: 50%;z-index: -1;}#sk-container-id-3 div.sk-parallel-item {display: flex;flex-direction: column;z-index: 1;position: relative;background-color: white;}#sk-container-id-3 div.sk-parallel-item:first-child::after {align-self: flex-end;width: 50%;}#sk-container-id-3 div.sk-parallel-item:last-child::after {align-self: flex-start;width: 50%;}#sk-container-id-3 div.sk-parallel-item:only-child::after {width: 0;}#sk-container-id-3 div.sk-dashed-wrapped {border: 1px dashed gray;margin: 0 0.4em 0.5em 0.4em;box-sizing: border-box;padding-bottom: 0.4em;background-color: white;}#sk-container-id-3 div.sk-label label {font-family: monospace;font-weight: bold;display: inline-block;line-height: 1.2em;}#sk-container-id-3 div.sk-label-container {text-align: center;}#sk-container-id-3 div.sk-container {/* jupyter's `normalize.less` sets `[hidden] { display: none; }` but bootstrap.min.css set `[hidden] { display: none !important; }` so we also need the `!important` here to be able to override the default hidden behavior on the sphinx rendered scikit-learn.org. See: https://github.com/scikit-learn/scikit-learn/issues/21755 */display: inline-block !important;position: relative;}#sk-container-id-3 div.sk-text-repr-fallback {display: none;}</style><div id=\"sk-container-id-3\" class=\"sk-top-container\"><div class=\"sk-text-repr-fallback\"><pre>GridSearchCV(cv=5,\n",
       "             estimator=RandomForestClassifier(n_estimators=200,\n",
       "                                              random_state=111),\n",
       "             param_grid={&#x27;max_depth&#x27;: [5, 10, 15],\n",
       "                         &#x27;min_samples_leaf&#x27;: [1, 5, 10]})</pre><b>In a Jupyter environment, please rerun this cell to show the HTML representation or trust the notebook. <br />On GitHub, the HTML representation is unable to render, please try loading this page with nbviewer.org.</b></div><div class=\"sk-container\" hidden><div class=\"sk-item sk-dashed-wrapped\"><div class=\"sk-label-container\"><div class=\"sk-label sk-toggleable\"><input class=\"sk-toggleable__control sk-hidden--visually\" id=\"sk-estimator-id-3\" type=\"checkbox\" ><label for=\"sk-estimator-id-3\" class=\"sk-toggleable__label sk-toggleable__label-arrow\">GridSearchCV</label><div class=\"sk-toggleable__content\"><pre>GridSearchCV(cv=5,\n",
       "             estimator=RandomForestClassifier(n_estimators=200,\n",
       "                                              random_state=111),\n",
       "             param_grid={&#x27;max_depth&#x27;: [5, 10, 15],\n",
       "                         &#x27;min_samples_leaf&#x27;: [1, 5, 10]})</pre></div></div></div><div class=\"sk-parallel\"><div class=\"sk-parallel-item\"><div class=\"sk-item\"><div class=\"sk-label-container\"><div class=\"sk-label sk-toggleable\"><input class=\"sk-toggleable__control sk-hidden--visually\" id=\"sk-estimator-id-4\" type=\"checkbox\" ><label for=\"sk-estimator-id-4\" class=\"sk-toggleable__label sk-toggleable__label-arrow\">estimator: RandomForestClassifier</label><div class=\"sk-toggleable__content\"><pre>RandomForestClassifier(n_estimators=200, random_state=111)</pre></div></div></div><div class=\"sk-serial\"><div class=\"sk-item\"><div class=\"sk-estimator sk-toggleable\"><input class=\"sk-toggleable__control sk-hidden--visually\" id=\"sk-estimator-id-5\" type=\"checkbox\" ><label for=\"sk-estimator-id-5\" class=\"sk-toggleable__label sk-toggleable__label-arrow\">RandomForestClassifier</label><div class=\"sk-toggleable__content\"><pre>RandomForestClassifier(n_estimators=200, random_state=111)</pre></div></div></div></div></div></div></div></div></div></div>"
      ],
      "text/plain": [
       "GridSearchCV(cv=5,\n",
       "             estimator=RandomForestClassifier(n_estimators=200,\n",
       "                                              random_state=111),\n",
       "             param_grid={'max_depth': [5, 10, 15],\n",
       "                         'min_samples_leaf': [1, 5, 10]})"
      ]
     },
     "execution_count": 51,
     "metadata": {},
     "output_type": "execute_result"
    }
   ],
   "source": [
    "from sklearn.model_selection import GridSearchCV #이 모듈을 통해서 서칭을 하는 것\n",
    "\n",
    "#하이퍼 파라미터를 지정, 그 안에 값을 grid range를 설정해서 줘야 한다.\n",
    "\n",
    "params = {\n",
    "    'max_depth':[5,10,15],\n",
    "    'min_samples_leaf':[1,5,10]\n",
    "}\n",
    "\n",
    "rf_clf = RandomForestClassifier(n_estimators=200, random_state=111)\n",
    "grid_cv = GridSearchCV(rf_clf, param_grid = params, cv= 5 )\n",
    "grid_cv.fit(X_train, y_train)"
   ]
  },
  {
   "cell_type": "code",
   "execution_count": null,
   "id": "83013682",
   "metadata": {
    "id": "83013682",
    "outputId": "5c391980-c1fd-42d5-9e79-00828fdbac31"
   },
   "outputs": [
    {
     "data": {
      "text/plain": [
       "{'max_depth': [5, 10, 15], 'min_samples_leaf': [1, 5, 10]}"
      ]
     },
     "execution_count": 49,
     "metadata": {},
     "output_type": "execute_result"
    }
   ],
   "source": [
    "params"
   ]
  },
  {
   "cell_type": "code",
   "execution_count": null,
   "id": "520cf689",
   "metadata": {
    "id": "520cf689",
    "outputId": "bc7874b9-24dc-464f-e335-3081faea3b77"
   },
   "outputs": [
    {
     "name": "stdout",
     "output_type": "stream",
     "text": [
      "{'max_depth': 15, 'min_samples_leaf': 1}\n"
     ]
    }
   ],
   "source": [
    "print(grid_cv.best_params_)"
   ]
  },
  {
   "cell_type": "code",
   "execution_count": null,
   "id": "06498e9e",
   "metadata": {
    "id": "06498e9e",
    "outputId": "061ecc76-425c-40a1-8eb7-cc581fccda21"
   },
   "outputs": [
    {
     "name": "stdout",
     "output_type": "stream",
     "text": [
      "0.8776\n"
     ]
    }
   ],
   "source": [
    "print('{0:.4f}'.format(grid_cv.best_score_))"
   ]
  },
  {
   "cell_type": "code",
   "execution_count": null,
   "id": "87a76e65",
   "metadata": {
    "id": "87a76e65"
   },
   "outputs": [],
   "source": [
    "rfc4 = RandomForestClassifier(n_estimators=200, max_depth=15, min_samples_leaf=1 ,random_state=111) #rfc1모델\n",
    "\n",
    "rfc4.fit(X_train, y_train)\n",
    "y_pred4_train =rfc4.predict(X_train) #train값 예측\n",
    "y_pred4_test = rfc4.predict(X_test) #test값 예측"
   ]
  },
  {
   "cell_type": "code",
   "execution_count": null,
   "id": "1fe3db40",
   "metadata": {
    "id": "1fe3db40",
    "outputId": "efc694e8-278d-4a75-a80f-f8c5b94186e7"
   },
   "outputs": [
    {
     "name": "stdout",
     "output_type": "stream",
     "text": [
      "모델 정확도 train 1.0000\n",
      "모델 정확도 test 0.5106\n"
     ]
    }
   ],
   "source": [
    "#정확도 확인하기 rfc4 하이퍼파라미터 튜닝한 값\n",
    "#train, test 학습 정확도 (하이퍼파라미터를 200개 조정, max_depth= 15로 조정, min_samples_leaf=1)\n",
    "from sklearn.metrics import accuracy_score\n",
    "print('모델 정확도 train {0:0.4f}'.format(accuracy_score(y_train, y_pred4_train)))\n",
    "print('모델 정확도 test {0:0.4f}'.format(accuracy_score(y_test, y_pred4_test)))"
   ]
  },
  {
   "cell_type": "markdown",
   "id": "060e524f",
   "metadata": {
    "id": "060e524f"
   },
   "source": [
    "- ### 필수과제1번의 상황\n",
    "- 이런 경우는?\n",
    "- 이런 식으로 오히려 성능이 떨어지는 값이 나왔다?\n",
    "- 하이퍼파라미터를 다시 조정해서 기준값을 간격을 좁히는 방법\n",
    "- 다시 한 번 하나의 rfc를 튜닝한 값을 돌려서 grid에 첫 학습지점을 변경해 준다."
   ]
  },
  {
   "cell_type": "code",
   "execution_count": null,
   "id": "0779c35e",
   "metadata": {
    "id": "0779c35e"
   },
   "outputs": [],
   "source": [
    "#베이지안에 필요한 모듈 불러오기\n",
    "from bayes_opt import BayesianOptimization\n",
    "from sklearn.model_selection import cross_val_score"
   ]
  },
  {
   "cell_type": "code",
   "execution_count": null,
   "id": "e41f002c",
   "metadata": {
    "id": "e41f002c"
   },
   "outputs": [],
   "source": [
    "# 하나의 함수를 만들어서 베이지안 그리드 진행\n",
    "\n",
    "def rf_eval(n_estimators, max_depth, min_samples_leaf):\n",
    "    rfc = RandomForestClassifier(\n",
    "    n_estimators = int(n_estimators),\n",
    "    max_depth = int(max_depth),\n",
    "    min_samples_leaf = int(min_samples_leaf))\n",
    "\n",
    "    return cross_val_score(rfc, X_train, y_train, scoring= 'accuracy', cv=5).mean()\n",
    "\n",
    "optimizer = BayesianOptimization(\n",
    "                f = rf_eval,\n",
    "                pbounds={\n",
    "                    'n_estimators':(100,300),\n",
    "                    'max_depth':(10,30),\n",
    "                    'min_samples_leaf':(2,10),\n",
    "                }, random_state=111)"
   ]
  },
  {
   "cell_type": "code",
   "execution_count": null,
   "id": "6e87f9d9",
   "metadata": {
    "id": "6e87f9d9",
    "outputId": "2b0e3c2a-b92c-4b28-c4c2-865b3304e8ac"
   },
   "outputs": [
    {
     "name": "stdout",
     "output_type": "stream",
     "text": [
      "|   iter    |  target   | max_depth | min_sa... | n_esti... |\n",
      "-------------------------------------------------------------\n",
      "| \u001b[0m1        \u001b[0m | \u001b[0m0.8536   \u001b[0m | \u001b[0m22.24    \u001b[0m | \u001b[0m3.353    \u001b[0m | \u001b[0m187.2    \u001b[0m |\n",
      "| \u001b[0m2        \u001b[0m | \u001b[0m0.8313   \u001b[0m | \u001b[0m25.39    \u001b[0m | \u001b[0m4.363    \u001b[0m | \u001b[0m129.8    \u001b[0m |\n",
      "| \u001b[0m3        \u001b[0m | \u001b[0m0.8188   \u001b[0m | \u001b[0m10.45    \u001b[0m | \u001b[0m5.362    \u001b[0m | \u001b[0m147.7    \u001b[0m |\n",
      "| \u001b[0m4        \u001b[0m | \u001b[0m0.8023   \u001b[0m | \u001b[0m16.75    \u001b[0m | \u001b[0m9.926    \u001b[0m | \u001b[0m147.5    \u001b[0m |\n",
      "| \u001b[0m5        \u001b[0m | \u001b[0m0.8098   \u001b[0m | \u001b[0m11.62    \u001b[0m | \u001b[0m7.357    \u001b[0m | \u001b[0m224.2    \u001b[0m |\n",
      "| \u001b[95m6        \u001b[0m | \u001b[95m0.861    \u001b[0m | \u001b[95m28.47    \u001b[0m | \u001b[95m2.0      \u001b[0m | \u001b[95m187.3    \u001b[0m |\n",
      "| \u001b[0m7        \u001b[0m | \u001b[0m0.794    \u001b[0m | \u001b[0m30.0     \u001b[0m | \u001b[0m10.0     \u001b[0m | \u001b[0m196.7    \u001b[0m |\n",
      "| \u001b[0m8        \u001b[0m | \u001b[0m0.8594   \u001b[0m | \u001b[0m26.55    \u001b[0m | \u001b[0m2.0      \u001b[0m | \u001b[0m181.6    \u001b[0m |\n",
      "| \u001b[0m9        \u001b[0m | \u001b[0m0.861    \u001b[0m | \u001b[0m14.98    \u001b[0m | \u001b[0m2.0      \u001b[0m | \u001b[0m177.0    \u001b[0m |\n",
      "| \u001b[0m10       \u001b[0m | \u001b[0m0.7957   \u001b[0m | \u001b[0m10.48    \u001b[0m | \u001b[0m9.876    \u001b[0m | \u001b[0m180.2    \u001b[0m |\n",
      "| \u001b[0m11       \u001b[0m | \u001b[0m0.8594   \u001b[0m | \u001b[0m21.24    \u001b[0m | \u001b[0m2.0      \u001b[0m | \u001b[0m174.2    \u001b[0m |\n",
      "| \u001b[95m12       \u001b[0m | \u001b[95m0.8635   \u001b[0m | \u001b[95m14.07    \u001b[0m | \u001b[95m2.0      \u001b[0m | \u001b[95m167.9    \u001b[0m |\n",
      "| \u001b[95m13       \u001b[0m | \u001b[95m0.8635   \u001b[0m | \u001b[95m30.0     \u001b[0m | \u001b[95m2.0      \u001b[0m | \u001b[95m164.6    \u001b[0m |\n",
      "| \u001b[0m14       \u001b[0m | \u001b[0m0.7973   \u001b[0m | \u001b[0m30.0     \u001b[0m | \u001b[0m10.0     \u001b[0m | \u001b[0m169.8    \u001b[0m |\n",
      "| \u001b[0m15       \u001b[0m | \u001b[0m0.8594   \u001b[0m | \u001b[0m21.82    \u001b[0m | \u001b[0m2.0      \u001b[0m | \u001b[0m163.5    \u001b[0m |\n",
      "| \u001b[95m16       \u001b[0m | \u001b[95m0.8644   \u001b[0m | \u001b[95m28.69    \u001b[0m | \u001b[95m2.07     \u001b[0m | \u001b[95m155.2    \u001b[0m |\n",
      "| \u001b[0m17       \u001b[0m | \u001b[0m0.8395   \u001b[0m | \u001b[0m29.45    \u001b[0m | \u001b[0m4.57     \u001b[0m | \u001b[0m299.7    \u001b[0m |\n",
      "| \u001b[0m18       \u001b[0m | \u001b[0m0.804    \u001b[0m | \u001b[0m11.61    \u001b[0m | \u001b[0m8.522    \u001b[0m | \u001b[0m287.7    \u001b[0m |\n",
      "| \u001b[0m19       \u001b[0m | \u001b[0m0.8453   \u001b[0m | \u001b[0m10.11    \u001b[0m | \u001b[0m3.857    \u001b[0m | \u001b[0m100.4    \u001b[0m |\n",
      "| \u001b[0m20       \u001b[0m | \u001b[0m0.804    \u001b[0m | \u001b[0m23.75    \u001b[0m | \u001b[0m9.844    \u001b[0m | \u001b[0m100.0    \u001b[0m |\n",
      "| \u001b[0m21       \u001b[0m | \u001b[0m0.8478   \u001b[0m | \u001b[0m10.28    \u001b[0m | \u001b[0m3.181    \u001b[0m | \u001b[0m114.6    \u001b[0m |\n",
      "| \u001b[0m22       \u001b[0m | \u001b[0m0.861    \u001b[0m | \u001b[0m29.29    \u001b[0m | \u001b[0m2.331    \u001b[0m | \u001b[0m256.1    \u001b[0m |\n",
      "| \u001b[0m23       \u001b[0m | \u001b[0m0.804    \u001b[0m | \u001b[0m23.59    \u001b[0m | \u001b[0m9.97     \u001b[0m | \u001b[0m256.1    \u001b[0m |\n",
      "| \u001b[0m24       \u001b[0m | \u001b[0m0.8122   \u001b[0m | \u001b[0m30.0     \u001b[0m | \u001b[0m6.714    \u001b[0m | \u001b[0m158.6    \u001b[0m |\n",
      "| \u001b[0m25       \u001b[0m | \u001b[0m0.8395   \u001b[0m | \u001b[0m18.79    \u001b[0m | \u001b[0m3.591    \u001b[0m | \u001b[0m169.2    \u001b[0m |\n",
      "=============================================================\n"
     ]
    }
   ],
   "source": [
    "optimizer.maximize(n_iter=20, init_points=5)"
   ]
  },
  {
   "cell_type": "markdown",
   "id": "d0145571",
   "metadata": {
    "id": "d0145571"
   },
   "source": [
    "## 필수과제1\n",
    "- GridSearchCV에 성능이 모델 정확도 test 0.5106 더 안 좋아진 상황\n",
    "- GridSearchCV의 성능을 더 올리기 위해서 하이퍼파라미터를 찾고 -> 실제로 0.5106보다 더 높은 성능을 보여주는 하이퍼파라미터 값을 찾아주세요!\n",
    "- 하이퍼파라미터는 기존의 3개 외에 추가하실 분은 더 추가하셔도 됩니다!"
   ]
  },
  {
   "cell_type": "code",
   "execution_count": null,
   "id": "97238cc4",
   "metadata": {
    "id": "97238cc4"
   },
   "outputs": [],
   "source": []
  }
 ],
 "metadata": {
  "colab": {
   "provenance": []
  },
  "kernelspec": {
   "display_name": "Python 3 (ipykernel)",
   "language": "python",
   "name": "python3"
  },
  "language_info": {
   "codemirror_mode": {
    "name": "ipython",
    "version": 3
   },
   "file_extension": ".py",
   "mimetype": "text/x-python",
   "name": "python",
   "nbconvert_exporter": "python",
   "pygments_lexer": "ipython3",
   "version": "3.12.4"
  }
 },
 "nbformat": 4,
 "nbformat_minor": 5
}
